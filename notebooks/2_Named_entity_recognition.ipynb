{
  "cells": [
    {
      "cell_type": "markdown",
      "metadata": {
        "id": "view-in-github",
        "colab_type": "text"
      },
      "source": [
        "<a href=\"https://colab.research.google.com/github/jdasam/aat3020-2023/blob/main/notebooks/2_Named_entity_recognition.ipynb\" target=\"_parent\"><img src=\"https://colab.research.google.com/assets/colab-badge.svg\" alt=\"Open In Colab\"/></a>"
      ]
    },
    {
      "cell_type": "markdown",
      "metadata": {
        "id": "45a2da87"
      },
      "source": [
        "# Named Entity Recognition\n",
        "- For a given word and its context window, estimate whether the given word is location or not"
      ]
    },
    {
      "cell_type": "markdown",
      "metadata": {
        "id": "11619f5d"
      },
      "source": [
        "# 1. Download dataset\n",
        "- CoNLL2003 "
      ]
    },
    {
      "cell_type": "code",
      "execution_count": 1,
      "metadata": {
        "vscode": {
          "languageId": "python"
        },
        "colab": {
          "base_uri": "https://localhost:8080/"
        },
        "id": "10a4faa3",
        "outputId": "a12bd582-5e63-4077-a82b-dc76c096067c"
      },
      "outputs": [
        {
          "output_type": "stream",
          "name": "stdout",
          "text": [
            "--2023-04-04 06:30:47--  https://data.deepai.org/conll2003.zip\n",
            "Resolving data.deepai.org (data.deepai.org)... 169.150.236.100, 2400:52e0:1a00::845:1\n",
            "Connecting to data.deepai.org (data.deepai.org)|169.150.236.100|:443... connected.\n",
            "HTTP request sent, awaiting response... 200 OK\n",
            "Length: 982975 (960K) [application/zip]\n",
            "Saving to: ‘conll2003.zip’\n",
            "\n",
            "conll2003.zip       100%[===================>] 959.94K  4.86MB/s    in 0.2s    \n",
            "\n",
            "2023-04-04 06:30:47 (4.86 MB/s) - ‘conll2003.zip’ saved [982975/982975]\n",
            "\n",
            "Archive:  conll2003.zip\n",
            "  inflating: metadata                \n",
            "  inflating: test.txt                \n",
            "  inflating: train.txt               \n",
            "  inflating: valid.txt               \n"
          ]
        }
      ],
      "source": [
        "!wget https://data.deepai.org/conll2003.zip # Download dataset\n",
        "!unzip conll2003.zip # Unzip dataset zip"
      ]
    },
    {
      "cell_type": "markdown",
      "metadata": {
        "id": "7643dde5"
      },
      "source": [
        "## 2. Preprocess Dataset"
      ]
    },
    {
      "cell_type": "code",
      "execution_count": 2,
      "metadata": {
        "vscode": {
          "languageId": "python"
        },
        "colab": {
          "base_uri": "https://localhost:8080/"
        },
        "id": "d31874b2",
        "outputId": "ad3f6c53-d1b1-4292-e47a-f23992413b3a"
      },
      "outputs": [
        {
          "output_type": "execute_result",
          "data": {
            "text/plain": [
              "['-DOCSTART- -X- -X- O',\n",
              " '',\n",
              " 'EU NNP B-NP B-ORG',\n",
              " 'rejects VBZ B-VP O',\n",
              " 'German JJ B-NP B-MISC',\n",
              " 'call NN I-NP O',\n",
              " 'to TO B-VP O',\n",
              " 'boycott VB I-VP O',\n",
              " 'British JJ B-NP B-MISC',\n",
              " 'lamb NN I-NP O',\n",
              " '. . O O',\n",
              " '',\n",
              " 'Peter NNP B-NP B-PER',\n",
              " 'Blackburn NNP I-NP I-PER',\n",
              " '',\n",
              " 'BRUSSELS NNP B-NP B-LOC',\n",
              " '1996-08-22 CD I-NP O',\n",
              " '',\n",
              " 'The DT B-NP O',\n",
              " 'European NNP I-NP B-ORG',\n",
              " 'Commission NNP I-NP I-ORG',\n",
              " 'said VBD B-VP O',\n",
              " 'on IN B-PP O',\n",
              " 'Thursday NNP B-NP O',\n",
              " 'it PRP B-NP O',\n",
              " 'disagreed VBD B-VP O',\n",
              " 'with IN B-PP O',\n",
              " 'German JJ B-NP B-MISC',\n",
              " 'advice NN I-NP O',\n",
              " 'to TO B-PP O',\n",
              " 'consumers NNS B-NP O',\n",
              " 'to TO B-VP O',\n",
              " 'shun VB I-VP O',\n",
              " 'British JJ B-NP B-MISC',\n",
              " 'lamb NN I-NP O',\n",
              " 'until IN B-SBAR O',\n",
              " 'scientists NNS B-NP O',\n",
              " 'determine VBP B-VP O',\n",
              " 'whether IN B-SBAR O',\n",
              " 'mad JJ B-NP O',\n",
              " 'cow NN I-NP O',\n",
              " 'disease NN I-NP O',\n",
              " 'can MD B-VP O',\n",
              " 'be VB I-VP O',\n",
              " 'transmitted VBN I-VP O',\n",
              " 'to TO B-PP O',\n",
              " 'sheep NN B-NP O',\n",
              " '. . O O',\n",
              " '',\n",
              " 'Germany NNP B-NP B-LOC',\n",
              " \"'s POS B-NP O\",\n",
              " 'representative NN I-NP O',\n",
              " 'to TO B-PP O',\n",
              " 'the DT B-NP O',\n",
              " 'European NNP I-NP B-ORG',\n",
              " 'Union NNP I-NP I-ORG',\n",
              " \"'s POS B-NP O\",\n",
              " 'veterinary JJ I-NP O',\n",
              " 'committee NN I-NP O',\n",
              " 'Werner NNP I-NP B-PER',\n",
              " 'Zwingmann NNP I-NP I-PER',\n",
              " 'said VBD B-VP O',\n",
              " 'on IN B-PP O',\n",
              " 'Wednesday NNP B-NP O',\n",
              " 'consumers NNS I-NP O',\n",
              " 'should MD B-VP O',\n",
              " 'buy VB I-VP O',\n",
              " 'sheepmeat NN B-NP O',\n",
              " 'from IN B-PP O',\n",
              " 'countries NNS B-NP O']"
            ]
          },
          "metadata": {},
          "execution_count": 2
        }
      ],
      "source": [
        "with open(\"train.txt\") as f:\n",
        "  string = ''.join(f.readlines())\n",
        "dataset = string.split('\\n')\n",
        "\n",
        "dataset[:70]"
      ]
    },
    {
      "cell_type": "code",
      "execution_count": 3,
      "metadata": {
        "scrolled": true,
        "vscode": {
          "languageId": "python"
        },
        "colab": {
          "base_uri": "https://localhost:8080/"
        },
        "id": "49e7f34b",
        "outputId": "2b222dee-556a-4879-ad10-4e64b67c9af0"
      },
      "outputs": [
        {
          "output_type": "execute_result",
          "data": {
            "text/plain": [
              "[['-DOCSTART- -X- -X- O'],\n",
              " ['EU NNP B-NP B-ORG',\n",
              "  'rejects VBZ B-VP O',\n",
              "  'German JJ B-NP B-MISC',\n",
              "  'call NN I-NP O',\n",
              "  'to TO B-VP O',\n",
              "  'boycott VB I-VP O',\n",
              "  'British JJ B-NP B-MISC',\n",
              "  'lamb NN I-NP O',\n",
              "  '. . O O'],\n",
              " ['Peter NNP B-NP B-PER', 'Blackburn NNP I-NP I-PER'],\n",
              " ['BRUSSELS NNP B-NP B-LOC', '1996-08-22 CD I-NP O'],\n",
              " ['The DT B-NP O',\n",
              "  'European NNP I-NP B-ORG',\n",
              "  'Commission NNP I-NP I-ORG',\n",
              "  'said VBD B-VP O',\n",
              "  'on IN B-PP O',\n",
              "  'Thursday NNP B-NP O',\n",
              "  'it PRP B-NP O',\n",
              "  'disagreed VBD B-VP O',\n",
              "  'with IN B-PP O',\n",
              "  'German JJ B-NP B-MISC',\n",
              "  'advice NN I-NP O',\n",
              "  'to TO B-PP O',\n",
              "  'consumers NNS B-NP O',\n",
              "  'to TO B-VP O',\n",
              "  'shun VB I-VP O',\n",
              "  'British JJ B-NP B-MISC',\n",
              "  'lamb NN I-NP O',\n",
              "  'until IN B-SBAR O',\n",
              "  'scientists NNS B-NP O',\n",
              "  'determine VBP B-VP O',\n",
              "  'whether IN B-SBAR O',\n",
              "  'mad JJ B-NP O',\n",
              "  'cow NN I-NP O',\n",
              "  'disease NN I-NP O',\n",
              "  'can MD B-VP O',\n",
              "  'be VB I-VP O',\n",
              "  'transmitted VBN I-VP O',\n",
              "  'to TO B-PP O',\n",
              "  'sheep NN B-NP O',\n",
              "  '. . O O']]"
            ]
          },
          "metadata": {},
          "execution_count": 3
        }
      ],
      "source": [
        "from itertools import groupby\n",
        "\n",
        "dataset_in_sentence = [list(group) for k, group in groupby(dataset, lambda x: x == \"\") if not k]\n",
        "dataset_in_sentence[:5]"
      ]
    },
    {
      "cell_type": "code",
      "execution_count": 4,
      "metadata": {
        "vscode": {
          "languageId": "python"
        },
        "colab": {
          "base_uri": "https://localhost:8080/"
        },
        "id": "65c3dfa8",
        "outputId": "1b659d24-336a-40cb-c86e-e41c9a274f19"
      },
      "outputs": [
        {
          "output_type": "execute_result",
          "data": {
            "text/plain": [
              "10625"
            ]
          },
          "metadata": {},
          "execution_count": 4
        }
      ],
      "source": [
        "# [len(sentence) for sentence in dataset_in_sentence]\n",
        "filtered_dataset = [sentence for sentence in dataset_in_sentence if len(sentence) > 5]\n",
        "len(filtered_dataset)"
      ]
    },
    {
      "cell_type": "code",
      "execution_count": 5,
      "metadata": {
        "vscode": {
          "languageId": "python"
        },
        "colab": {
          "base_uri": "https://localhost:8080/"
        },
        "id": "a1a1714b",
        "outputId": "3896e770-448e-4567-994e-57b4da9dd93a"
      },
      "outputs": [
        {
          "output_type": "stream",
          "name": "stdout",
          "text": [
            "EU B-ORG\n",
            "['<pad>', '<pad>', 'EU', 'rejects', 'German']\n",
            "rejects O\n",
            "['<pad>', 'EU', 'rejects', 'German', 'call']\n",
            "German B-MISC\n",
            "['EU', 'rejects', 'German', 'call', 'to']\n",
            "call O\n",
            "['rejects', 'German', 'call', 'to', 'boycott']\n",
            "to O\n",
            "['German', 'call', 'to', 'boycott', 'British']\n",
            "boycott O\n",
            "['call', 'to', 'boycott', 'British', 'lamb']\n",
            "British B-MISC\n",
            "['to', 'boycott', 'British', 'lamb', '.']\n",
            "lamb O\n",
            "['boycott', 'British', 'lamb', '.', '<pad>']\n",
            ". O\n",
            "['British', 'lamb', '.', '<pad>', '<pad>']\n"
          ]
        }
      ],
      "source": [
        "window_len = 2\n",
        "sentence = filtered_dataset[0]\n",
        "\n",
        "for i, word in enumerate(sentence):\n",
        "  # print(word)\n",
        "  splitted_word = word.split(' ')\n",
        "  # print(splitted_word)\n",
        "  center_word = splitted_word[0]\n",
        "  label = splitted_word[-1]\n",
        "  print(center_word, label)\n",
        "  is_organization = label in ['B-ORG', 'I-ORG']\n",
        "  # print(is_organization)\n",
        "  \n",
        "  prev_index = max(i - window_len, 0)\n",
        "  prev_words = sentence[prev_index:i]\n",
        "  prev_words = [word_str.split(' ')[0] for word_str in prev_words]\n",
        "\n",
        "  # print(prev_words)\n",
        "\n",
        "  next_index = i + window_len + 1\n",
        "  next_words = sentence[i+1:next_index]\n",
        "  # next_words = [sentence[next_index] ]\n",
        "  next_words = [word_str.split(' ')[0] for word_str in next_words]\n",
        "\n",
        "  # We have to add padding, if number of prev words or next words are shorter than expected\n",
        "  if len(prev_words) != window_len:\n",
        "    prev_words = ['<pad>'] * (window_len - len(prev_words)) + prev_words\n",
        "\n",
        "  if len(next_words) != window_len:\n",
        "    next_words = next_words + ['<pad>'] * (window_len - len(next_words))\n",
        "\n",
        "  concatenated_words = prev_words + [center_word] + next_words\n",
        "  print(concatenated_words)\n"
      ]
    },
    {
      "cell_type": "code",
      "source": [
        "import gensim.downloader\n",
        "\n",
        "wrd2vec = gensim.downloader.load(\"glove-wiki-gigaword-300\")"
      ],
      "metadata": {
        "colab": {
          "base_uri": "https://localhost:8080/"
        },
        "id": "hPO83i3UKV8C",
        "outputId": "797f4c92-f5a8-45a6-f41c-af7f573a8375"
      },
      "execution_count": 6,
      "outputs": [
        {
          "output_type": "stream",
          "name": "stdout",
          "text": [
            "[==================================================] 100.0% 376.1/376.1MB downloaded\n"
          ]
        }
      ]
    },
    {
      "cell_type": "code",
      "source": [
        "len(wrd2vec)"
      ],
      "metadata": {
        "colab": {
          "base_uri": "https://localhost:8080/"
        },
        "id": "BtVJXmXnLoN8",
        "outputId": "5f600f25-7b30-4650-f796-442170b9a2be"
      },
      "execution_count": 7,
      "outputs": [
        {
          "output_type": "execute_result",
          "data": {
            "text/plain": [
              "400000"
            ]
          },
          "metadata": {},
          "execution_count": 7
        }
      ]
    },
    {
      "cell_type": "code",
      "source": [
        "import torch\n",
        "import numpy as np\n",
        "vec_dim = 300\n",
        "\n",
        "corresp_vectors = []\n",
        "for word in concatenated_words:\n",
        "  if word.lower() in wrd2vec: # if the word exists in wrd2vec vocab\n",
        "    vec = wrd2vec[word.lower()] # call corresponding vector \n",
        "    # vec = torch.tensor(vec)\n",
        "  else: # there is no matching word in wrd2vec vocab, such as <pad>\n",
        "    # vec = torch.zeros(vec_dim)\n",
        "    vec = np.zeros(vec_dim) # use zero vectors for that token (word)\n",
        "  corresp_vectors.append(vec)\n",
        "\n",
        "# cat_vector = torch.cat(corresp_vectors)\n",
        "cat_vector = torch.tensor(np.concatenate(corresp_vectors), dtype=torch.float)\n",
        "cat_vector.shape\n",
        "\n",
        "# torch.tensor(np.concatenate(corresp_vectors), dtype=torch.float).dtype"
      ],
      "metadata": {
        "id": "ZwM-cn5YLPgF",
        "outputId": "b1d2354b-fe9f-43f5-fa44-d6eee95902cc",
        "colab": {
          "base_uri": "https://localhost:8080/"
        }
      },
      "execution_count": 8,
      "outputs": [
        {
          "output_type": "execute_result",
          "data": {
            "text/plain": [
              "torch.Size([1500])"
            ]
          },
          "metadata": {},
          "execution_count": 8
        }
      ]
    },
    {
      "cell_type": "code",
      "source": [
        "cat_vector"
      ],
      "metadata": {
        "id": "iYWSoOy912_Y",
        "outputId": "85bfab78-6b14-461f-f1d0-189df9262083",
        "colab": {
          "base_uri": "https://localhost:8080/"
        }
      },
      "execution_count": 9,
      "outputs": [
        {
          "output_type": "execute_result",
          "data": {
            "text/plain": [
              "tensor([ 0.4436, -0.2418,  0.2366,  ...,  0.0000,  0.0000,  0.0000])"
            ]
          },
          "metadata": {},
          "execution_count": 9
        }
      ]
    },
    {
      "cell_type": "code",
      "source": [
        "# pair of data sample (input) and the label (desired output)\n",
        "cat_vector, is_organization"
      ],
      "metadata": {
        "colab": {
          "base_uri": "https://localhost:8080/"
        },
        "id": "wO8epL-1NaT_",
        "outputId": "76056d39-a0ad-4580-a9a9-1c1cbeb81f7e"
      },
      "execution_count": 10,
      "outputs": [
        {
          "output_type": "execute_result",
          "data": {
            "text/plain": [
              "(tensor([ 0.4436, -0.2418,  0.2366,  ...,  0.0000,  0.0000,  0.0000]), False)"
            ]
          },
          "metadata": {},
          "execution_count": 10
        }
      ]
    },
    {
      "cell_type": "markdown",
      "source": [
        "# Design Model"
      ],
      "metadata": {
        "id": "dc55cq4wNrgt"
      }
    },
    {
      "cell_type": "code",
      "source": [
        "import torch.nn as nn\n",
        "\n",
        "class OrgClassifier(nn.Module):\n",
        "  def __init__(self, input_dim=1500, hidden_size=32):\n",
        "    super().__init__()\n",
        "    self.layer1 = nn.Linear(in_features=input_dim, out_features=hidden_size)\n",
        "    self.layer2 = nn.Linear(in_features=hidden_size, out_features=1)\n",
        "  \n",
        "  def forward(self, x):\n",
        "    hidden = self.layer1(x)\n",
        "    hidden = torch.relu(hidden)\n",
        "    out = self.layer2(hidden)\n",
        "    return out.sigmoid()\n",
        "\n",
        "model = OrgClassifier()\n",
        "out = model(cat_vector)\n",
        "print(cat_vector.shape, out.shape, out)"
      ],
      "metadata": {
        "colab": {
          "base_uri": "https://localhost:8080/"
        },
        "id": "h04izZDGNaOV",
        "outputId": "b467872f-ef29-40c3-9f9e-62d29af52208"
      },
      "execution_count": 42,
      "outputs": [
        {
          "output_type": "stream",
          "name": "stdout",
          "text": [
            "torch.Size([1500]) torch.Size([1]) tensor([0.4553], grad_fn=<SigmoidBackward0>)\n"
          ]
        }
      ]
    },
    {
      "cell_type": "code",
      "source": [
        "hidden = model.layer1(cat_vector)\n",
        "print(hidden)\n",
        "print(hidden.shape)\n",
        "hidden = torch.relu(hidden) # You have to put non-linear operation between layers\n",
        "print(hidden)\n",
        "out = model.layer2(hidden)\n",
        "print(out)\n",
        "print(out.shape)"
      ],
      "metadata": {
        "colab": {
          "base_uri": "https://localhost:8080/"
        },
        "id": "FwN-p4MOQhgW",
        "outputId": "eb8c62cb-f7af-4618-a9bb-967a2c5cacdd"
      },
      "execution_count": 12,
      "outputs": [
        {
          "output_type": "stream",
          "name": "stdout",
          "text": [
            "tensor([-0.0173, -0.0216,  0.0792, -0.1527, -0.1061, -0.1171, -0.0598,  0.0862,\n",
            "         0.3309, -0.0853,  0.3534,  0.1428, -0.0390,  0.1861, -0.1315, -0.0159,\n",
            "         0.1162,  0.1816,  0.0306, -0.0169, -0.2097, -0.2021,  0.0405,  0.1489,\n",
            "        -0.0369,  0.0894,  0.1218, -0.1106, -0.0177,  0.0673, -0.1262,  0.1163],\n",
            "       grad_fn=<AddBackward0>)\n",
            "torch.Size([32])\n",
            "tensor([0.0000, 0.0000, 0.0792, 0.0000, 0.0000, 0.0000, 0.0000, 0.0862, 0.3309,\n",
            "        0.0000, 0.3534, 0.1428, 0.0000, 0.1861, 0.0000, 0.0000, 0.1162, 0.1816,\n",
            "        0.0306, 0.0000, 0.0000, 0.0000, 0.0405, 0.1489, 0.0000, 0.0894, 0.1218,\n",
            "        0.0000, 0.0000, 0.0673, 0.0000, 0.1163], grad_fn=<ReluBackward0>)\n",
            "tensor([-0.1731], grad_fn=<AddBackward0>)\n",
            "torch.Size([1])\n"
          ]
        }
      ]
    },
    {
      "cell_type": "code",
      "source": [
        "# How nn.Linear works\n",
        "out = model.layer2(hidden)\n",
        "\n",
        "# Let's get the same value by matrix multiplication\n",
        "# model.layer2.weight, model.layer2.bias\n",
        "for param in model.layer2.named_parameters(): # you can call list of entire parameters\n",
        "# by amodule.parameters()\n",
        "  print(param)\n",
        "\n",
        "print(hidden.shape, model.layer2.weight.shape)\n",
        "hidden_mat = hidden.unsqueeze(0)\n",
        "print(hidden_mat, hidden_mat.shape)\n",
        "weighted_sum = torch.mm(hidden_mat, model.layer2.weight.T ) #torch.mm is much more strict than torch.matmul\n",
        "\n",
        "weighted_sum_forloop = 0\n",
        "for x, w in zip(hidden, model.layer2.weight[0]):\n",
        "  # print(x.item(), w.item())\n",
        "  weighted_input = x.item() * w.item()\n",
        "  weighted_sum_forloop += weighted_input\n",
        "\n",
        "print(weighted_sum_forloop, weighted_sum)\n",
        "\n",
        "print(model.layer2.bias)\n",
        "final_output = weighted_sum + model.layer2.bias\n",
        "print(final_output, out)"
      ],
      "metadata": {
        "id": "Dklob4vr2-lT",
        "outputId": "0d5ab496-a45c-48ad-8834-c7cf5cb0cda4",
        "colab": {
          "base_uri": "https://localhost:8080/"
        }
      },
      "execution_count": 13,
      "outputs": [
        {
          "output_type": "stream",
          "name": "stdout",
          "text": [
            "('weight', Parameter containing:\n",
            "tensor([[ 0.0571,  0.0881, -0.0075, -0.0177,  0.1229,  0.0280,  0.1310,  0.0136,\n",
            "         -0.1287,  0.0064, -0.1560, -0.1368, -0.0705, -0.0045,  0.1427,  0.0784,\n",
            "         -0.1207, -0.0857,  0.0003, -0.0027, -0.1205, -0.1759, -0.0956,  0.1108,\n",
            "          0.0555, -0.1117,  0.1733,  0.1588,  0.0686,  0.0044, -0.0017, -0.1453]],\n",
            "       requires_grad=True))\n",
            "('bias', Parameter containing:\n",
            "tensor([-0.0332], requires_grad=True))\n",
            "torch.Size([32]) torch.Size([1, 32])\n",
            "tensor([[0.0000, 0.0000, 0.0792, 0.0000, 0.0000, 0.0000, 0.0000, 0.0862, 0.3309,\n",
            "         0.0000, 0.3534, 0.1428, 0.0000, 0.1861, 0.0000, 0.0000, 0.1162, 0.1816,\n",
            "         0.0306, 0.0000, 0.0000, 0.0000, 0.0405, 0.1489, 0.0000, 0.0894, 0.1218,\n",
            "         0.0000, 0.0000, 0.0673, 0.0000, 0.1163]],\n",
            "       grad_fn=<UnsqueezeBackward0>) torch.Size([1, 32])\n",
            "-0.13993398755362435 tensor([[-0.1399]], grad_fn=<MmBackward0>)\n",
            "Parameter containing:\n",
            "tensor([-0.0332], requires_grad=True)\n",
            "tensor([[-0.1731]], grad_fn=<AddBackward0>) tensor([-0.1731], grad_fn=<AddBackward0>)\n"
          ]
        }
      ]
    },
    {
      "cell_type": "markdown",
      "source": [
        "\n",
        "\n",
        "\n",
        "\n",
        "\n",
        "\n",
        "\n",
        "\n",
        "\n",
        "\n",
        "\n",
        "\n",
        "\n",
        "\n"
      ],
      "metadata": {
        "id": "9H6lcPUJ5kFd"
      }
    },
    {
      "cell_type": "code",
      "source": [
        "relu_hidden = torch.relu(hidden) \n",
        "relu_hidden = hidden.relu()\n",
        "\n",
        "torch.sigmoid(out) == out.sigmoid()"
      ],
      "metadata": {
        "colab": {
          "base_uri": "https://localhost:8080/"
        },
        "id": "uAdhowMHRb5l",
        "outputId": "6f288a4f-81c7-4bd5-a36e-017efbc2e04b"
      },
      "execution_count": 14,
      "outputs": [
        {
          "output_type": "execute_result",
          "data": {
            "text/plain": [
              "tensor([True])"
            ]
          },
          "metadata": {},
          "execution_count": 14
        }
      ]
    },
    {
      "cell_type": "markdown",
      "source": [
        "# Make Dataset Class"
      ],
      "metadata": {
        "id": "fB96mYlESABp"
      }
    },
    {
      "cell_type": "code",
      "source": [
        "class Dataset:\n",
        "  def __init__(self, txt_fn, wrd2vec):\n",
        "    dataset = self.read_text_data(txt_fn)\n",
        "    dataset_in_sentence = self.group_by_sentence(dataset)\n",
        "    filtered_dataset = [sentence for sentence in dataset_in_sentence if len(sentence) > 5]\n",
        "    self.data_in_sentence = filtered_dataset\n",
        "\n",
        "    # for every sentence, make windowed_words pairs:\n",
        "    total_windowed_words = []\n",
        "    for sentence in self.data_in_sentence:\n",
        "      total_windowed_words += self.get_windowed_words_from_sentence(sentence)\n",
        "    self.data = total_windowed_words\n",
        "    self.wrd2vec = wrd2vec \n",
        "    self.vec_size = wrd2vec.vector_size\n",
        "  \n",
        "  def read_text_data(self, txt_fn):\n",
        "    with open(\"train.txt\") as f:\n",
        "      string = ''.join(f.readlines())\n",
        "    dataset = string.split('\\n')\n",
        "    return dataset\n",
        "  \n",
        "  def group_by_sentence(self, dataset):\n",
        "    dataset_in_sentence = [list(group) for k, group in groupby(dataset, lambda x: x == \"\") if not k]\n",
        "    return dataset_in_sentence\n",
        "\n",
        "  def get_windowed_words_from_sentence(self, sentence):\n",
        "    result = []\n",
        "    for i, word in enumerate(sentence):\n",
        "      splitted_word = word.split(' ')\n",
        "      center_word = splitted_word[0]\n",
        "      label = splitted_word[-1]\n",
        "      is_organization = label in ['B-ORG', 'I-ORG']\n",
        "      \n",
        "      prev_index = max(i - window_len, 0)\n",
        "      prev_words = sentence[prev_index:i]\n",
        "      prev_words = [word_str.split(' ')[0] for word_str in prev_words]\n",
        "\n",
        "\n",
        "      next_index = i + window_len + 1\n",
        "      next_words = sentence[i+1:next_index]\n",
        "      next_words = [word_str.split(' ')[0] for word_str in next_words]\n",
        "\n",
        "      # We have to add padding, if number of prev words or next words are shorter than expected\n",
        "      if len(prev_words) != window_len:\n",
        "        prev_words = ['<pad>'] * (window_len - len(prev_words)) + prev_words\n",
        "\n",
        "      if len(next_words) != window_len:\n",
        "        next_words = next_words + ['<pad>'] * (window_len - len(next_words))\n",
        "\n",
        "      concatenated_words = prev_words + [center_word] + next_words\n",
        "      result.append( (concatenated_words, is_organization))\n",
        "    return result\n",
        "\n",
        "  def __len__(self): # number of independent data samples\n",
        "    return len(self.data)\n",
        "\n",
        "  def __getitem__(self, idx):\n",
        "    # is called when you call dataset[idx]\n",
        "    cat_words, label = self.data[idx]\n",
        "\n",
        "    # return self.data[idx]\n",
        "    return self.convert_windowed_words_to_vector(cat_words), label\n",
        "\n",
        "  def convert_windowed_words_to_vector(self, cat_words):\n",
        "    # cat_words: list of strings\n",
        "    # e.g. ['<pad>', '<pad>', 'EU', 'rejects', 'German']\n",
        "    corresp_vectors = []\n",
        "    for word in cat_words:\n",
        "      if word.lower() in self.wrd2vec: # if the word exists in wrd2vec vocab\n",
        "        vec = self.wrd2vec[word.lower()] # call corresponding vector \n",
        "        # vec = torch.tensor(vec)\n",
        "      else: # there is no matching word in wrd2vec vocab, such as <pad>\n",
        "        # vec = torch.zeros(vec_dim)\n",
        "        vec = np.zeros(self.vec_size) # use zero vectors for that token (word)\n",
        "      corresp_vectors.append(vec)\n",
        "    return torch.tensor(np.concatenate(corresp_vectors), dtype=torch.float)\n",
        "\n",
        "dataset = Dataset(\"train.txt\", wrd2vec)"
      ],
      "metadata": {
        "id": "nPGbWxVWR_h1"
      },
      "execution_count": 15,
      "outputs": []
    },
    {
      "cell_type": "code",
      "source": [
        "len(dataset.data), dataset.data[0]"
      ],
      "metadata": {
        "id": "hHUpjGUg9DJg",
        "outputId": "b69e8e0b-f743-4d72-be56-58b61fc0571d",
        "colab": {
          "base_uri": "https://localhost:8080/"
        }
      },
      "execution_count": 16,
      "outputs": [
        {
          "output_type": "execute_result",
          "data": {
            "text/plain": [
              "(192587, (['<pad>', '<pad>', 'EU', 'rejects', 'German'], True))"
            ]
          },
          "metadata": {},
          "execution_count": 16
        }
      ]
    },
    {
      "cell_type": "code",
      "source": [
        "len(dataset), dataset[0]"
      ],
      "metadata": {
        "id": "mbFSkXTb9Sql",
        "outputId": "31284509-8168-4200-cfb8-8b85dad7600a",
        "colab": {
          "base_uri": "https://localhost:8080/"
        }
      },
      "execution_count": 17,
      "outputs": [
        {
          "output_type": "execute_result",
          "data": {
            "text/plain": [
              "(192587,\n",
              " (tensor([ 0.0000,  0.0000,  0.0000,  ..., -0.1950,  0.2041,  0.3530]), True))"
            ]
          },
          "metadata": {},
          "execution_count": 17
        }
      ]
    },
    {
      "cell_type": "code",
      "source": [
        "dataset[100]"
      ],
      "metadata": {
        "id": "TSWoHJco_-tY",
        "outputId": "58d84cfb-df80-4a5d-b95a-2cb46475f601",
        "colab": {
          "base_uri": "https://localhost:8080/"
        }
      },
      "execution_count": 18,
      "outputs": [
        {
          "output_type": "execute_result",
          "data": {
            "text/plain": [
              "(tensor([-0.2295,  0.3255, -0.0927,  ..., -0.3422, -0.0224,  0.1368]), False)"
            ]
          },
          "metadata": {},
          "execution_count": 18
        }
      ]
    },
    {
      "cell_type": "code",
      "source": [
        "wrd2vec.vector_size"
      ],
      "metadata": {
        "id": "Hahxf24x-9xL",
        "outputId": "15662d80-1c10-413c-b7f4-27877ea2c875",
        "colab": {
          "base_uri": "https://localhost:8080/"
        }
      },
      "execution_count": 19,
      "outputs": [
        {
          "output_type": "execute_result",
          "data": {
            "text/plain": [
              "300"
            ]
          },
          "metadata": {},
          "execution_count": 19
        }
      ]
    },
    {
      "cell_type": "code",
      "source": [
        "# Our method can make training samples from a given data_in_setence\n",
        "dataset.get_windowed_words_from_sentence(dataset.data_in_sentence[100])"
      ],
      "metadata": {
        "colab": {
          "base_uri": "https://localhost:8080/"
        },
        "id": "xGhz5RwYR3BZ",
        "outputId": "e67d12e7-b7b1-47ab-b718-2e9706ba0f83"
      },
      "execution_count": 20,
      "outputs": [
        {
          "output_type": "execute_result",
          "data": {
            "text/plain": [
              "[(['<pad>', '<pad>', 'Israel', \"'s\", 'Channel'], False),\n",
              " (['<pad>', 'Israel', \"'s\", 'Channel', 'Two'], False),\n",
              " (['Israel', \"'s\", 'Channel', 'Two', 'television'], True),\n",
              " ([\"'s\", 'Channel', 'Two', 'television', 'said'], True),\n",
              " (['Channel', 'Two', 'television', 'said', 'Damascus'], False),\n",
              " (['Two', 'television', 'said', 'Damascus', 'had'], False),\n",
              " (['television', 'said', 'Damascus', 'had', 'sent'], False),\n",
              " (['said', 'Damascus', 'had', 'sent', 'a'], False),\n",
              " (['Damascus', 'had', 'sent', 'a', '\"'], False),\n",
              " (['had', 'sent', 'a', '\"', 'calming'], False),\n",
              " (['sent', 'a', '\"', 'calming', 'signal'], False),\n",
              " (['a', '\"', 'calming', 'signal', '\"'], False),\n",
              " (['\"', 'calming', 'signal', '\"', 'to'], False),\n",
              " (['calming', 'signal', '\"', 'to', 'Israel'], False),\n",
              " (['signal', '\"', 'to', 'Israel', '.'], False),\n",
              " (['\"', 'to', 'Israel', '.', '<pad>'], False),\n",
              " (['to', 'Israel', '.', '<pad>', '<pad>'], False)]"
            ]
          },
          "metadata": {},
          "execution_count": 20
        }
      ]
    },
    {
      "cell_type": "code",
      "source": [
        "# use data loader\n",
        "\n",
        "from torch.utils.data import DataLoader\n",
        "\n",
        "dataloader = DataLoader(dataset, batch_size=16, shuffle=True, drop_last=True)\n",
        "\n",
        "for batch in dataloader:\n",
        "  print(batch)\n",
        "  break"
      ],
      "metadata": {
        "id": "2HcHg0-98Wr2",
        "outputId": "61660584-c305-466a-f7f7-a4ec5ebd0c3b",
        "colab": {
          "base_uri": "https://localhost:8080/"
        }
      },
      "execution_count": 21,
      "outputs": [
        {
          "output_type": "stream",
          "name": "stdout",
          "text": [
            "[tensor([[-0.2230, -0.3796, -0.0563,  ...,  0.0000,  0.0000,  0.0000],\n",
            "        [ 0.1270,  0.2106, -0.1898,  ..., -0.7121, -0.3887, -0.2271],\n",
            "        [ 0.6947,  0.2218,  0.1053,  ...,  0.0000,  0.0000,  0.0000],\n",
            "        ...,\n",
            "        [ 0.5393,  0.9107,  0.4131,  ...,  0.0597, -0.2285,  0.2960],\n",
            "        [ 0.0385, -0.0398,  0.0827,  ..., -0.3607,  0.3314,  0.0322],\n",
            "        [ 0.5635,  0.0317, -0.3983,  ..., -0.1541,  0.1781, -0.1968]]), tensor([False, False, False, False, False, False, False, False, False, False,\n",
            "        False, False, False, False, False, False])]\n"
          ]
        }
      ]
    },
    {
      "cell_type": "code",
      "source": [
        "input_tensors = batch[0]\n",
        "labels = batch[1]\n",
        "\n",
        "input_tensors.shape, labels.shape"
      ],
      "metadata": {
        "id": "GbPDJK1WA0T2",
        "outputId": "d31ec238-cd7e-453b-f73e-a4b82558d162",
        "colab": {
          "base_uri": "https://localhost:8080/"
        }
      },
      "execution_count": 22,
      "outputs": [
        {
          "output_type": "execute_result",
          "data": {
            "text/plain": [
              "(torch.Size([16, 1500]), torch.Size([16]))"
            ]
          },
          "metadata": {},
          "execution_count": 22
        }
      ]
    },
    {
      "cell_type": "code",
      "source": [
        "# Check that our model can compute the input batch\n",
        "pred = model(input_tensors)\n",
        "pred.shape, pred"
      ],
      "metadata": {
        "id": "33zUbVYGBK2T",
        "outputId": "5332794b-55e8-4640-a1f5-0a0aee1db8c5",
        "colab": {
          "base_uri": "https://localhost:8080/"
        }
      },
      "execution_count": 23,
      "outputs": [
        {
          "output_type": "execute_result",
          "data": {
            "text/plain": [
              "(torch.Size([16, 1]),\n",
              " tensor([[0.4909],\n",
              "         [0.4920],\n",
              "         [0.4646],\n",
              "         [0.4974],\n",
              "         [0.4469],\n",
              "         [0.4526],\n",
              "         [0.4667],\n",
              "         [0.5192],\n",
              "         [0.4700],\n",
              "         [0.5134],\n",
              "         [0.4980],\n",
              "         [0.4954],\n",
              "         [0.4695],\n",
              "         [0.5178],\n",
              "         [0.4601],\n",
              "         [0.4465]], grad_fn=<SigmoidBackward0>))"
            ]
          },
          "metadata": {},
          "execution_count": 23
        }
      ]
    },
    {
      "cell_type": "code",
      "source": [
        "labels.dtype, labels, labels.float()"
      ],
      "metadata": {
        "id": "4VwcsEDnDJwA",
        "outputId": "4bf3c7d3-7660-445f-9069-31b72f0b86d6",
        "colab": {
          "base_uri": "https://localhost:8080/"
        }
      },
      "execution_count": 24,
      "outputs": [
        {
          "output_type": "execute_result",
          "data": {
            "text/plain": [
              "(torch.bool,\n",
              " tensor([False, False, False, False, False, False, False, False, False, False,\n",
              "         False, False, False, False, False, False]),\n",
              " tensor([0., 0., 0., 0., 0., 0., 0., 0., 0., 0., 0., 0., 0., 0., 0., 0.]))"
            ]
          },
          "metadata": {},
          "execution_count": 24
        }
      ]
    },
    {
      "cell_type": "code",
      "source": [
        "print(pred)\n",
        "print(pred.squeeze())"
      ],
      "metadata": {
        "id": "n17fWx4IDgGQ",
        "outputId": "cb7ac9e3-90c9-41a9-acfe-015610ad3013",
        "colab": {
          "base_uri": "https://localhost:8080/"
        }
      },
      "execution_count": 25,
      "outputs": [
        {
          "output_type": "stream",
          "name": "stdout",
          "text": [
            "tensor([[0.4909],\n",
            "        [0.4920],\n",
            "        [0.4646],\n",
            "        [0.4974],\n",
            "        [0.4469],\n",
            "        [0.4526],\n",
            "        [0.4667],\n",
            "        [0.5192],\n",
            "        [0.4700],\n",
            "        [0.5134],\n",
            "        [0.4980],\n",
            "        [0.4954],\n",
            "        [0.4695],\n",
            "        [0.5178],\n",
            "        [0.4601],\n",
            "        [0.4465]], grad_fn=<SigmoidBackward0>)\n",
            "tensor([0.4909, 0.4920, 0.4646, 0.4974, 0.4469, 0.4526, 0.4667, 0.5192, 0.4700,\n",
            "        0.5134, 0.4980, 0.4954, 0.4695, 0.5178, 0.4601, 0.4465],\n",
            "       grad_fn=<SqueezeBackward0>)\n"
          ]
        }
      ]
    },
    {
      "cell_type": "code",
      "source": [
        "# Calculate loss\n",
        "print(pred.shape, labels.shape)\n",
        "\n",
        "def get_binary_cross_entropy_loss(pred, label, eps=1e-8):\n",
        "  return label * (-torch.log(pred+eps)) + (1-label) * (-torch.log(1-pred+eps))\n",
        "\n",
        "loss = get_binary_cross_entropy_loss(pred.squeeze(), labels.float())\n",
        "loss = loss.mean() # take mean\n",
        "loss"
      ],
      "metadata": {
        "id": "iiuVTxHBBbwx",
        "outputId": "12ac533f-cc83-4486-c78a-40280f717342",
        "colab": {
          "base_uri": "https://localhost:8080/"
        }
      },
      "execution_count": 26,
      "outputs": [
        {
          "output_type": "stream",
          "name": "stdout",
          "text": [
            "torch.Size([16, 1]) torch.Size([16])\n"
          ]
        },
        {
          "output_type": "execute_result",
          "data": {
            "text/plain": [
              "tensor(0.6575, grad_fn=<MeanBackward0>)"
            ]
          },
          "metadata": {},
          "execution_count": 26
        }
      ]
    },
    {
      "cell_type": "code",
      "source": [
        "# Check how gradient looks like before the backpropagation\n",
        "print(model.layer1.weight.grad) # print None"
      ],
      "metadata": {
        "id": "_5keVatqD5oY",
        "outputId": "434865e6-8018-433e-91c6-39443926160b",
        "colab": {
          "base_uri": "https://localhost:8080/"
        }
      },
      "execution_count": 27,
      "outputs": [
        {
          "output_type": "stream",
          "name": "stdout",
          "text": [
            "None\n"
          ]
        }
      ]
    },
    {
      "cell_type": "code",
      "source": [
        "# backpropagate the loss \n",
        "loss.backward()"
      ],
      "metadata": {
        "id": "z5PoLCdiDxqI"
      },
      "execution_count": 28,
      "outputs": []
    },
    {
      "cell_type": "code",
      "source": [
        "# Check how gradient looks like after the backpropagation\n",
        "print(model.layer1.weight.grad)"
      ],
      "metadata": {
        "id": "LEbe0q7mEDEL",
        "outputId": "81932f9f-aad4-4e45-c3f3-e11a71c2f15b",
        "colab": {
          "base_uri": "https://localhost:8080/"
        }
      },
      "execution_count": 29,
      "outputs": [
        {
          "output_type": "stream",
          "name": "stdout",
          "text": [
            "tensor([[ 2.0776e-03,  4.5322e-03,  8.7397e-05,  ..., -3.6550e-03,\n",
            "         -1.0012e-03, -5.9175e-04],\n",
            "        [ 3.2067e-03,  6.9951e-03,  1.3489e-04,  ..., -5.6413e-03,\n",
            "         -1.5453e-03, -9.1332e-04],\n",
            "        [-2.7418e-04, -5.9810e-04, -1.1534e-05,  ...,  4.8234e-04,\n",
            "          1.3212e-04,  7.8091e-05],\n",
            "        ...,\n",
            "        [ 1.5932e-04,  3.4755e-04,  6.7021e-06,  ..., -2.8029e-04,\n",
            "         -7.6777e-05, -4.5378e-05],\n",
            "        [-6.1945e-05, -1.3513e-04, -2.6058e-06,  ...,  1.0898e-04,\n",
            "          2.9851e-05,  1.7643e-05],\n",
            "        [-5.2862e-03, -1.1531e-02, -2.2237e-04,  ...,  9.2996e-03,\n",
            "          2.5474e-03,  1.5056e-03]])\n"
          ]
        }
      ]
    },
    {
      "cell_type": "code",
      "source": [
        "model.layer1.weight.grad.shape, model.layer1.weight.shape\n",
        "# Each parameter in the layer has its own gradient"
      ],
      "metadata": {
        "id": "hdgqNLryEJSk",
        "outputId": "78d0635a-f55a-4849-cc09-4e0877ed4329",
        "colab": {
          "base_uri": "https://localhost:8080/"
        }
      },
      "execution_count": 30,
      "outputs": [
        {
          "output_type": "execute_result",
          "data": {
            "text/plain": [
              "(torch.Size([32, 1500]), torch.Size([32, 1500]))"
            ]
          },
          "metadata": {},
          "execution_count": 30
        }
      ]
    },
    {
      "cell_type": "code",
      "source": [
        "model.layer1.weight.grad[0, :10]\n",
        "# Gradient is ratio between the parameter's change and the loss' change\n",
        "# if the gradient is 0.01\n",
        "# that means if the parameter increases for 1,\n",
        "# the loss will increase for 1*0.01"
      ],
      "metadata": {
        "colab": {
          "base_uri": "https://localhost:8080/"
        },
        "id": "4eZYhpMeHjPG",
        "outputId": "c1ea2a9c-b68f-4578-bc70-7fcd66c6b43f"
      },
      "execution_count": 31,
      "outputs": [
        {
          "output_type": "execute_result",
          "data": {
            "text/plain": [
              "tensor([ 2.0776e-03,  4.5322e-03,  8.7397e-05, -2.8984e-04, -1.3363e-03,\n",
              "        -4.9580e-03, -2.7773e-03,  4.6678e-03,  1.7588e-03, -3.7087e-02])"
            ]
          },
          "metadata": {},
          "execution_count": 31
        }
      ]
    },
    {
      "cell_type": "code",
      "source": [
        "# manually update weight parameters using the gradient\n",
        "model.layer1.weight.data -= model.layer1.weight.grad * 0.001"
      ],
      "metadata": {
        "id": "Mn2aK17oEWl3"
      },
      "execution_count": 32,
      "outputs": []
    },
    {
      "cell_type": "code",
      "source": [
        "# use torch.optim.optimizers"
      ],
      "metadata": {
        "id": "twraLTiAEZdA"
      },
      "execution_count": 33,
      "outputs": []
    },
    {
      "cell_type": "code",
      "source": [
        "pred = model(input_tensors)\n",
        "loss = get_binary_cross_entropy_loss(pred.squeeze(), labels.float())\n",
        "loss = loss.mean()\n",
        "\n",
        "print(loss.item())"
      ],
      "metadata": {
        "colab": {
          "base_uri": "https://localhost:8080/"
        },
        "id": "dhgAM875HXTU",
        "outputId": "2e2ee2fd-e98d-4203-bfe2-f30e4d023678"
      },
      "execution_count": 34,
      "outputs": [
        {
          "output_type": "stream",
          "name": "stdout",
          "text": [
            "0.6539627313613892\n"
          ]
        }
      ]
    },
    {
      "cell_type": "code",
      "source": [
        "model.layer2.weight.grad = None # rest gradient to zero\n",
        "loss.backward()"
      ],
      "metadata": {
        "id": "-zcC1t5YJYYJ"
      },
      "execution_count": 35,
      "outputs": []
    },
    {
      "cell_type": "code",
      "source": [
        "model.layer2.weight.grad"
      ],
      "metadata": {
        "colab": {
          "base_uri": "https://localhost:8080/"
        },
        "id": "MWkIJQiZJjnY",
        "outputId": "94f42e5d-06d0-49d1-85eb-ddff591e0865"
      },
      "execution_count": 36,
      "outputs": [
        {
          "output_type": "execute_result",
          "data": {
            "text/plain": [
              "tensor([[-0.0146,  0.0357,  0.0266, -0.0259,  0.0467, -0.0220,  0.0825, -0.0245,\n",
              "          0.0624, -0.0676,  0.0215, -0.0269, -0.0824,  0.0080, -0.1143, -0.0517,\n",
              "         -0.0013, -0.0417, -0.0231,  0.0553,  0.0345,  0.0239, -0.0346, -0.0713,\n",
              "         -0.0244, -0.0453, -0.0948,  0.0233, -0.0602,  0.0377,  0.0101, -0.0391]])"
            ]
          },
          "metadata": {},
          "execution_count": 36
        }
      ]
    },
    {
      "cell_type": "code",
      "source": [
        "print(model.layer2.weight.data[0,-5])\n",
        "model.layer2.weight.data[0,-5] -= model.layer2.weight.grad[0,-5] * 100 # times learning rate\n",
        "print(model.layer2.weight.data[0,-5])\n"
      ],
      "metadata": {
        "colab": {
          "base_uri": "https://localhost:8080/"
        },
        "id": "H9uPQQ1cJvH3",
        "outputId": "9ff4f118-8717-4ae3-b7c2-9be12b58e0b6"
      },
      "execution_count": 37,
      "outputs": [
        {
          "output_type": "stream",
          "name": "stdout",
          "text": [
            "tensor(0.1588)\n",
            "tensor(-2.1686)\n"
          ]
        }
      ]
    },
    {
      "cell_type": "code",
      "source": [
        "labels"
      ],
      "metadata": {
        "colab": {
          "base_uri": "https://localhost:8080/"
        },
        "id": "TPIqbtG5KRVy",
        "outputId": "2d013009-aefc-4ec2-fc14-81037c85cc2f"
      },
      "execution_count": 38,
      "outputs": [
        {
          "output_type": "execute_result",
          "data": {
            "text/plain": [
              "tensor([False, False, False, False, False, False, False, False, False, False,\n",
              "        False, False, False, False, False, False])"
            ]
          },
          "metadata": {},
          "execution_count": 38
        }
      ]
    },
    {
      "cell_type": "code",
      "source": [
        "\n",
        "\n",
        "pred = model(input_tensors)\n",
        "loss = get_binary_cross_entropy_loss(pred.squeeze(), labels.float())\n",
        "loss = loss.mean()\n",
        "\n",
        "print(loss.item())"
      ],
      "metadata": {
        "colab": {
          "base_uri": "https://localhost:8080/"
        },
        "id": "6KVnVC4pJWPm",
        "outputId": "0cee5b41-da16-42b4-f659-dc7e4419c44a"
      },
      "execution_count": 39,
      "outputs": [
        {
          "output_type": "stream",
          "name": "stdout",
          "text": [
            "0.6223636865615845\n"
          ]
        }
      ]
    },
    {
      "cell_type": "code",
      "source": [
        "# Training the model == update the model's parameters\n",
        "\n",
        "# 1. make a prediction\n",
        "# 2. calculate the loss (to see how good or bad your current parameters are )\n",
        "# 3. calculate the gradient of each parameters using backpropagation\n",
        "# 4. update the parameters using the gradient (we call it optimization)\n",
        "# we can use several optimizers to update the parameters\n",
        "\n",
        "# optimizers: SGD (stochastic gradient descent, maybe Vanilla one), \n",
        "#    Adam (most famous), Adadelta, Adamp\n",
        "\n",
        "# Define optimizer\n",
        "# select the optimizer class\n",
        "optimizer = torch.optim.Adam(model.parameters(), lr=0.001)\n",
        "\n",
        "\n",
        "# now we can update the model's parameters using\n",
        "optimizer.step()\n",
        "\n",
        "# You can also reset the gradietn using the optimizer\n",
        "optimizer.zero_grad()"
      ],
      "metadata": {
        "id": "d-Nv3e88Kito"
      },
      "execution_count": 40,
      "outputs": []
    },
    {
      "cell_type": "markdown",
      "source": [
        "# Main Training Loop"
      ],
      "metadata": {
        "id": "8aE9z_Qj9ruo"
      }
    },
    {
      "cell_type": "code",
      "source": [
        "from tqdm.auto import tqdm\n",
        "\n",
        "train_set = Dataset(\"train.txt\", wrd2vec)\n",
        "valid_set = Dataset(\"valid.txt\", wrd2vec)\n",
        "test_set = Dataset(\"test.txt\", wrd2vec)\n",
        "\n",
        "train_loader = DataLoader(train_set, batch_size=128, shuffle=True, drop_last=True)\n",
        "valid_loader = DataLoader(valid_set, batch_size=512, shuffle=False, drop_last=False)\n",
        "test_loader = DataLoader(test_set, batch_size=512, shuffle=False, drop_last=False)\n",
        "# If shuffle is false, the batch would look like [0, 1, 2, 3], [4, 5, 6, 7]\n",
        "# droplast: Let's say you have 258 samples. and batch size is 128\n",
        "# 128, 128, so now you have 2 samples left\n",
        "# so if you do not drop it, you will have batch size of 2 for the last batch\n",
        "\n",
        "# Let's use GPU\n",
        "DEV = 'cuda'\n",
        "model = OrgClassifier()\n",
        "model.to(DEV) # model=model.to('cuda)\n",
        "# cuda is an NVIDIA GPU library\n",
        "optimizer = torch.optim.Adam(model.parameters(), lr=0.001)\n",
        "loss_record = []\n",
        "\n",
        "num_epoch = 5\n",
        "\n",
        "for epoch in tqdm(range(num_epoch)):\n",
        "  model.train()\n",
        "  for batch in tqdm(train_loader, leave=False):\n",
        "    input_tensors, labels = batch\n",
        "    input_tensors = input_tensors.to(DEV)\n",
        "    labels = labels.to(DEV)\n",
        "    pred = model(input_tensors)\n",
        "    loss = get_binary_cross_entropy_loss(pred.squeeze(), labels.float())\n",
        "    loss = loss.mean()\n",
        "    loss.backward() # do backpropagation. This will calculate the gradient of each parameter\n",
        "    optimizer.step() # This will update the parameters using the gradient\n",
        "    optimizer.zero_grad()\n",
        "    # print(torch.sum(labels).item(), loss.item())\n",
        "    loss_record.append(loss.item())\n",
        "  "
      ],
      "metadata": {
        "colab": {
          "base_uri": "https://localhost:8080/",
          "height": 49,
          "referenced_widgets": [
            "6d008a1853ed4839a2243e7bffd86a1f",
            "0bc6977bb8ff47e1af0e46083271bfcf",
            "e0de9fa8583848908fb139762283ca1c",
            "9efaaf9e7c7045908e11f801462acc3f",
            "22979dd97d614201a83487c566e2af0d",
            "9adde6bb52b748f09c23b2fbec43f8f9",
            "4f5b3227b1b34297b69ef638a41e61df",
            "3106e119b59b4355b34a4d64986c167f",
            "72c04da4da0948eda06821e084f42234",
            "9ec0c5d548db4050a28ea15efb6c7082",
            "53f7ba0734904dbe8831bf57a24647d6"
          ]
        },
        "id": "aFRrG6PJL9HC",
        "outputId": "78ee78eb-cf2c-47dc-e5fa-aa384ab5a7d5"
      },
      "execution_count": 43,
      "outputs": [
        {
          "output_type": "display_data",
          "data": {
            "text/plain": [
              "  0%|          | 0/1504 [00:00<?, ?it/s]"
            ],
            "application/vnd.jupyter.widget-view+json": {
              "version_major": 2,
              "version_minor": 0,
              "model_id": "6d008a1853ed4839a2243e7bffd86a1f"
            }
          },
          "metadata": {}
        }
      ]
    },
    {
      "cell_type": "code",
      "source": [
        "\n",
        "valid_loader = DataLoader(valid_set, batch_size=2048, shuffle=False, drop_last=False)\n",
        "threshold = 0.2\n",
        "validation_loss = []\n",
        "\n",
        "model.eval()\n",
        "# This changes model to evaluation mode\n",
        "# Some of the neural network module works differently depends on training or test\n",
        "# e.g. batch normalization, drop out \n",
        "\n",
        "with torch.inference_mode():\n",
        "  # the code under this inference mode will not calculate gradient\n",
        "\n",
        "  # We want to get mean loss for every sample in the validation set\n",
        "  total_loss = 0\n",
        "  num_total_samples = 0\n",
        "  total_acc = 0\n",
        "  for batch in tqdm(valid_loader, leave=False):\n",
        "    input_tensors, labels = batch\n",
        "    input_tensors = input_tensors.to(DEV)\n",
        "    labels = labels.to(DEV)\n",
        "    pred = model(input_tensors)\n",
        "    loss = get_binary_cross_entropy_loss(pred.squeeze(), labels.float())\n",
        "    loss = loss.sum()\n",
        "\n",
        "    total_loss += loss.item() # .item() changes tensor to float\n",
        "    num_total_samples += len(input_tensors)\n",
        "\n",
        "    total_acc += ((pred.squeeze()> threshold) == labels).sum()\n",
        "    # don't do loss.backward() because we won't update parameters during validation\n",
        "  validation_loss.append(total_loss / num_total_samples)\n",
        "  print(validation_loss[-1])\n",
        "  print(total_acc / num_total_samples)"
      ],
      "metadata": {
        "id": "OJ8Q8rrfEjG4",
        "outputId": "9f9bb2e5-84a7-4beb-8e81-a5657487fd72",
        "colab": {
          "base_uri": "https://localhost:8080/",
          "height": 53,
          "referenced_widgets": [
            "72913f26f93e4d829404cffd8c9a05c5",
            "731426e17a4d42d5b406483732d84359",
            "2a816dc55ad8484c95506fe52ce343e6",
            "4ff881c6bb7347c8adc464912609030a",
            "9f366fd2f29446439b4ea12414bfe6e6",
            "7cb9af3ebabd4823a6bc14dd6154904f",
            "5ac3bc9aba46456fadaecb0a5d1113eb",
            "1b7760ef02524291ab64d6593765090d",
            "e4b4a4165ae741959dabd01801595b3f",
            "0da2fa6ad2764d15810f93f7e0bb889f",
            "80b68fb7891148118ee5963e390b677c"
          ]
        }
      },
      "execution_count": 63,
      "outputs": [
        {
          "output_type": "display_data",
          "data": {
            "text/plain": [
              "  0%|          | 0/95 [00:00<?, ?it/s]"
            ],
            "application/vnd.jupyter.widget-view+json": {
              "version_major": 2,
              "version_minor": 0,
              "model_id": "72913f26f93e4d829404cffd8c9a05c5"
            }
          },
          "metadata": {}
        },
        {
          "output_type": "stream",
          "name": "stdout",
          "text": [
            "0.05096835462575122\n",
            "tensor(0.9769, device='cuda:0')\n"
          ]
        }
      ]
    },
    {
      "cell_type": "code",
      "source": [
        "# pred[:10], labels[:10]\n",
        "threshold = 0.2\n",
        "thresholded_pred = pred.squeeze() > threshold\n",
        "acc = (thresholded_pred == labels).sum() / len(labels)\n",
        "acc"
      ],
      "metadata": {
        "id": "jogrK0DvG1o7",
        "outputId": "e31e611e-d37f-4891-c07d-a1084d041733",
        "colab": {
          "base_uri": "https://localhost:8080/"
        }
      },
      "execution_count": 62,
      "outputs": [
        {
          "output_type": "execute_result",
          "data": {
            "text/plain": [
              "tensor(1., device='cuda:0')"
            ]
          },
          "metadata": {},
          "execution_count": 62
        }
      ]
    },
    {
      "cell_type": "code",
      "source": [
        "len(pred)"
      ],
      "metadata": {
        "id": "-ku2VEv-HRkc",
        "outputId": "2ed01195-fcc7-4947-97bd-7ef75dbcdc89",
        "colab": {
          "base_uri": "https://localhost:8080/"
        }
      },
      "execution_count": 59,
      "outputs": [
        {
          "output_type": "execute_result",
          "data": {
            "text/plain": [
              "75"
            ]
          },
          "metadata": {},
          "execution_count": 59
        }
      ]
    },
    {
      "cell_type": "code",
      "source": [
        "!nvidia-smi"
      ],
      "metadata": {
        "id": "MzOPlry1GSV0",
        "outputId": "fb125853-05f5-4995-d338-b144bf6793d6",
        "colab": {
          "base_uri": "https://localhost:8080/"
        }
      },
      "execution_count": 49,
      "outputs": [
        {
          "output_type": "stream",
          "name": "stdout",
          "text": [
            "Tue Apr  4 07:09:16 2023       \n",
            "+-----------------------------------------------------------------------------+\n",
            "| NVIDIA-SMI 525.85.12    Driver Version: 525.85.12    CUDA Version: 12.0     |\n",
            "|-------------------------------+----------------------+----------------------+\n",
            "| GPU  Name        Persistence-M| Bus-Id        Disp.A | Volatile Uncorr. ECC |\n",
            "| Fan  Temp  Perf  Pwr:Usage/Cap|         Memory-Usage | GPU-Util  Compute M. |\n",
            "|                               |                      |               MIG M. |\n",
            "|===============================+======================+======================|\n",
            "|   0  Tesla T4            Off  | 00000000:00:04.0 Off |                    0 |\n",
            "| N/A   77C    P0    33W /  70W |   1999MiB / 15360MiB |      0%      Default |\n",
            "|                               |                      |                  N/A |\n",
            "+-------------------------------+----------------------+----------------------+\n",
            "                                                                               \n",
            "+-----------------------------------------------------------------------------+\n",
            "| Processes:                                                                  |\n",
            "|  GPU   GI   CI        PID   Type   Process name                  GPU Memory |\n",
            "|        ID   ID                                                   Usage      |\n",
            "|=============================================================================|\n",
            "+-----------------------------------------------------------------------------+\n"
          ]
        }
      ]
    },
    {
      "cell_type": "code",
      "source": [
        "len(valid_loader.dataset)"
      ],
      "metadata": {
        "id": "Ie1b2s-tF44D",
        "outputId": "b774733b-9043-4547-c3bb-0c894ab888ce",
        "colab": {
          "base_uri": "https://localhost:8080/"
        }
      },
      "execution_count": 47,
      "outputs": [
        {
          "output_type": "execute_result",
          "data": {
            "text/plain": [
              "192587"
            ]
          },
          "metadata": {},
          "execution_count": 47
        }
      ]
    },
    {
      "cell_type": "code",
      "source": [
        "plt.plot(validation_loss)"
      ],
      "metadata": {
        "id": "_3lfmrwVFmyQ",
        "outputId": "aec7ed22-8b53-43ef-f6c8-a3bca9a19879",
        "colab": {
          "base_uri": "https://localhost:8080/",
          "height": 448
        }
      },
      "execution_count": 46,
      "outputs": [
        {
          "output_type": "execute_result",
          "data": {
            "text/plain": [
              "[<matplotlib.lines.Line2D at 0x7f09af97d760>]"
            ]
          },
          "metadata": {},
          "execution_count": 46
        },
        {
          "output_type": "display_data",
          "data": {
            "text/plain": [
              "<Figure size 640x480 with 1 Axes>"
            ],
            "image/png": "[encoded data removed]"
          },
          "metadata": {}
        }
      ]
    },
    {
      "cell_type": "code",
      "source": [
        "import matplotlib.pyplot as plt\n",
        "\n",
        "plt.plot(loss_record)\n",
        "# plt.plot(loss_record_wo_relu)"
      ],
      "metadata": {
        "id": "QVvPc7ezP-bk",
        "outputId": "772f2e0c-323b-4596-ca9f-4fbb2f448218",
        "colab": {
          "base_uri": "https://localhost:8080/",
          "height": 448
        }
      },
      "execution_count": 44,
      "outputs": [
        {
          "output_type": "execute_result",
          "data": {
            "text/plain": [
              "[<matplotlib.lines.Line2D at 0x7f09af55f970>]"
            ]
          },
          "metadata": {},
          "execution_count": 44
        },
        {
          "output_type": "display_data",
          "data": {
            "text/plain": [
              "<Figure size 640x480 with 1 Axes>"
            ],
            "image/png": "[encoded data removed]"
          },
          "metadata": {}
        }
      ]
    },
    {
      "cell_type": "code",
      "source": [
        "len(input_tensors)"
      ],
      "metadata": {
        "id": "dp-JysamQMT4"
      },
      "execution_count": null,
      "outputs": []
    },
    {
      "cell_type": "code",
      "source": [
        "torch.log(torch.tensor([1e-100]))"
      ],
      "metadata": {
        "id": "6jAYcwifLJDf"
      },
      "execution_count": null,
      "outputs": []
    },
    {
      "cell_type": "code",
      "source": [
        "# nan losses go back to your parameters by making nan grad, and nan weight\n",
        "model.layer1.weight.data"
      ],
      "metadata": {
        "id": "vmQ6yEzHOgE1"
      },
      "execution_count": null,
      "outputs": []
    }
  ],
  "metadata": {
    "kernelspec": {
      "display_name": "Python 3 (ipykernel)",
      "language": "python",
      "name": "python3"
    },
    "nbformat": 4,
    "nbformat_minor": 5,
    "colab": {
      "provenance": [],
      "include_colab_link": true
    },
    "accelerator": "GPU",
    "gpuClass": "standard",
    "widgets": {
      "application/vnd.jupyter.widget-state+json": {
        "6d008a1853ed4839a2243e7bffd86a1f": {
          "model_module": "@jupyter-widgets/controls",
          "model_name": "HBoxModel",
          "model_module_version": "1.5.0",
          "state": {
            "_dom_classes": [],
            "_model_module": "@jupyter-widgets/controls",
            "_model_module_version": "1.5.0",
            "_model_name": "HBoxModel",
            "_view_count": null,
            "_view_module": "@jupyter-widgets/controls",
            "_view_module_version": "1.5.0",
            "_view_name": "HBoxView",
            "box_style": "",
            "children": [
              "IPY_MODEL_0bc6977bb8ff47e1af0e46083271bfcf",
              "IPY_MODEL_e0de9fa8583848908fb139762283ca1c",
              "IPY_MODEL_9efaaf9e7c7045908e11f801462acc3f"
            ],
            "layout": "IPY_MODEL_22979dd97d614201a83487c566e2af0d"
          }
        },
        "0bc6977bb8ff47e1af0e46083271bfcf": {
          "model_module": "@jupyter-widgets/controls",
          "model_name": "HTMLModel",
          "model_module_version": "1.5.0",
          "state": {
            "_dom_classes": [],
            "_model_module": "@jupyter-widgets/controls",
            "_model_module_version": "1.5.0",
            "_model_name": "HTMLModel",
            "_view_count": null,
            "_view_module": "@jupyter-widgets/controls",
            "_view_module_version": "1.5.0",
            "_view_name": "HTMLView",
            "description": "",
            "description_tooltip": null,
            "layout": "IPY_MODEL_9adde6bb52b748f09c23b2fbec43f8f9",
            "placeholder": "​",
            "style": "IPY_MODEL_4f5b3227b1b34297b69ef638a41e61df",
            "value": "100%"
          }
        },
        "e0de9fa8583848908fb139762283ca1c": {
          "model_module": "@jupyter-widgets/controls",
          "model_name": "FloatProgressModel",
          "model_module_version": "1.5.0",
          "state": {
            "_dom_classes": [],
            "_model_module": "@jupyter-widgets/controls",
            "_model_module_version": "1.5.0",
            "_model_name": "FloatProgressModel",
            "_view_count": null,
            "_view_module": "@jupyter-widgets/controls",
            "_view_module_version": "1.5.0",
            "_view_name": "ProgressView",
            "bar_style": "success",
            "description": "",
            "description_tooltip": null,
            "layout": "IPY_MODEL_3106e119b59b4355b34a4d64986c167f",
            "max": 1504,
            "min": 0,
            "orientation": "horizontal",
            "style": "IPY_MODEL_72c04da4da0948eda06821e084f42234",
            "value": 1504
          }
        },
        "9efaaf9e7c7045908e11f801462acc3f": {
          "model_module": "@jupyter-widgets/controls",
          "model_name": "HTMLModel",
          "model_module_version": "1.5.0",
          "state": {
            "_dom_classes": [],
            "_model_module": "@jupyter-widgets/controls",
            "_model_module_version": "1.5.0",
            "_model_name": "HTMLModel",
            "_view_count": null,
            "_view_module": "@jupyter-widgets/controls",
            "_view_module_version": "1.5.0",
            "_view_name": "HTMLView",
            "description": "",
            "description_tooltip": null,
            "layout": "IPY_MODEL_9ec0c5d548db4050a28ea15efb6c7082",
            "placeholder": "​",
            "style": "IPY_MODEL_53f7ba0734904dbe8831bf57a24647d6",
            "value": " 1504/1504 [00:08&lt;00:00, 179.77it/s]"
          }
        },
        "22979dd97d614201a83487c566e2af0d": {
          "model_module": "@jupyter-widgets/base",
          "model_name": "LayoutModel",
          "model_module_version": "1.2.0",
          "state": {
            "_model_module": "@jupyter-widgets/base",
            "_model_module_version": "1.2.0",
            "_model_name": "LayoutModel",
            "_view_count": null,
            "_view_module": "@jupyter-widgets/base",
            "_view_module_version": "1.2.0",
            "_view_name": "LayoutView",
            "align_content": null,
            "align_items": null,
            "align_self": null,
            "border": null,
            "bottom": null,
            "display": null,
            "flex": null,
            "flex_flow": null,
            "grid_area": null,
            "grid_auto_columns": null,
            "grid_auto_flow": null,
            "grid_auto_rows": null,
            "grid_column": null,
            "grid_gap": null,
            "grid_row": null,
            "grid_template_areas": null,
            "grid_template_columns": null,
            "grid_template_rows": null,
            "height": null,
            "justify_content": null,
            "justify_items": null,
            "left": null,
            "margin": null,
            "max_height": null,
            "max_width": null,
            "min_height": null,
            "min_width": null,
            "object_fit": null,
            "object_position": null,
            "order": null,
            "overflow": null,
            "overflow_x": null,
            "overflow_y": null,
            "padding": null,
            "right": null,
            "top": null,
            "visibility": null,
            "width": null
          }
        },
        "9adde6bb52b748f09c23b2fbec43f8f9": {
          "model_module": "@jupyter-widgets/base",
          "model_name": "LayoutModel",
          "model_module_version": "1.2.0",
          "state": {
            "_model_module": "@jupyter-widgets/base",
            "_model_module_version": "1.2.0",
            "_model_name": "LayoutModel",
            "_view_count": null,
            "_view_module": "@jupyter-widgets/base",
            "_view_module_version": "1.2.0",
            "_view_name": "LayoutView",
            "align_content": null,
            "align_items": null,
            "align_self": null,
            "border": null,
            "bottom": null,
            "display": null,
            "flex": null,
            "flex_flow": null,
            "grid_area": null,
            "grid_auto_columns": null,
            "grid_auto_flow": null,
            "grid_auto_rows": null,
            "grid_column": null,
            "grid_gap": null,
            "grid_row": null,
            "grid_template_areas": null,
            "grid_template_columns": null,
            "grid_template_rows": null,
            "height": null,
            "justify_content": null,
            "justify_items": null,
            "left": null,
            "margin": null,
            "max_height": null,
            "max_width": null,
            "min_height": null,
            "min_width": null,
            "object_fit": null,
            "object_position": null,
            "order": null,
            "overflow": null,
            "overflow_x": null,
            "overflow_y": null,
            "padding": null,
            "right": null,
            "top": null,
            "visibility": null,
            "width": null
          }
        },
        "4f5b3227b1b34297b69ef638a41e61df": {
          "model_module": "@jupyter-widgets/controls",
          "model_name": "DescriptionStyleModel",
          "model_module_version": "1.5.0",
          "state": {
            "_model_module": "@jupyter-widgets/controls",
            "_model_module_version": "1.5.0",
            "_model_name": "DescriptionStyleModel",
            "_view_count": null,
            "_view_module": "@jupyter-widgets/base",
            "_view_module_version": "1.2.0",
            "_view_name": "StyleView",
            "description_width": ""
          }
        },
        "3106e119b59b4355b34a4d64986c167f": {
          "model_module": "@jupyter-widgets/base",
          "model_name": "LayoutModel",
          "model_module_version": "1.2.0",
          "state": {
            "_model_module": "@jupyter-widgets/base",
            "_model_module_version": "1.2.0",
            "_model_name": "LayoutModel",
            "_view_count": null,
            "_view_module": "@jupyter-widgets/base",
            "_view_module_version": "1.2.0",
            "_view_name": "LayoutView",
            "align_content": null,
            "align_items": null,
            "align_self": null,
            "border": null,
            "bottom": null,
            "display": null,
            "flex": null,
            "flex_flow": null,
            "grid_area": null,
            "grid_auto_columns": null,
            "grid_auto_flow": null,
            "grid_auto_rows": null,
            "grid_column": null,
            "grid_gap": null,
            "grid_row": null,
            "grid_template_areas": null,
            "grid_template_columns": null,
            "grid_template_rows": null,
            "height": null,
            "justify_content": null,
            "justify_items": null,
            "left": null,
            "margin": null,
            "max_height": null,
            "max_width": null,
            "min_height": null,
            "min_width": null,
            "object_fit": null,
            "object_position": null,
            "order": null,
            "overflow": null,
            "overflow_x": null,
            "overflow_y": null,
            "padding": null,
            "right": null,
            "top": null,
            "visibility": null,
            "width": null
          }
        },
        "72c04da4da0948eda06821e084f42234": {
          "model_module": "@jupyter-widgets/controls",
          "model_name": "ProgressStyleModel",
          "model_module_version": "1.5.0",
          "state": {
            "_model_module": "@jupyter-widgets/controls",
            "_model_module_version": "1.5.0",
            "_model_name": "ProgressStyleModel",
            "_view_count": null,
            "_view_module": "@jupyter-widgets/base",
            "_view_module_version": "1.2.0",
            "_view_name": "StyleView",
            "bar_color": null,
            "description_width": ""
          }
        },
        "9ec0c5d548db4050a28ea15efb6c7082": {
          "model_module": "@jupyter-widgets/base",
          "model_name": "LayoutModel",
          "model_module_version": "1.2.0",
          "state": {
            "_model_module": "@jupyter-widgets/base",
            "_model_module_version": "1.2.0",
            "_model_name": "LayoutModel",
            "_view_count": null,
            "_view_module": "@jupyter-widgets/base",
            "_view_module_version": "1.2.0",
            "_view_name": "LayoutView",
            "align_content": null,
            "align_items": null,
            "align_self": null,
            "border": null,
            "bottom": null,
            "display": null,
            "flex": null,
            "flex_flow": null,
            "grid_area": null,
            "grid_auto_columns": null,
            "grid_auto_flow": null,
            "grid_auto_rows": null,
            "grid_column": null,
            "grid_gap": null,
            "grid_row": null,
            "grid_template_areas": null,
            "grid_template_columns": null,
            "grid_template_rows": null,
            "height": null,
            "justify_content": null,
            "justify_items": null,
            "left": null,
            "margin": null,
            "max_height": null,
            "max_width": null,
            "min_height": null,
            "min_width": null,
            "object_fit": null,
            "object_position": null,
            "order": null,
            "overflow": null,
            "overflow_x": null,
            "overflow_y": null,
            "padding": null,
            "right": null,
            "top": null,
            "visibility": null,
            "width": null
          }
        },
        "53f7ba0734904dbe8831bf57a24647d6": {
          "model_module": "@jupyter-widgets/controls",
          "model_name": "DescriptionStyleModel",
          "model_module_version": "1.5.0",
          "state": {
            "_model_module": "@jupyter-widgets/controls",
            "_model_module_version": "1.5.0",
            "_model_name": "DescriptionStyleModel",
            "_view_count": null,
            "_view_module": "@jupyter-widgets/base",
            "_view_module_version": "1.2.0",
            "_view_name": "StyleView",
            "description_width": ""
          }
        },
        "72913f26f93e4d829404cffd8c9a05c5": {
          "model_module": "@jupyter-widgets/controls",
          "model_name": "HBoxModel",
          "model_module_version": "1.5.0",
          "state": {
            "_dom_classes": [],
            "_model_module": "@jupyter-widgets/controls",
            "_model_module_version": "1.5.0",
            "_model_name": "HBoxModel",
            "_view_count": null,
            "_view_module": "@jupyter-widgets/controls",
            "_view_module_version": "1.5.0",
            "_view_name": "HBoxView",
            "box_style": "",
            "children": [
              "IPY_MODEL_731426e17a4d42d5b406483732d84359",
              "IPY_MODEL_2a816dc55ad8484c95506fe52ce343e6",
              "IPY_MODEL_4ff881c6bb7347c8adc464912609030a"
            ],
            "layout": "IPY_MODEL_9f366fd2f29446439b4ea12414bfe6e6"
          }
        },
        "731426e17a4d42d5b406483732d84359": {
          "model_module": "@jupyter-widgets/controls",
          "model_name": "HTMLModel",
          "model_module_version": "1.5.0",
          "state": {
            "_dom_classes": [],
            "_model_module": "@jupyter-widgets/controls",
            "_model_module_version": "1.5.0",
            "_model_name": "HTMLModel",
            "_view_count": null,
            "_view_module": "@jupyter-widgets/controls",
            "_view_module_version": "1.5.0",
            "_view_name": "HTMLView",
            "description": "",
            "description_tooltip": null,
            "layout": "IPY_MODEL_7cb9af3ebabd4823a6bc14dd6154904f",
            "placeholder": "​",
            "style": "IPY_MODEL_5ac3bc9aba46456fadaecb0a5d1113eb",
            "value": " 98%"
          }
        },
        "2a816dc55ad8484c95506fe52ce343e6": {
          "model_module": "@jupyter-widgets/controls",
          "model_name": "FloatProgressModel",
          "model_module_version": "1.5.0",
          "state": {
            "_dom_classes": [],
            "_model_module": "@jupyter-widgets/controls",
            "_model_module_version": "1.5.0",
            "_model_name": "FloatProgressModel",
            "_view_count": null,
            "_view_module": "@jupyter-widgets/controls",
            "_view_module_version": "1.5.0",
            "_view_name": "ProgressView",
            "bar_style": "",
            "description": "",
            "description_tooltip": null,
            "layout": "IPY_MODEL_1b7760ef02524291ab64d6593765090d",
            "max": 95,
            "min": 0,
            "orientation": "horizontal",
            "style": "IPY_MODEL_e4b4a4165ae741959dabd01801595b3f",
            "value": 95
          }
        },
        "4ff881c6bb7347c8adc464912609030a": {
          "model_module": "@jupyter-widgets/controls",
          "model_name": "HTMLModel",
          "model_module_version": "1.5.0",
          "state": {
            "_dom_classes": [],
            "_model_module": "@jupyter-widgets/controls",
            "_model_module_version": "1.5.0",
            "_model_name": "HTMLModel",
            "_view_count": null,
            "_view_module": "@jupyter-widgets/controls",
            "_view_module_version": "1.5.0",
            "_view_name": "HTMLView",
            "description": "",
            "description_tooltip": null,
            "layout": "IPY_MODEL_0da2fa6ad2764d15810f93f7e0bb889f",
            "placeholder": "​",
            "style": "IPY_MODEL_80b68fb7891148118ee5963e390b677c",
            "value": " 93/95 [00:06&lt;00:00, 18.48it/s]"
          }
        },
        "9f366fd2f29446439b4ea12414bfe6e6": {
          "model_module": "@jupyter-widgets/base",
          "model_name": "LayoutModel",
          "model_module_version": "1.2.0",
          "state": {
            "_model_module": "@jupyter-widgets/base",
            "_model_module_version": "1.2.0",
            "_model_name": "LayoutModel",
            "_view_count": null,
            "_view_module": "@jupyter-widgets/base",
            "_view_module_version": "1.2.0",
            "_view_name": "LayoutView",
            "align_content": null,
            "align_items": null,
            "align_self": null,
            "border": null,
            "bottom": null,
            "display": null,
            "flex": null,
            "flex_flow": null,
            "grid_area": null,
            "grid_auto_columns": null,
            "grid_auto_flow": null,
            "grid_auto_rows": null,
            "grid_column": null,
            "grid_gap": null,
            "grid_row": null,
            "grid_template_areas": null,
            "grid_template_columns": null,
            "grid_template_rows": null,
            "height": null,
            "justify_content": null,
            "justify_items": null,
            "left": null,
            "margin": null,
            "max_height": null,
            "max_width": null,
            "min_height": null,
            "min_width": null,
            "object_fit": null,
            "object_position": null,
            "order": null,
            "overflow": null,
            "overflow_x": null,
            "overflow_y": null,
            "padding": null,
            "right": null,
            "top": null,
            "visibility": "hidden",
            "width": null
          }
        },
        "7cb9af3ebabd4823a6bc14dd6154904f": {
          "model_module": "@jupyter-widgets/base",
          "model_name": "LayoutModel",
          "model_module_version": "1.2.0",
          "state": {
            "_model_module": "@jupyter-widgets/base",
            "_model_module_version": "1.2.0",
            "_model_name": "LayoutModel",
            "_view_count": null,
            "_view_module": "@jupyter-widgets/base",
            "_view_module_version": "1.2.0",
            "_view_name": "LayoutView",
            "align_content": null,
            "align_items": null,
            "align_self": null,
            "border": null,
            "bottom": null,
            "display": null,
            "flex": null,
            "flex_flow": null,
            "grid_area": null,
            "grid_auto_columns": null,
            "grid_auto_flow": null,
            "grid_auto_rows": null,
            "grid_column": null,
            "grid_gap": null,
            "grid_row": null,
            "grid_template_areas": null,
            "grid_template_columns": null,
            "grid_template_rows": null,
            "height": null,
            "justify_content": null,
            "justify_items": null,
            "left": null,
            "margin": null,
            "max_height": null,
            "max_width": null,
            "min_height": null,
            "min_width": null,
            "object_fit": null,
            "object_position": null,
            "order": null,
            "overflow": null,
            "overflow_x": null,
            "overflow_y": null,
            "padding": null,
            "right": null,
            "top": null,
            "visibility": null,
            "width": null
          }
        },
        "5ac3bc9aba46456fadaecb0a5d1113eb": {
          "model_module": "@jupyter-widgets/controls",
          "model_name": "DescriptionStyleModel",
          "model_module_version": "1.5.0",
          "state": {
            "_model_module": "@jupyter-widgets/controls",
            "_model_module_version": "1.5.0",
            "_model_name": "DescriptionStyleModel",
            "_view_count": null,
            "_view_module": "@jupyter-widgets/base",
            "_view_module_version": "1.2.0",
            "_view_name": "StyleView",
            "description_width": ""
          }
        },
        "1b7760ef02524291ab64d6593765090d": {
          "model_module": "@jupyter-widgets/base",
          "model_name": "LayoutModel",
          "model_module_version": "1.2.0",
          "state": {
            "_model_module": "@jupyter-widgets/base",
            "_model_module_version": "1.2.0",
            "_model_name": "LayoutModel",
            "_view_count": null,
            "_view_module": "@jupyter-widgets/base",
            "_view_module_version": "1.2.0",
            "_view_name": "LayoutView",
            "align_content": null,
            "align_items": null,
            "align_self": null,
            "border": null,
            "bottom": null,
            "display": null,
            "flex": null,
            "flex_flow": null,
            "grid_area": null,
            "grid_auto_columns": null,
            "grid_auto_flow": null,
            "grid_auto_rows": null,
            "grid_column": null,
            "grid_gap": null,
            "grid_row": null,
            "grid_template_areas": null,
            "grid_template_columns": null,
            "grid_template_rows": null,
            "height": null,
            "justify_content": null,
            "justify_items": null,
            "left": null,
            "margin": null,
            "max_height": null,
            "max_width": null,
            "min_height": null,
            "min_width": null,
            "object_fit": null,
            "object_position": null,
            "order": null,
            "overflow": null,
            "overflow_x": null,
            "overflow_y": null,
            "padding": null,
            "right": null,
            "top": null,
            "visibility": null,
            "width": null
          }
        },
        "e4b4a4165ae741959dabd01801595b3f": {
          "model_module": "@jupyter-widgets/controls",
          "model_name": "ProgressStyleModel",
          "model_module_version": "1.5.0",
          "state": {
            "_model_module": "@jupyter-widgets/controls",
            "_model_module_version": "1.5.0",
            "_model_name": "ProgressStyleModel",
            "_view_count": null,
            "_view_module": "@jupyter-widgets/base",
            "_view_module_version": "1.2.0",
            "_view_name": "StyleView",
            "bar_color": null,
            "description_width": ""
          }
        },
        "0da2fa6ad2764d15810f93f7e0bb889f": {
          "model_module": "@jupyter-widgets/base",
          "model_name": "LayoutModel",
          "model_module_version": "1.2.0",
          "state": {
            "_model_module": "@jupyter-widgets/base",
            "_model_module_version": "1.2.0",
            "_model_name": "LayoutModel",
            "_view_count": null,
            "_view_module": "@jupyter-widgets/base",
            "_view_module_version": "1.2.0",
            "_view_name": "LayoutView",
            "align_content": null,
            "align_items": null,
            "align_self": null,
            "border": null,
            "bottom": null,
            "display": null,
            "flex": null,
            "flex_flow": null,
            "grid_area": null,
            "grid_auto_columns": null,
            "grid_auto_flow": null,
            "grid_auto_rows": null,
            "grid_column": null,
            "grid_gap": null,
            "grid_row": null,
            "grid_template_areas": null,
            "grid_template_columns": null,
            "grid_template_rows": null,
            "height": null,
            "justify_content": null,
            "justify_items": null,
            "left": null,
            "margin": null,
            "max_height": null,
            "max_width": null,
            "min_height": null,
            "min_width": null,
            "object_fit": null,
            "object_position": null,
            "order": null,
            "overflow": null,
            "overflow_x": null,
            "overflow_y": null,
            "padding": null,
            "right": null,
            "top": null,
            "visibility": null,
            "width": null
          }
        },
        "80b68fb7891148118ee5963e390b677c": {
          "model_module": "@jupyter-widgets/controls",
          "model_name": "DescriptionStyleModel",
          "model_module_version": "1.5.0",
          "state": {
            "_model_module": "@jupyter-widgets/controls",
            "_model_module_version": "1.5.0",
            "_model_name": "DescriptionStyleModel",
            "_view_count": null,
            "_view_module": "@jupyter-widgets/base",
            "_view_module_version": "1.2.0",
            "_view_name": "StyleView",
            "description_width": ""
          }
        }
      }
    }
  },
  "nbformat": 4,
  "nbformat_minor": 0
}