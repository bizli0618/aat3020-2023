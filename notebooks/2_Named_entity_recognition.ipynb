{
  "cells": [
    {
      "cell_type": "markdown",
      "metadata": {
        "id": "view-in-github",
        "colab_type": "text"
      },
      "source": [
        "<a href=\"https://colab.research.google.com/github/jdasam/aat3020-2023/blob/main/notebooks/2_Named_entity_recognition.ipynb\" target=\"_parent\"><img src=\"https://colab.research.google.com/assets/colab-badge.svg\" alt=\"Open In Colab\"/></a>"
      ]
    },
    {
      "cell_type": "markdown",
      "metadata": {
        "id": "45a2da87"
      },
      "source": [
        "# Named Entity Recognition\n",
        "- For a given word and its context window, estimate whether the given word is location or not"
      ]
    },
    {
      "cell_type": "markdown",
      "metadata": {
        "id": "11619f5d"
      },
      "source": [
        "# 1. Download dataset\n",
        "- CoNLL2003 "
      ]
    },
    {
      "cell_type": "code",
      "execution_count": 1,
      "metadata": {
        "vscode": {
          "languageId": "python"
        },
        "colab": {
          "base_uri": "https://localhost:8080/"
        },
        "id": "10a4faa3",
        "outputId": "fb54f40c-292e-4f26-fd40-63398ea5bd07"
      },
      "outputs": [
        {
          "output_type": "stream",
          "name": "stdout",
          "text": [
            "--2023-04-06 06:15:29--  https://data.deepai.org/conll2003.zip\n",
            "Resolving data.deepai.org (data.deepai.org)... 169.150.247.36, 2400:52e0:1500::1092:1\n",
            "Connecting to data.deepai.org (data.deepai.org)|169.150.247.36|:443... connected.\n",
            "HTTP request sent, awaiting response... 200 OK\n",
            "Length: 982975 (960K) [application/zip]\n",
            "Saving to: ‘conll2003.zip’\n",
            "\n",
            "conll2003.zip       100%[===================>] 959.94K   807KB/s    in 1.2s    \n",
            "\n",
            "2023-04-06 06:15:31 (807 KB/s) - ‘conll2003.zip’ saved [982975/982975]\n",
            "\n",
            "Archive:  conll2003.zip\n",
            "  inflating: metadata                \n",
            "  inflating: test.txt                \n",
            "  inflating: train.txt               \n",
            "  inflating: valid.txt               \n"
          ]
        }
      ],
      "source": [
        "!wget https://data.deepai.org/conll2003.zip # Download dataset\n",
        "!unzip conll2003.zip # Unzip dataset zip"
      ]
    },
    {
      "cell_type": "markdown",
      "metadata": {
        "id": "7643dde5"
      },
      "source": [
        "## 2. Preprocess Dataset"
      ]
    },
    {
      "cell_type": "code",
      "execution_count": 2,
      "metadata": {
        "vscode": {
          "languageId": "python"
        },
        "colab": {
          "base_uri": "https://localhost:8080/"
        },
        "id": "d31874b2",
        "outputId": "5c6e7327-6045-4336-9116-b62e29be927c"
      },
      "outputs": [
        {
          "output_type": "execute_result",
          "data": {
            "text/plain": [
              "['-DOCSTART- -X- -X- O',\n",
              " '',\n",
              " 'EU NNP B-NP B-ORG',\n",
              " 'rejects VBZ B-VP O',\n",
              " 'German JJ B-NP B-MISC',\n",
              " 'call NN I-NP O',\n",
              " 'to TO B-VP O',\n",
              " 'boycott VB I-VP O',\n",
              " 'British JJ B-NP B-MISC',\n",
              " 'lamb NN I-NP O',\n",
              " '. . O O',\n",
              " '',\n",
              " 'Peter NNP B-NP B-PER',\n",
              " 'Blackburn NNP I-NP I-PER',\n",
              " '',\n",
              " 'BRUSSELS NNP B-NP B-LOC',\n",
              " '1996-08-22 CD I-NP O',\n",
              " '',\n",
              " 'The DT B-NP O',\n",
              " 'European NNP I-NP B-ORG',\n",
              " 'Commission NNP I-NP I-ORG',\n",
              " 'said VBD B-VP O',\n",
              " 'on IN B-PP O',\n",
              " 'Thursday NNP B-NP O',\n",
              " 'it PRP B-NP O',\n",
              " 'disagreed VBD B-VP O',\n",
              " 'with IN B-PP O',\n",
              " 'German JJ B-NP B-MISC',\n",
              " 'advice NN I-NP O',\n",
              " 'to TO B-PP O',\n",
              " 'consumers NNS B-NP O',\n",
              " 'to TO B-VP O',\n",
              " 'shun VB I-VP O',\n",
              " 'British JJ B-NP B-MISC',\n",
              " 'lamb NN I-NP O',\n",
              " 'until IN B-SBAR O',\n",
              " 'scientists NNS B-NP O',\n",
              " 'determine VBP B-VP O',\n",
              " 'whether IN B-SBAR O',\n",
              " 'mad JJ B-NP O',\n",
              " 'cow NN I-NP O',\n",
              " 'disease NN I-NP O',\n",
              " 'can MD B-VP O',\n",
              " 'be VB I-VP O',\n",
              " 'transmitted VBN I-VP O',\n",
              " 'to TO B-PP O',\n",
              " 'sheep NN B-NP O',\n",
              " '. . O O',\n",
              " '',\n",
              " 'Germany NNP B-NP B-LOC',\n",
              " \"'s POS B-NP O\",\n",
              " 'representative NN I-NP O',\n",
              " 'to TO B-PP O',\n",
              " 'the DT B-NP O',\n",
              " 'European NNP I-NP B-ORG',\n",
              " 'Union NNP I-NP I-ORG',\n",
              " \"'s POS B-NP O\",\n",
              " 'veterinary JJ I-NP O',\n",
              " 'committee NN I-NP O',\n",
              " 'Werner NNP I-NP B-PER',\n",
              " 'Zwingmann NNP I-NP I-PER',\n",
              " 'said VBD B-VP O',\n",
              " 'on IN B-PP O',\n",
              " 'Wednesday NNP B-NP O',\n",
              " 'consumers NNS I-NP O',\n",
              " 'should MD B-VP O',\n",
              " 'buy VB I-VP O',\n",
              " 'sheepmeat NN B-NP O',\n",
              " 'from IN B-PP O',\n",
              " 'countries NNS B-NP O']"
            ]
          },
          "metadata": {},
          "execution_count": 2
        }
      ],
      "source": [
        "with open(\"train.txt\") as f:\n",
        "  string = ''.join(f.readlines())\n",
        "dataset = string.split('\\n')\n",
        "\n",
        "dataset[:70]"
      ]
    },
    {
      "cell_type": "code",
      "execution_count": 3,
      "metadata": {
        "scrolled": true,
        "vscode": {
          "languageId": "python"
        },
        "colab": {
          "base_uri": "https://localhost:8080/"
        },
        "id": "49e7f34b",
        "outputId": "8d8dd9e9-7ea7-4b20-9815-6c7d59f66b60"
      },
      "outputs": [
        {
          "output_type": "execute_result",
          "data": {
            "text/plain": [
              "[['-DOCSTART- -X- -X- O'],\n",
              " ['EU NNP B-NP B-ORG',\n",
              "  'rejects VBZ B-VP O',\n",
              "  'German JJ B-NP B-MISC',\n",
              "  'call NN I-NP O',\n",
              "  'to TO B-VP O',\n",
              "  'boycott VB I-VP O',\n",
              "  'British JJ B-NP B-MISC',\n",
              "  'lamb NN I-NP O',\n",
              "  '. . O O'],\n",
              " ['Peter NNP B-NP B-PER', 'Blackburn NNP I-NP I-PER'],\n",
              " ['BRUSSELS NNP B-NP B-LOC', '1996-08-22 CD I-NP O'],\n",
              " ['The DT B-NP O',\n",
              "  'European NNP I-NP B-ORG',\n",
              "  'Commission NNP I-NP I-ORG',\n",
              "  'said VBD B-VP O',\n",
              "  'on IN B-PP O',\n",
              "  'Thursday NNP B-NP O',\n",
              "  'it PRP B-NP O',\n",
              "  'disagreed VBD B-VP O',\n",
              "  'with IN B-PP O',\n",
              "  'German JJ B-NP B-MISC',\n",
              "  'advice NN I-NP O',\n",
              "  'to TO B-PP O',\n",
              "  'consumers NNS B-NP O',\n",
              "  'to TO B-VP O',\n",
              "  'shun VB I-VP O',\n",
              "  'British JJ B-NP B-MISC',\n",
              "  'lamb NN I-NP O',\n",
              "  'until IN B-SBAR O',\n",
              "  'scientists NNS B-NP O',\n",
              "  'determine VBP B-VP O',\n",
              "  'whether IN B-SBAR O',\n",
              "  'mad JJ B-NP O',\n",
              "  'cow NN I-NP O',\n",
              "  'disease NN I-NP O',\n",
              "  'can MD B-VP O',\n",
              "  'be VB I-VP O',\n",
              "  'transmitted VBN I-VP O',\n",
              "  'to TO B-PP O',\n",
              "  'sheep NN B-NP O',\n",
              "  '. . O O']]"
            ]
          },
          "metadata": {},
          "execution_count": 3
        }
      ],
      "source": [
        "from itertools import groupby\n",
        "\n",
        "dataset_in_sentence = [list(group) for k, group in groupby(dataset, lambda x: x == \"\") if not k]\n",
        "dataset_in_sentence[:5]"
      ]
    },
    {
      "cell_type": "code",
      "execution_count": 4,
      "metadata": {
        "vscode": {
          "languageId": "python"
        },
        "colab": {
          "base_uri": "https://localhost:8080/"
        },
        "id": "65c3dfa8",
        "outputId": "b063a993-7d66-422b-e2aa-b13fab73701f"
      },
      "outputs": [
        {
          "output_type": "execute_result",
          "data": {
            "text/plain": [
              "10625"
            ]
          },
          "metadata": {},
          "execution_count": 4
        }
      ],
      "source": [
        "# [len(sentence) for sentence in dataset_in_sentence]\n",
        "filtered_dataset = [sentence for sentence in dataset_in_sentence if len(sentence) > 5]\n",
        "len(filtered_dataset)"
      ]
    },
    {
      "cell_type": "code",
      "execution_count": 5,
      "metadata": {
        "vscode": {
          "languageId": "python"
        },
        "colab": {
          "base_uri": "https://localhost:8080/"
        },
        "id": "a1a1714b",
        "outputId": "2906b81b-b268-4034-f736-0c965fffc91c"
      },
      "outputs": [
        {
          "output_type": "stream",
          "name": "stdout",
          "text": [
            "EU B-ORG\n",
            "['<pad>', '<pad>', 'EU', 'rejects', 'German']\n",
            "rejects O\n",
            "['<pad>', 'EU', 'rejects', 'German', 'call']\n",
            "German B-MISC\n",
            "['EU', 'rejects', 'German', 'call', 'to']\n",
            "call O\n",
            "['rejects', 'German', 'call', 'to', 'boycott']\n",
            "to O\n",
            "['German', 'call', 'to', 'boycott', 'British']\n",
            "boycott O\n",
            "['call', 'to', 'boycott', 'British', 'lamb']\n",
            "British B-MISC\n",
            "['to', 'boycott', 'British', 'lamb', '.']\n",
            "lamb O\n",
            "['boycott', 'British', 'lamb', '.', '<pad>']\n",
            ". O\n",
            "['British', 'lamb', '.', '<pad>', '<pad>']\n"
          ]
        }
      ],
      "source": [
        "window_len = 2\n",
        "sentence = filtered_dataset[0]\n",
        "\n",
        "for i, word in enumerate(sentence):\n",
        "  # print(word)\n",
        "  splitted_word = word.split(' ')\n",
        "  # print(splitted_word)\n",
        "  center_word = splitted_word[0]\n",
        "  label = splitted_word[-1]\n",
        "  print(center_word, label)\n",
        "  is_organization = label in ['B-ORG', 'I-ORG']\n",
        "  # print(is_organization)\n",
        "  \n",
        "  prev_index = max(i - window_len, 0)\n",
        "  prev_words = sentence[prev_index:i]\n",
        "  prev_words = [word_str.split(' ')[0] for word_str in prev_words]\n",
        "\n",
        "  # print(prev_words)\n",
        "\n",
        "  next_index = i + window_len + 1\n",
        "  next_words = sentence[i+1:next_index]\n",
        "  # next_words = [sentence[next_index] ]\n",
        "  next_words = [word_str.split(' ')[0] for word_str in next_words]\n",
        "\n",
        "  # We have to add padding, if number of prev words or next words are shorter than expected\n",
        "  if len(prev_words) != window_len:\n",
        "    prev_words = ['<pad>'] * (window_len - len(prev_words)) + prev_words\n",
        "\n",
        "  if len(next_words) != window_len:\n",
        "    next_words = next_words + ['<pad>'] * (window_len - len(next_words))\n",
        "\n",
        "  concatenated_words = prev_words + [center_word] + next_words\n",
        "  print(concatenated_words)\n"
      ]
    },
    {
      "cell_type": "code",
      "source": [
        "import gensim.downloader\n",
        "\n",
        "wrd2vec = gensim.downloader.load(\"glove-wiki-gigaword-300\")"
      ],
      "metadata": {
        "colab": {
          "base_uri": "https://localhost:8080/"
        },
        "id": "hPO83i3UKV8C",
        "outputId": "dce1fe11-4b83-4d63-f09b-1322a2add56a"
      },
      "execution_count": 6,
      "outputs": [
        {
          "output_type": "stream",
          "name": "stdout",
          "text": [
            "[==================================================] 100.0% 376.1/376.1MB downloaded\n"
          ]
        }
      ]
    },
    {
      "cell_type": "code",
      "source": [
        "len(wrd2vec)"
      ],
      "metadata": {
        "colab": {
          "base_uri": "https://localhost:8080/"
        },
        "id": "BtVJXmXnLoN8",
        "outputId": "30379f6f-6c08-41e0-9152-6a2d3e49f5cf"
      },
      "execution_count": 7,
      "outputs": [
        {
          "output_type": "execute_result",
          "data": {
            "text/plain": [
              "400000"
            ]
          },
          "metadata": {},
          "execution_count": 7
        }
      ]
    },
    {
      "cell_type": "code",
      "source": [
        "import torch\n",
        "import numpy as np\n",
        "vec_dim = 300\n",
        "\n",
        "corresp_vectors = []\n",
        "for word in concatenated_words:\n",
        "  if word.lower() in wrd2vec: # if the word exists in wrd2vec vocab\n",
        "    vec = wrd2vec[word.lower()] # call corresponding vector \n",
        "    # vec = torch.tensor(vec)\n",
        "  else: # there is no matching word in wrd2vec vocab, such as <pad>\n",
        "    # vec = torch.zeros(vec_dim)\n",
        "    vec = np.zeros(vec_dim) # use zero vectors for that token (word)\n",
        "  corresp_vectors.append(vec)\n",
        "\n",
        "# cat_vector = torch.cat(corresp_vectors)\n",
        "cat_vector = torch.tensor(np.concatenate(corresp_vectors), dtype=torch.float)\n",
        "cat_vector.shape\n",
        "\n",
        "# torch.tensor(np.concatenate(corresp_vectors), dtype=torch.float).dtype"
      ],
      "metadata": {
        "id": "ZwM-cn5YLPgF",
        "outputId": "10591b73-48db-418d-c4a8-0d89e31b428b",
        "colab": {
          "base_uri": "https://localhost:8080/"
        }
      },
      "execution_count": 8,
      "outputs": [
        {
          "output_type": "execute_result",
          "data": {
            "text/plain": [
              "torch.Size([1500])"
            ]
          },
          "metadata": {},
          "execution_count": 8
        }
      ]
    },
    {
      "cell_type": "code",
      "source": [
        "cat_vector"
      ],
      "metadata": {
        "id": "iYWSoOy912_Y",
        "outputId": "cbfdd440-11b8-49b1-f432-e98bbd6f6195",
        "colab": {
          "base_uri": "https://localhost:8080/"
        }
      },
      "execution_count": 9,
      "outputs": [
        {
          "output_type": "execute_result",
          "data": {
            "text/plain": [
              "tensor([ 0.4436, -0.2418,  0.2366,  ...,  0.0000,  0.0000,  0.0000])"
            ]
          },
          "metadata": {},
          "execution_count": 9
        }
      ]
    },
    {
      "cell_type": "code",
      "source": [
        "# pair of data sample (input) and the label (desired output)\n",
        "cat_vector, is_organization"
      ],
      "metadata": {
        "colab": {
          "base_uri": "https://localhost:8080/"
        },
        "id": "wO8epL-1NaT_",
        "outputId": "c7deb6e4-2757-4a07-8761-f81762a603da"
      },
      "execution_count": 10,
      "outputs": [
        {
          "output_type": "execute_result",
          "data": {
            "text/plain": [
              "(tensor([ 0.4436, -0.2418,  0.2366,  ...,  0.0000,  0.0000,  0.0000]), False)"
            ]
          },
          "metadata": {},
          "execution_count": 10
        }
      ]
    },
    {
      "cell_type": "markdown",
      "source": [
        "# Design Model"
      ],
      "metadata": {
        "id": "dc55cq4wNrgt"
      }
    },
    {
      "cell_type": "code",
      "source": [
        "import torch.nn as nn\n",
        "\n",
        "class OrgClassifier(nn.Module):\n",
        "  def __init__(self, input_dim=1500, hidden_size=32):\n",
        "    super().__init__()\n",
        "    self.layer1 = nn.Linear(in_features=input_dim, out_features=hidden_size)\n",
        "    self.layer2 = nn.Linear(in_features=hidden_size, out_features=1)\n",
        "  \n",
        "  def forward(self, x):\n",
        "    hidden = self.layer1(x)\n",
        "    hidden = torch.relu(hidden)\n",
        "    out = self.layer2(hidden)\n",
        "    return out.sigmoid()\n",
        "\n",
        "model = OrgClassifier()\n",
        "out = model(cat_vector)\n",
        "print(cat_vector.shape, out.shape, out)"
      ],
      "metadata": {
        "colab": {
          "base_uri": "https://localhost:8080/"
        },
        "id": "h04izZDGNaOV",
        "outputId": "06630025-004e-4034-a213-30694b03cfe7"
      },
      "execution_count": 11,
      "outputs": [
        {
          "output_type": "stream",
          "name": "stdout",
          "text": [
            "torch.Size([1500]) torch.Size([1]) tensor([0.5350], grad_fn=<SigmoidBackward0>)\n"
          ]
        }
      ]
    },
    {
      "cell_type": "code",
      "source": [
        "hidden = model.layer1(cat_vector)\n",
        "print(hidden)\n",
        "print(hidden.shape)\n",
        "hidden = torch.relu(hidden) # You have to put non-linear operation between layers\n",
        "print(hidden)\n",
        "out = model.layer2(hidden)\n",
        "print(out)\n",
        "print(out.shape)"
      ],
      "metadata": {
        "colab": {
          "base_uri": "https://localhost:8080/"
        },
        "id": "FwN-p4MOQhgW",
        "outputId": "8c8973f2-f602-42a6-e08e-607a654beff9"
      },
      "execution_count": 12,
      "outputs": [
        {
          "output_type": "stream",
          "name": "stdout",
          "text": [
            "tensor([ 5.7920e-02,  6.4052e-03, -4.0565e-02, -1.7653e-01,  2.2926e-01,\n",
            "        -1.4481e-02,  1.3653e-01, -8.3937e-02,  3.0412e-02, -1.2492e-01,\n",
            "         8.7162e-02,  1.6179e-01,  6.3937e-02, -2.2826e-02, -1.2166e-02,\n",
            "        -3.5247e-02,  1.1444e-01, -1.5008e-01,  5.2450e-02,  2.4522e-01,\n",
            "        -1.4705e-04,  7.9963e-02,  1.9333e-01,  5.2676e-02,  2.5264e-02,\n",
            "         2.9285e-01, -5.8719e-02, -9.6301e-02, -1.2167e-01, -2.4005e-01,\n",
            "        -3.4111e-03,  1.3074e-01], grad_fn=<AddBackward0>)\n",
            "torch.Size([32])\n",
            "tensor([0.0579, 0.0064, 0.0000, 0.0000, 0.2293, 0.0000, 0.1365, 0.0000, 0.0304,\n",
            "        0.0000, 0.0872, 0.1618, 0.0639, 0.0000, 0.0000, 0.0000, 0.1144, 0.0000,\n",
            "        0.0525, 0.2452, 0.0000, 0.0800, 0.1933, 0.0527, 0.0253, 0.2928, 0.0000,\n",
            "        0.0000, 0.0000, 0.0000, 0.0000, 0.1307], grad_fn=<ReluBackward0>)\n",
            "tensor([0.1401], grad_fn=<AddBackward0>)\n",
            "torch.Size([1])\n"
          ]
        }
      ]
    },
    {
      "cell_type": "code",
      "source": [
        "# How nn.Linear works\n",
        "out = model.layer2(hidden)\n",
        "\n",
        "# Let's get the same value by matrix multiplication\n",
        "# model.layer2.weight, model.layer2.bias\n",
        "for param in model.layer2.named_parameters(): # you can call list of entire parameters\n",
        "# by amodule.parameters()\n",
        "  print(param)\n",
        "\n",
        "print(hidden.shape, model.layer2.weight.shape)\n",
        "hidden_mat = hidden.unsqueeze(0)\n",
        "print(hidden_mat, hidden_mat.shape)\n",
        "weighted_sum = torch.mm(hidden_mat, model.layer2.weight.T ) #torch.mm is much more strict than torch.matmul\n",
        "\n",
        "weighted_sum_forloop = 0\n",
        "for x, w in zip(hidden, model.layer2.weight[0]):\n",
        "  # print(x.item(), w.item())\n",
        "  weighted_input = x.item() * w.item()\n",
        "  weighted_sum_forloop += weighted_input\n",
        "\n",
        "print(weighted_sum_forloop, weighted_sum)\n",
        "\n",
        "print(model.layer2.bias)\n",
        "final_output = weighted_sum + model.layer2.bias\n",
        "print(final_output, out)"
      ],
      "metadata": {
        "id": "Dklob4vr2-lT",
        "outputId": "bb116242-e5f2-4eae-b177-20daf620b80b",
        "colab": {
          "base_uri": "https://localhost:8080/"
        }
      },
      "execution_count": 13,
      "outputs": [
        {
          "output_type": "stream",
          "name": "stdout",
          "text": [
            "('weight', Parameter containing:\n",
            "tensor([[ 0.1162,  0.0396, -0.1534, -0.1407,  0.0741, -0.0981,  0.0548,  0.0835,\n",
            "         -0.1564, -0.0236, -0.0771,  0.1569, -0.0061,  0.1473,  0.1404,  0.0430,\n",
            "         -0.0791,  0.0315,  0.1003,  0.0832, -0.1101, -0.1750, -0.1501,  0.0967,\n",
            "          0.0187,  0.1206,  0.1708, -0.1455, -0.0929,  0.1374,  0.0665,  0.0247]],\n",
            "       requires_grad=True))\n",
            "('bias', Parameter containing:\n",
            "tensor([0.0774], requires_grad=True))\n",
            "torch.Size([32]) torch.Size([1, 32])\n",
            "tensor([[0.0579, 0.0064, 0.0000, 0.0000, 0.2293, 0.0000, 0.1365, 0.0000, 0.0304,\n",
            "         0.0000, 0.0872, 0.1618, 0.0639, 0.0000, 0.0000, 0.0000, 0.1144, 0.0000,\n",
            "         0.0525, 0.2452, 0.0000, 0.0800, 0.1933, 0.0527, 0.0253, 0.2928, 0.0000,\n",
            "         0.0000, 0.0000, 0.0000, 0.0000, 0.1307]],\n",
            "       grad_fn=<UnsqueezeBackward0>) torch.Size([1, 32])\n",
            "0.06268444261845958 tensor([[0.0627]], grad_fn=<MmBackward0>)\n",
            "Parameter containing:\n",
            "tensor([0.0774], requires_grad=True)\n",
            "tensor([[0.1401]], grad_fn=<AddBackward0>) tensor([0.1401], grad_fn=<AddBackward0>)\n"
          ]
        }
      ]
    },
    {
      "cell_type": "markdown",
      "source": [
        "\n",
        "\n",
        "\n",
        "\n",
        "\n",
        "\n",
        "\n",
        "\n",
        "\n",
        "\n",
        "\n",
        "\n",
        "\n",
        "\n"
      ],
      "metadata": {
        "id": "9H6lcPUJ5kFd"
      }
    },
    {
      "cell_type": "code",
      "source": [
        "relu_hidden = torch.relu(hidden) \n",
        "relu_hidden = hidden.relu()\n",
        "\n",
        "torch.sigmoid(out) == out.sigmoid()"
      ],
      "metadata": {
        "colab": {
          "base_uri": "https://localhost:8080/"
        },
        "id": "uAdhowMHRb5l",
        "outputId": "2ab2b5b5-318a-4ba3-c73d-dbc11343be8e"
      },
      "execution_count": 14,
      "outputs": [
        {
          "output_type": "execute_result",
          "data": {
            "text/plain": [
              "tensor([True])"
            ]
          },
          "metadata": {},
          "execution_count": 14
        }
      ]
    },
    {
      "cell_type": "markdown",
      "source": [
        "# Make Dataset Class"
      ],
      "metadata": {
        "id": "fB96mYlESABp"
      }
    },
    {
      "cell_type": "code",
      "source": [
        "class Dataset:\n",
        "  def __init__(self, txt_fn, wrd2vec):\n",
        "    dataset = self.read_text_data(txt_fn)\n",
        "    dataset_in_sentence = self.group_by_sentence(dataset)\n",
        "    filtered_dataset = [sentence for sentence in dataset_in_sentence if len(sentence) > 5]\n",
        "    self.data_in_sentence = filtered_dataset\n",
        "\n",
        "    # for every sentence, make windowed_words pairs:\n",
        "    total_windowed_words = []\n",
        "    for sentence in self.data_in_sentence:\n",
        "      total_windowed_words += self.get_windowed_words_from_sentence(sentence)\n",
        "    self.data = total_windowed_words\n",
        "    self.wrd2vec = wrd2vec \n",
        "    self.vec_size = wrd2vec.vector_size\n",
        "  \n",
        "  def read_text_data(self, txt_fn):\n",
        "    with open(\"train.txt\") as f:\n",
        "      string = ''.join(f.readlines())\n",
        "    dataset = string.split('\\n')\n",
        "    return dataset\n",
        "  \n",
        "  def group_by_sentence(self, dataset):\n",
        "    dataset_in_sentence = [list(group) for k, group in groupby(dataset, lambda x: x == \"\") if not k]\n",
        "    return dataset_in_sentence\n",
        "\n",
        "  def get_windowed_words_from_sentence(self, sentence):\n",
        "    result = []\n",
        "    for i, word in enumerate(sentence):\n",
        "      splitted_word = word.split(' ')\n",
        "      center_word = splitted_word[0]\n",
        "      label = splitted_word[-1]\n",
        "      is_organization = label in ['B-ORG', 'I-ORG']\n",
        "      \n",
        "      prev_index = max(i - window_len, 0)\n",
        "      prev_words = sentence[prev_index:i]\n",
        "      prev_words = [word_str.split(' ')[0] for word_str in prev_words]\n",
        "\n",
        "\n",
        "      next_index = i + window_len + 1\n",
        "      next_words = sentence[i+1:next_index]\n",
        "      next_words = [word_str.split(' ')[0] for word_str in next_words]\n",
        "\n",
        "      # We have to add padding, if number of prev words or next words are shorter than expected\n",
        "      if len(prev_words) != window_len:\n",
        "        prev_words = ['<pad>'] * (window_len - len(prev_words)) + prev_words\n",
        "\n",
        "      if len(next_words) != window_len:\n",
        "        next_words = next_words + ['<pad>'] * (window_len - len(next_words))\n",
        "\n",
        "      concatenated_words = prev_words + [center_word] + next_words\n",
        "      result.append( (concatenated_words, is_organization))\n",
        "    return result\n",
        "\n",
        "  def __len__(self): # number of independent data samples\n",
        "    return len(self.data)\n",
        "\n",
        "  def __getitem__(self, idx):\n",
        "    # is called when you call dataset[idx]\n",
        "    cat_words, label = self.data[idx]\n",
        "\n",
        "    # return self.data[idx]\n",
        "    return self.convert_windowed_words_to_vector(cat_words), label\n",
        "\n",
        "  def convert_windowed_words_to_vector(self, cat_words):\n",
        "    # cat_words: list of strings\n",
        "    # e.g. ['<pad>', '<pad>', 'EU', 'rejects', 'German']\n",
        "    corresp_vectors = []\n",
        "    for word in cat_words:\n",
        "      if word.lower() in self.wrd2vec: # if the word exists in wrd2vec vocab\n",
        "        vec = self.wrd2vec[word.lower()] # call corresponding vector \n",
        "        # vec = torch.tensor(vec)\n",
        "      else: # there is no matching word in wrd2vec vocab, such as <pad>\n",
        "        # vec = torch.zeros(vec_dim)\n",
        "        vec = np.zeros(self.vec_size) # use zero vectors for that token (word)\n",
        "      corresp_vectors.append(vec)\n",
        "    return torch.tensor(np.concatenate(corresp_vectors), dtype=torch.float)\n",
        "\n",
        "dataset = Dataset(\"train.txt\", wrd2vec)"
      ],
      "metadata": {
        "id": "nPGbWxVWR_h1"
      },
      "execution_count": 15,
      "outputs": []
    },
    {
      "cell_type": "code",
      "source": [
        "len(dataset.data), dataset.data[0]"
      ],
      "metadata": {
        "id": "hHUpjGUg9DJg",
        "outputId": "03dbc32d-ee96-48b9-d32f-955bdfda29ab",
        "colab": {
          "base_uri": "https://localhost:8080/"
        }
      },
      "execution_count": 16,
      "outputs": [
        {
          "output_type": "execute_result",
          "data": {
            "text/plain": [
              "(192587, (['<pad>', '<pad>', 'EU', 'rejects', 'German'], True))"
            ]
          },
          "metadata": {},
          "execution_count": 16
        }
      ]
    },
    {
      "cell_type": "code",
      "source": [
        "len(dataset), dataset[0]"
      ],
      "metadata": {
        "id": "mbFSkXTb9Sql",
        "outputId": "92d28406-35fe-4dba-d480-8a518570012d",
        "colab": {
          "base_uri": "https://localhost:8080/"
        }
      },
      "execution_count": 17,
      "outputs": [
        {
          "output_type": "execute_result",
          "data": {
            "text/plain": [
              "(192587,\n",
              " (tensor([ 0.0000,  0.0000,  0.0000,  ..., -0.1950,  0.2041,  0.3530]), True))"
            ]
          },
          "metadata": {},
          "execution_count": 17
        }
      ]
    },
    {
      "cell_type": "code",
      "source": [
        "dataset[100]"
      ],
      "metadata": {
        "id": "TSWoHJco_-tY",
        "outputId": "91a6cfe5-0331-482c-9d8c-6b02f5c79ed9",
        "colab": {
          "base_uri": "https://localhost:8080/"
        }
      },
      "execution_count": 18,
      "outputs": [
        {
          "output_type": "execute_result",
          "data": {
            "text/plain": [
              "(tensor([-0.2295,  0.3255, -0.0927,  ..., -0.3422, -0.0224,  0.1368]), False)"
            ]
          },
          "metadata": {},
          "execution_count": 18
        }
      ]
    },
    {
      "cell_type": "code",
      "source": [
        "wrd2vec.vector_size"
      ],
      "metadata": {
        "id": "Hahxf24x-9xL",
        "outputId": "d5a2bd0b-8832-4c2f-9d45-5db55747f7fb",
        "colab": {
          "base_uri": "https://localhost:8080/"
        }
      },
      "execution_count": 19,
      "outputs": [
        {
          "output_type": "execute_result",
          "data": {
            "text/plain": [
              "300"
            ]
          },
          "metadata": {},
          "execution_count": 19
        }
      ]
    },
    {
      "cell_type": "code",
      "source": [
        "# Our method can make training samples from a given data_in_setence\n",
        "dataset.get_windowed_words_from_sentence(dataset.data_in_sentence[100])"
      ],
      "metadata": {
        "colab": {
          "base_uri": "https://localhost:8080/"
        },
        "id": "xGhz5RwYR3BZ",
        "outputId": "8d382ecd-0854-45de-c984-e18801cc8cc8"
      },
      "execution_count": 20,
      "outputs": [
        {
          "output_type": "execute_result",
          "data": {
            "text/plain": [
              "[(['<pad>', '<pad>', 'Israel', \"'s\", 'Channel'], False),\n",
              " (['<pad>', 'Israel', \"'s\", 'Channel', 'Two'], False),\n",
              " (['Israel', \"'s\", 'Channel', 'Two', 'television'], True),\n",
              " ([\"'s\", 'Channel', 'Two', 'television', 'said'], True),\n",
              " (['Channel', 'Two', 'television', 'said', 'Damascus'], False),\n",
              " (['Two', 'television', 'said', 'Damascus', 'had'], False),\n",
              " (['television', 'said', 'Damascus', 'had', 'sent'], False),\n",
              " (['said', 'Damascus', 'had', 'sent', 'a'], False),\n",
              " (['Damascus', 'had', 'sent', 'a', '\"'], False),\n",
              " (['had', 'sent', 'a', '\"', 'calming'], False),\n",
              " (['sent', 'a', '\"', 'calming', 'signal'], False),\n",
              " (['a', '\"', 'calming', 'signal', '\"'], False),\n",
              " (['\"', 'calming', 'signal', '\"', 'to'], False),\n",
              " (['calming', 'signal', '\"', 'to', 'Israel'], False),\n",
              " (['signal', '\"', 'to', 'Israel', '.'], False),\n",
              " (['\"', 'to', 'Israel', '.', '<pad>'], False),\n",
              " (['to', 'Israel', '.', '<pad>', '<pad>'], False)]"
            ]
          },
          "metadata": {},
          "execution_count": 20
        }
      ]
    },
    {
      "cell_type": "code",
      "source": [
        "# use data loader\n",
        "\n",
        "from torch.utils.data import DataLoader\n",
        "\n",
        "dataloader = DataLoader(dataset, batch_size=16, shuffle=True, drop_last=True)\n",
        "\n",
        "for batch in dataloader:\n",
        "  print(batch)\n",
        "  break"
      ],
      "metadata": {
        "id": "2HcHg0-98Wr2",
        "outputId": "d44c5511-4cde-4d8e-ff1a-ea8226eac89b",
        "colab": {
          "base_uri": "https://localhost:8080/"
        }
      },
      "execution_count": 21,
      "outputs": [
        {
          "output_type": "stream",
          "name": "stdout",
          "text": [
            "[tensor([[ 0.4658, -0.3766, -0.1599,  ..., -0.1984, -0.4635,  0.2530],\n",
            "        [-0.3690,  0.8970,  0.3480,  ..., -0.4570,  0.2521, -0.1878],\n",
            "        [ 0.0466,  0.2132, -0.0074,  ...,  0.5987, -0.7318, -0.2281],\n",
            "        ...,\n",
            "        [-0.0560,  0.3310, -0.4871,  ...,  0.0000,  0.0000,  0.0000],\n",
            "        [ 0.0000,  0.0000,  0.0000,  ..., -0.4441,  0.0405,  0.0951],\n",
            "        [ 0.0000,  0.0000,  0.0000,  ..., -0.6112, -0.0046, -0.1132]]), tensor([False, False, False, False, False, False, False, False,  True, False,\n",
            "        False, False, False, False,  True, False])]\n"
          ]
        }
      ]
    },
    {
      "cell_type": "code",
      "source": [
        "input_tensors = batch[0]\n",
        "labels = batch[1]\n",
        "\n",
        "input_tensors.shape, labels.shape"
      ],
      "metadata": {
        "id": "GbPDJK1WA0T2",
        "outputId": "839c0f8b-0c7d-468f-8e8d-5923f232aae8",
        "colab": {
          "base_uri": "https://localhost:8080/"
        }
      },
      "execution_count": 22,
      "outputs": [
        {
          "output_type": "execute_result",
          "data": {
            "text/plain": [
              "(torch.Size([16, 1500]), torch.Size([16]))"
            ]
          },
          "metadata": {},
          "execution_count": 22
        }
      ]
    },
    {
      "cell_type": "code",
      "source": [
        "# Check that our model can compute the input batch\n",
        "pred = model(input_tensors)\n",
        "pred.shape, pred"
      ],
      "metadata": {
        "id": "33zUbVYGBK2T",
        "outputId": "a6cbc70c-62d0-4de9-f13b-264ecfff1334",
        "colab": {
          "base_uri": "https://localhost:8080/"
        }
      },
      "execution_count": 23,
      "outputs": [
        {
          "output_type": "execute_result",
          "data": {
            "text/plain": [
              "(torch.Size([16, 1]),\n",
              " tensor([[0.5388],\n",
              "         [0.4946],\n",
              "         [0.4895],\n",
              "         [0.4961],\n",
              "         [0.4801],\n",
              "         [0.5019],\n",
              "         [0.4914],\n",
              "         [0.5199],\n",
              "         [0.5214],\n",
              "         [0.5308],\n",
              "         [0.5007],\n",
              "         [0.4945],\n",
              "         [0.5020],\n",
              "         [0.5418],\n",
              "         [0.5199],\n",
              "         [0.5372]], grad_fn=<SigmoidBackward0>))"
            ]
          },
          "metadata": {},
          "execution_count": 23
        }
      ]
    },
    {
      "cell_type": "code",
      "source": [
        "labels.dtype, labels, labels.float()"
      ],
      "metadata": {
        "id": "4VwcsEDnDJwA",
        "outputId": "4fe185d9-bb31-43ed-b4f3-8b437fd45e47",
        "colab": {
          "base_uri": "https://localhost:8080/"
        }
      },
      "execution_count": 24,
      "outputs": [
        {
          "output_type": "execute_result",
          "data": {
            "text/plain": [
              "(torch.bool,\n",
              " tensor([False, False, False, False, False, False, False, False,  True, False,\n",
              "         False, False, False, False,  True, False]),\n",
              " tensor([0., 0., 0., 0., 0., 0., 0., 0., 1., 0., 0., 0., 0., 0., 1., 0.]))"
            ]
          },
          "metadata": {},
          "execution_count": 24
        }
      ]
    },
    {
      "cell_type": "code",
      "source": [
        "print(pred)\n",
        "print(pred.squeeze())"
      ],
      "metadata": {
        "id": "n17fWx4IDgGQ",
        "outputId": "5eeb8a7a-429f-4ec5-bdcd-8a459c7643f0",
        "colab": {
          "base_uri": "https://localhost:8080/"
        }
      },
      "execution_count": 25,
      "outputs": [
        {
          "output_type": "stream",
          "name": "stdout",
          "text": [
            "tensor([[0.5388],\n",
            "        [0.4946],\n",
            "        [0.4895],\n",
            "        [0.4961],\n",
            "        [0.4801],\n",
            "        [0.5019],\n",
            "        [0.4914],\n",
            "        [0.5199],\n",
            "        [0.5214],\n",
            "        [0.5308],\n",
            "        [0.5007],\n",
            "        [0.4945],\n",
            "        [0.5020],\n",
            "        [0.5418],\n",
            "        [0.5199],\n",
            "        [0.5372]], grad_fn=<SigmoidBackward0>)\n",
            "tensor([0.5388, 0.4946, 0.4895, 0.4961, 0.4801, 0.5019, 0.4914, 0.5199, 0.5214,\n",
            "        0.5308, 0.5007, 0.4945, 0.5020, 0.5418, 0.5199, 0.5372],\n",
            "       grad_fn=<SqueezeBackward0>)\n"
          ]
        }
      ]
    },
    {
      "cell_type": "code",
      "source": [
        "# Calculate loss\n",
        "print(pred.shape, labels.shape)\n",
        "\n",
        "def get_binary_cross_entropy_loss(pred, label, eps=1e-8):\n",
        "  return label * (-torch.log(pred+eps)) + (1-label) * (-torch.log(1-pred+eps))\n",
        "\n",
        "loss = get_binary_cross_entropy_loss(pred.squeeze(), labels.float())\n",
        "loss = loss.mean() # take mean\n",
        "loss"
      ],
      "metadata": {
        "id": "iiuVTxHBBbwx",
        "outputId": "969b7f02-177b-4e49-a29c-c0d56ee7ae11",
        "colab": {
          "base_uri": "https://localhost:8080/"
        }
      },
      "execution_count": 26,
      "outputs": [
        {
          "output_type": "stream",
          "name": "stdout",
          "text": [
            "torch.Size([16, 1]) torch.Size([16])\n"
          ]
        },
        {
          "output_type": "execute_result",
          "data": {
            "text/plain": [
              "tensor(0.7038, grad_fn=<MeanBackward0>)"
            ]
          },
          "metadata": {},
          "execution_count": 26
        }
      ]
    },
    {
      "cell_type": "code",
      "source": [
        "# Check how gradient looks like before the backpropagation\n",
        "print(model.layer1.weight.grad) # print None"
      ],
      "metadata": {
        "id": "_5keVatqD5oY",
        "outputId": "c506ff5b-fcbd-4f5d-da1e-4da6594daeab",
        "colab": {
          "base_uri": "https://localhost:8080/"
        }
      },
      "execution_count": 27,
      "outputs": [
        {
          "output_type": "stream",
          "name": "stdout",
          "text": [
            "None\n"
          ]
        }
      ]
    },
    {
      "cell_type": "code",
      "source": [
        "# backpropagate the loss \n",
        "loss.backward()"
      ],
      "metadata": {
        "id": "z5PoLCdiDxqI"
      },
      "execution_count": 28,
      "outputs": []
    },
    {
      "cell_type": "code",
      "source": [
        "# Check how gradient looks like after the backpropagation\n",
        "print(model.layer1.weight.grad)"
      ],
      "metadata": {
        "id": "LEbe0q7mEDEL",
        "outputId": "d27aefbe-be6d-4740-88d2-acb38f877918",
        "colab": {
          "base_uri": "https://localhost:8080/"
        }
      },
      "execution_count": 29,
      "outputs": [
        {
          "output_type": "stream",
          "name": "stdout",
          "text": [
            "tensor([[-1.3029e-03,  1.6447e-03, -2.2682e-03,  ..., -1.0732e-03,\n",
            "          9.6812e-04,  1.8462e-03],\n",
            "        [ 1.0438e-04, -6.2108e-04,  5.1194e-04,  ..., -1.3381e-03,\n",
            "         -2.5727e-04, -1.0311e-03],\n",
            "        [ 4.7623e-03, -6.9035e-03,  1.6333e-03,  ...,  6.6902e-03,\n",
            "          1.2333e-02,  3.6069e-03],\n",
            "        ...,\n",
            "        [ 2.0680e-03, -3.0605e-03,  2.8203e-04,  ..., -1.7004e-03,\n",
            "         -4.0228e-03, -3.4317e-03],\n",
            "        [-2.4896e-03,  1.2985e-03,  2.1700e-03,  ...,  3.1580e-04,\n",
            "         -1.8204e-03,  3.3019e-04],\n",
            "        [-2.6789e-04, -3.5687e-04,  1.0387e-04,  ...,  3.4459e-05,\n",
            "         -1.3059e-03,  6.7049e-04]])\n"
          ]
        }
      ]
    },
    {
      "cell_type": "code",
      "source": [
        "model.layer1.weight.grad.shape, model.layer1.weight.shape\n",
        "# Each parameter in the layer has its own gradient"
      ],
      "metadata": {
        "id": "hdgqNLryEJSk",
        "outputId": "2a3c9eac-6fc5-4ae7-95c1-c29f997855af",
        "colab": {
          "base_uri": "https://localhost:8080/"
        }
      },
      "execution_count": 30,
      "outputs": [
        {
          "output_type": "execute_result",
          "data": {
            "text/plain": [
              "(torch.Size([32, 1500]), torch.Size([32, 1500]))"
            ]
          },
          "metadata": {},
          "execution_count": 30
        }
      ]
    },
    {
      "cell_type": "code",
      "source": [
        "model.layer1.weight.grad[0, :10]\n",
        "# Gradient is ratio between the parameter's change and the loss' change\n",
        "# if the gradient is 0.01\n",
        "# that means if the parameter increases for 1,\n",
        "# the loss will increase for 1*0.01"
      ],
      "metadata": {
        "colab": {
          "base_uri": "https://localhost:8080/"
        },
        "id": "4eZYhpMeHjPG",
        "outputId": "4a723e61-2fdf-4956-e601-0d4fd36754bf"
      },
      "execution_count": 31,
      "outputs": [
        {
          "output_type": "execute_result",
          "data": {
            "text/plain": [
              "tensor([-0.0013,  0.0016, -0.0023, -0.0037, -0.0004,  0.0017, -0.0006, -0.0006,\n",
              "         0.0007, -0.0127])"
            ]
          },
          "metadata": {},
          "execution_count": 31
        }
      ]
    },
    {
      "cell_type": "code",
      "source": [
        "# manually update weight parameters using the gradient\n",
        "model.layer1.weight.data -= model.layer1.weight.grad * 0.001"
      ],
      "metadata": {
        "id": "Mn2aK17oEWl3"
      },
      "execution_count": 32,
      "outputs": []
    },
    {
      "cell_type": "code",
      "source": [
        "# use torch.optim.optimizers"
      ],
      "metadata": {
        "id": "twraLTiAEZdA"
      },
      "execution_count": 33,
      "outputs": []
    },
    {
      "cell_type": "code",
      "source": [
        "pred = model(input_tensors)\n",
        "loss = get_binary_cross_entropy_loss(pred.squeeze(), labels.float())\n",
        "loss = loss.mean()\n",
        "\n",
        "print(loss.item())"
      ],
      "metadata": {
        "colab": {
          "base_uri": "https://localhost:8080/"
        },
        "id": "dhgAM875HXTU",
        "outputId": "985a4804-a153-4291-d929-c96519232293"
      },
      "execution_count": 34,
      "outputs": [
        {
          "output_type": "stream",
          "name": "stdout",
          "text": [
            "0.7028447985649109\n"
          ]
        }
      ]
    },
    {
      "cell_type": "code",
      "source": [
        "model.layer2.weight.grad = None # rest gradient to zero\n",
        "loss.backward()"
      ],
      "metadata": {
        "id": "-zcC1t5YJYYJ"
      },
      "execution_count": 35,
      "outputs": []
    },
    {
      "cell_type": "code",
      "source": [
        "model.layer2.weight.grad"
      ],
      "metadata": {
        "colab": {
          "base_uri": "https://localhost:8080/"
        },
        "id": "MWkIJQiZJjnY",
        "outputId": "a7b5f89b-0d78-4de0-8d7c-ba7379f07923"
      },
      "execution_count": 36,
      "outputs": [
        {
          "output_type": "execute_result",
          "data": {
            "text/plain": [
              "tensor([[0.0237, 0.0099, 0.0697, 0.0213, 0.0245, 0.0431, 0.0172, 0.0283, 0.0277,\n",
              "         0.0059, 0.0350, 0.0217, 0.0372, 0.0094, 0.0227, 0.0296, 0.0495, 0.0000,\n",
              "         0.0375, 0.0745, 0.0341, 0.0574, 0.0079, 0.0005, 0.0255, 0.0515, 0.0470,\n",
              "         0.1193, 0.0107, 0.0035, 0.0039, 0.0180]])"
            ]
          },
          "metadata": {},
          "execution_count": 36
        }
      ]
    },
    {
      "cell_type": "code",
      "source": [
        "print(model.layer2.weight.data[0,-5])\n",
        "model.layer2.weight.data[0,-5] -= model.layer2.weight.grad[0,-5] * 100 # times learning rate\n",
        "print(model.layer2.weight.data[0,-5])\n"
      ],
      "metadata": {
        "colab": {
          "base_uri": "https://localhost:8080/"
        },
        "id": "H9uPQQ1cJvH3",
        "outputId": "d63b694f-615f-4fc9-f3e5-757a583bb4ac"
      },
      "execution_count": 37,
      "outputs": [
        {
          "output_type": "stream",
          "name": "stdout",
          "text": [
            "tensor(-0.1455)\n",
            "tensor(-12.0746)\n"
          ]
        }
      ]
    },
    {
      "cell_type": "code",
      "source": [
        "labels"
      ],
      "metadata": {
        "colab": {
          "base_uri": "https://localhost:8080/"
        },
        "id": "TPIqbtG5KRVy",
        "outputId": "a76372dc-3b53-405e-cb8f-70c08d0913a9"
      },
      "execution_count": 38,
      "outputs": [
        {
          "output_type": "execute_result",
          "data": {
            "text/plain": [
              "tensor([False, False, False, False, False, False, False, False,  True, False,\n",
              "        False, False, False, False,  True, False])"
            ]
          },
          "metadata": {},
          "execution_count": 38
        }
      ]
    },
    {
      "cell_type": "code",
      "source": [
        "\n",
        "\n",
        "pred = model(input_tensors)\n",
        "loss = get_binary_cross_entropy_loss(pred.squeeze(), labels.float())\n",
        "loss = loss.mean()\n",
        "\n",
        "print(loss.item())"
      ],
      "metadata": {
        "colab": {
          "base_uri": "https://localhost:8080/"
        },
        "id": "6KVnVC4pJWPm",
        "outputId": "e88ae515-fb7c-4b7d-f61a-43f0b0a07936"
      },
      "execution_count": 39,
      "outputs": [
        {
          "output_type": "stream",
          "name": "stdout",
          "text": [
            "0.4473606050014496\n"
          ]
        }
      ]
    },
    {
      "cell_type": "code",
      "source": [
        "# Training the model == update the model's parameters\n",
        "\n",
        "# 1. make a prediction\n",
        "# 2. calculate the loss (to see how good or bad your current parameters are )\n",
        "# 3. calculate the gradient of each parameters using backpropagation\n",
        "# 4. update the parameters using the gradient (we call it optimization)\n",
        "# we can use several optimizers to update the parameters\n",
        "\n",
        "# optimizers: SGD (stochastic gradient descent, maybe Vanilla one), \n",
        "#    Adam (most famous), Adadelta, Adamp\n",
        "\n",
        "# Define optimizer\n",
        "# select the optimizer class\n",
        "optimizer = torch.optim.Adam(model.parameters(), lr=0.001)\n",
        "\n",
        "\n",
        "# now we can update the model's parameters using\n",
        "optimizer.step()\n",
        "\n",
        "# You can also reset the gradietn using the optimizer\n",
        "optimizer.zero_grad()"
      ],
      "metadata": {
        "id": "d-Nv3e88Kito"
      },
      "execution_count": 40,
      "outputs": []
    },
    {
      "cell_type": "markdown",
      "source": [
        "# Main Training Loop"
      ],
      "metadata": {
        "id": "8aE9z_Qj9ruo"
      }
    },
    {
      "cell_type": "code",
      "source": [
        "from tqdm.auto import tqdm\n",
        "\n",
        "train_set = Dataset(\"train.txt\", wrd2vec)\n",
        "valid_set = Dataset(\"valid.txt\", wrd2vec)\n",
        "test_set = Dataset(\"test.txt\", wrd2vec)\n",
        "\n",
        "train_loader = DataLoader(train_set, batch_size=128, shuffle=True, drop_last=True)\n",
        "valid_loader = DataLoader(valid_set, batch_size=512, shuffle=False, drop_last=False)\n",
        "test_loader = DataLoader(test_set, batch_size=512, shuffle=False, drop_last=False)\n",
        "# If shuffle is false, the batch would look like [0, 1, 2, 3], [4, 5, 6, 7]\n",
        "# droplast: Let's say you have 258 samples. and batch size is 128\n",
        "# 128, 128, so now you have 2 samples left\n",
        "# so if you do not drop it, you will have batch size of 2 for the last batch\n",
        "\n",
        "# Let's use GPU\n",
        "DEV = 'cuda'\n",
        "model = OrgClassifier()\n",
        "model.to(DEV) # model=model.to('cuda)\n",
        "# cuda is an NVIDIA GPU library\n",
        "optimizer = torch.optim.Adam(model.parameters(), lr=0.001)\n",
        "loss_record = []\n",
        "\n",
        "num_epoch = 5\n",
        "\n",
        "for epoch in tqdm(range(num_epoch)):\n",
        "  model.train()\n",
        "  for batch in tqdm(train_loader, leave=False):\n",
        "    input_tensors, labels = batch\n",
        "    input_tensors = input_tensors.to(DEV)\n",
        "    labels = labels.to(DEV)\n",
        "    pred = model(input_tensors)\n",
        "    loss = get_binary_cross_entropy_loss(pred.squeeze(), labels.float())\n",
        "    loss = loss.mean()\n",
        "    loss.backward() # do backpropagation. This will calculate the gradient of each parameter\n",
        "    optimizer.step() # This will update the parameters using the gradient\n",
        "    optimizer.zero_grad()\n",
        "    # print(torch.sum(labels).item(), loss.item())\n",
        "    loss_record.append(loss.item())\n",
        "  "
      ],
      "metadata": {
        "colab": {
          "base_uri": "https://localhost:8080/",
          "height": 49,
          "referenced_widgets": [
            "0a646073f39b4aeeb85e646ce0fc8a8c",
            "eb8659ce4e2e4f7ea336bd57e714330a",
            "920d0fdedae2403a8910a7ae0cf50a6e",
            "d4ee957d42dd4a0aa9d0166959afa91f",
            "9fd6d58ecd8d4d09af6c59e649b5c2a9",
            "afe94416b7a14d79a49e59b7f647b3c4",
            "a8e1b6bddedb41c0a18f879b40130779",
            "67b71cdfab1b4141a47cd42d9d873ef1",
            "8ed5e18843ba4479b3f5d75b8ac723d2",
            "264187bad6f047feb21cba073956d7d3",
            "92e8565e639a4c20b895f0a4b548509e",
            "1c3b31fe096343628179ef9792ba0f40",
            "f7233cd0ede64bb8a3d1d44d1e9cb440",
            "74e394b7d3e54e61a7f5b4d4f1115801",
            "6367dca124e9452b97d2a16a015b1f5e",
            "83f03cf6cd464537a707b4eea56253c4",
            "59c549d905e240c4adb456b548d7c4d2",
            "0029bc9206494d6f80f1ae27442396a5",
            "5440f0b09a2346fa81fb8dd5d0461a96",
            "d2e8e60284814026a586f0b3ad2c0b90",
            "9984aae00bc44cdeb0ae53e8f4d85462",
            "c806411a837548aeb3512ca908dc64b5",
            "31b0cb9703a541a6bdc0126d0bc55f30",
            "1a0276df8f984a37a6cb2d80a8a570a1",
            "e010226aec78470cb1d7f369a99efded",
            "e469de56aa9d43c5ab4b6ab3d0f73809",
            "544355f265a2487c832ae6673041d50f",
            "1fcab204c3ea43deb5d5cdd8a71ff356",
            "e035f9f5184d442c94aae78b54b7f995",
            "6dbeea310723415a8f8b6fc9273f4af1",
            "26a17c51b5684eddb3bed1e925275c9f",
            "ff443cd3af04495c9ffda8b8b75d2739",
            "0c9cf2c63a6a4d6a96343e508c83198d",
            "9d42bd2d3d6a4e0b824c7e17a2528dc8",
            "01c2e8e6638f476cbe58ebc1ae1e26ac",
            "3bf5241322864e5eb861715d886670d6",
            "02bf41c934d0450298446c45abb64e62",
            "1eb227a93e524f54918a08469ce542bb",
            "836302d06b124cfc9fcfa792a66d5a1b",
            "d1140b8ce6a546fba1b8213adac7a455",
            "17e85e42f175428797bc6ac3d93470d9",
            "9739620aa9634493a045e9978d792262",
            "afc1beaccf5d4491972ca0dda84df2ab",
            "a6994a389df24096a3f360179356434a",
            "9915c81af62649cfa6d7d75a00ced28b",
            "fc39930d337f45a3a1c6a87d87daf648",
            "7edbc3ed333f470d87faeb9758359931",
            "521e22fbd79e4249bd42b22d51746e13",
            "ffc7d853f4ac4fb69db4ce925e3cd5ca",
            "18d9e1aeec0c45afbc6af79bee3e590a",
            "338148526ae94e4bb054783d4c93974c",
            "65f17598313141a78666748e82238fd2",
            "ba826c0c7c064614a805797455682539",
            "faf79e40444e44949c1579bcb198d273",
            "a95e8dac6a8c49f3bcb21c3dc63493b6",
            "269e6389e262484eb12d03b24477d62d",
            "f68f167aceeb4a319e2d598c5162ee49",
            "b8ba59fb7dc347428f2fe603f97c72f2",
            "34a7690f51af4db380a2fca5f5a7c043",
            "b758bef739dd4126a9742aa0f59d1a32",
            "b9403c1dce3d42a1980adf6b5412b3ea",
            "c1f3ffd5e6054604b20ab2c92ad968b4",
            "423cbe49ae334b63bf221cf357e3d2d2",
            "4f9c0c9add594459a5ad7cebed6a3204",
            "5f67a1e9d2c4476e9c5c7ac2ebf0feed",
            "365dd4e52e92462792edb263a1b6569b"
          ]
        },
        "id": "aFRrG6PJL9HC",
        "outputId": "0bac8f71-e1f6-41a4-d2c1-3edbd389c045"
      },
      "execution_count": 41,
      "outputs": [
        {
          "output_type": "display_data",
          "data": {
            "text/plain": [
              "  0%|          | 0/5 [00:00<?, ?it/s]"
            ],
            "application/vnd.jupyter.widget-view+json": {
              "version_major": 2,
              "version_minor": 0,
              "model_id": "0a646073f39b4aeeb85e646ce0fc8a8c"
            }
          },
          "metadata": {}
        },
        {
          "output_type": "display_data",
          "data": {
            "text/plain": [
              "  0%|          | 0/1504 [00:00<?, ?it/s]"
            ],
            "application/vnd.jupyter.widget-view+json": {
              "version_major": 2,
              "version_minor": 0,
              "model_id": "1c3b31fe096343628179ef9792ba0f40"
            }
          },
          "metadata": {}
        },
        {
          "output_type": "display_data",
          "data": {
            "text/plain": [
              "  0%|          | 0/1504 [00:00<?, ?it/s]"
            ],
            "application/vnd.jupyter.widget-view+json": {
              "version_major": 2,
              "version_minor": 0,
              "model_id": "31b0cb9703a541a6bdc0126d0bc55f30"
            }
          },
          "metadata": {}
        },
        {
          "output_type": "display_data",
          "data": {
            "text/plain": [
              "  0%|          | 0/1504 [00:00<?, ?it/s]"
            ],
            "application/vnd.jupyter.widget-view+json": {
              "version_major": 2,
              "version_minor": 0,
              "model_id": "9d42bd2d3d6a4e0b824c7e17a2528dc8"
            }
          },
          "metadata": {}
        },
        {
          "output_type": "display_data",
          "data": {
            "text/plain": [
              "  0%|          | 0/1504 [00:00<?, ?it/s]"
            ],
            "application/vnd.jupyter.widget-view+json": {
              "version_major": 2,
              "version_minor": 0,
              "model_id": "9915c81af62649cfa6d7d75a00ced28b"
            }
          },
          "metadata": {}
        },
        {
          "output_type": "display_data",
          "data": {
            "text/plain": [
              "  0%|          | 0/1504 [00:00<?, ?it/s]"
            ],
            "application/vnd.jupyter.widget-view+json": {
              "version_major": 2,
              "version_minor": 0,
              "model_id": "269e6389e262484eb12d03b24477d62d"
            }
          },
          "metadata": {}
        }
      ]
    },
    {
      "cell_type": "code",
      "source": [
        "\n",
        "valid_loader = DataLoader(valid_set, batch_size=2048, shuffle=False, drop_last=False)\n",
        "threshold = 0.2\n",
        "validation_loss = []\n",
        "\n",
        "model.eval()\n",
        "# This changes model to evaluation mode\n",
        "# Some of the neural network module works differently depends on training or test\n",
        "# e.g. batch normalization, drop out \n",
        "\n",
        "with torch.inference_mode():\n",
        "  # the code under this inference mode will not calculate gradient\n",
        "\n",
        "  # We want to get mean loss for every sample in the validation set\n",
        "  total_loss = 0\n",
        "  num_total_samples = 0\n",
        "  total_acc = 0\n",
        "  for batch in tqdm(valid_loader, leave=False):\n",
        "    input_tensors, labels = batch\n",
        "    input_tensors = input_tensors.to(DEV)\n",
        "    labels = labels.to(DEV)\n",
        "    pred = model(input_tensors)\n",
        "    loss = get_binary_cross_entropy_loss(pred.squeeze(), labels.float())\n",
        "    loss = loss.sum()\n",
        "\n",
        "    total_loss += loss.item() # .item() changes tensor to float\n",
        "    num_total_samples += len(input_tensors)\n",
        "\n",
        "    total_acc += ((pred.squeeze()> threshold) == labels).sum()\n",
        "    # don't do loss.backward() because we won't update parameters during validation\n",
        "  validation_loss.append(total_loss / num_total_samples)\n",
        "  print(validation_loss[-1])\n",
        "  print(total_acc / num_total_samples)"
      ],
      "metadata": {
        "id": "OJ8Q8rrfEjG4",
        "outputId": "287cb126-4f7c-40dc-be6e-0c043002db92",
        "colab": {
          "base_uri": "https://localhost:8080/",
          "height": 53,
          "referenced_widgets": [
            "0aa5715dacc144088a6cba4887fc3997",
            "0b0dbfacfc6e41c2a31e5448c26c73e1",
            "682cb317d21b4aedac8424421a112820",
            "461f3acd52e1496f8d6e85410fb6ec68",
            "b765a3666268462a8d12f0baaa9276de",
            "60c46e172aac4205b00ad47dcbc08a21",
            "7d5805522d7b423d8bb941c3a6fc3d77",
            "dc74ca79d9034d6faaf2cb9d1bd9d053",
            "0a89cde2cf8f4244adbd98d8ce4b1170",
            "61b98eb813d5476e977c77d8661e5083",
            "aa48ac2d1a7346d8bb89b06de551956f"
          ]
        }
      },
      "execution_count": 42,
      "outputs": [
        {
          "output_type": "display_data",
          "data": {
            "text/plain": [
              "  0%|          | 0/95 [00:00<?, ?it/s]"
            ],
            "application/vnd.jupyter.widget-view+json": {
              "version_major": 2,
              "version_minor": 0,
              "model_id": "0aa5715dacc144088a6cba4887fc3997"
            }
          },
          "metadata": {}
        },
        {
          "output_type": "stream",
          "name": "stdout",
          "text": [
            "0.013393597776514062\n",
            "tensor(0.9939, device='cuda:0')\n"
          ]
        }
      ]
    },
    {
      "cell_type": "code",
      "source": [
        "total_pred = []\n",
        "total_label = []\n",
        "\n",
        "with torch.inference_mode():\n",
        "  for batch in test_loader:\n",
        "    x, y = batch\n",
        "    pred = model(x.to(DEV))\n",
        "    total_pred.append(pred.squeeze())\n",
        "    total_label.append(y)\n",
        "#     total_pred += pred.squeeze().tolist()\n",
        "#     total_label += y.tolist()\n",
        "\n",
        "# total_pred = torch.tensor(total_pred)\n",
        "# total_label = torch.tensor(total_label)\n",
        "\n",
        "total_pred = torch.cat(total_pred)\n",
        "total_label = torch.cat(total_label)"
      ],
      "metadata": {
        "id": "vBXAv9PvPyiD"
      },
      "execution_count": 55,
      "outputs": []
    },
    {
      "cell_type": "markdown",
      "source": [
        "# What is the difference between model.eval() and torch.inference_mode()\n",
        "\n",
        "- model.eval() changes the computation of some specific modules\n",
        "  - nn.Dropout()\n",
        "  - nn.BatchNorm2d\n",
        "\n",
        "- torch.inference_model()\n",
        "  - similar with torch.zero_grad()\n",
        "  - just don't calculate the gradient"
      ],
      "metadata": {
        "id": "GPFhxdXqSCBt"
      }
    },
    {
      "cell_type": "code",
      "source": [
        "total_pred.shape == total_label.shape"
      ],
      "metadata": {
        "id": "JkRLx7FRQRas",
        "outputId": "9fc73267-db60-4a49-bea2-e6c15f27e6d6",
        "colab": {
          "base_uri": "https://localhost:8080/"
        }
      },
      "execution_count": 59,
      "outputs": [
        {
          "output_type": "execute_result",
          "data": {
            "text/plain": [
              "True"
            ]
          },
          "metadata": {},
          "execution_count": 59
        }
      ]
    },
    {
      "cell_type": "code",
      "source": [
        "total_pred = total_pred.cpu()"
      ],
      "metadata": {
        "id": "w5FKzv6qRBG-"
      },
      "execution_count": 61,
      "outputs": []
    },
    {
      "cell_type": "code",
      "source": [
        "dummy_pred = torch.zeros_like(total_pred)"
      ],
      "metadata": {
        "id": "SDhOHF84RTiW"
      },
      "execution_count": 68,
      "outputs": []
    },
    {
      "cell_type": "code",
      "source": [
        "def get_acc(pred, label, threshold=0.5):\n",
        "  num_correct = torch.sum((pred > threshold) == label)\n",
        "  num_samples = len(label)\n",
        "\n",
        "  acc = num_correct / num_samples\n",
        "  return acc.item()\n",
        "\n",
        "get_acc(dummy_pred, total_label)"
      ],
      "metadata": {
        "id": "XIeBboLQQ4PQ",
        "outputId": "ad2ddcc5-5438-4a3a-90d3-d973d67f4e6c",
        "colab": {
          "base_uri": "https://localhost:8080/"
        }
      },
      "execution_count": 69,
      "outputs": [
        {
          "output_type": "execute_result",
          "data": {
            "text/plain": [
              "0.9550696611404419"
            ]
          },
          "metadata": {},
          "execution_count": 69
        }
      ]
    },
    {
      "cell_type": "code",
      "source": [
        "random_pred = torch.rand_like(total_pred)\n",
        "random_pred = random_pred"
      ],
      "metadata": {
        "id": "6n7xAHWCTlxj"
      },
      "execution_count": 74,
      "outputs": []
    },
    {
      "cell_type": "code",
      "source": [
        "# precision, recall\n",
        "threshold = 0.3\n",
        "\n",
        "# Precision is metric that shows how many things were correct among your positive prediction\n",
        "num_pos_pred = (total_pred > threshold).sum()\n",
        "num_true_positive = ((total_pred > threshold) * total_label).sum()\n",
        "# num_pos_pred, num_true_positive\n",
        "precision = num_true_positive / num_pos_pred\n",
        "precision"
      ],
      "metadata": {
        "id": "iz5NoHZJTPci",
        "outputId": "99ab5c43-78b4-4fb7-f3de-1a86c7bddfd2",
        "colab": {
          "base_uri": "https://localhost:8080/"
        }
      },
      "execution_count": 85,
      "outputs": [
        {
          "output_type": "execute_result",
          "data": {
            "text/plain": [
              "tensor(0.9387)"
            ]
          },
          "metadata": {},
          "execution_count": 85
        }
      ]
    },
    {
      "cell_type": "code",
      "source": [
        "# recall is metric that shows many Positive samples the model figured out\n",
        "\n",
        "num_pos_label = total_label.sum()\n",
        "recall = num_true_positive / num_pos_label\n",
        "recall"
      ],
      "metadata": {
        "id": "9NDLLKc1U6Tx",
        "outputId": "50edd013-a9b0-44c4-8c24-67334756a3b4",
        "colab": {
          "base_uri": "https://localhost:8080/"
        }
      },
      "execution_count": 86,
      "outputs": [
        {
          "output_type": "execute_result",
          "data": {
            "text/plain": [
              "tensor(0.9687)"
            ]
          },
          "metadata": {},
          "execution_count": 86
        }
      ]
    },
    {
      "cell_type": "code",
      "source": [
        "# pred[:10], labels[:10]\n",
        "threshold = 0.2\n",
        "thresholded_pred = pred.squeeze() > threshold\n",
        "acc = (thresholded_pred == labels).sum() / len(labels)\n",
        "acc"
      ],
      "metadata": {
        "id": "jogrK0DvG1o7",
        "outputId": "ee677734-ef0a-4b1d-c365-f3c911eb2535",
        "colab": {
          "base_uri": "https://localhost:8080/"
        }
      },
      "execution_count": 43,
      "outputs": [
        {
          "output_type": "execute_result",
          "data": {
            "text/plain": [
              "tensor(1., device='cuda:0')"
            ]
          },
          "metadata": {},
          "execution_count": 43
        }
      ]
    },
    {
      "cell_type": "code",
      "source": [
        "# "
      ],
      "metadata": {
        "id": "E7xKuXeHPqzb"
      },
      "execution_count": null,
      "outputs": []
    },
    {
      "cell_type": "code",
      "source": [
        "len(pred)"
      ],
      "metadata": {
        "id": "-ku2VEv-HRkc",
        "outputId": "90374716-aa50-4e3a-8e91-a9de7aa96b90",
        "colab": {
          "base_uri": "https://localhost:8080/"
        }
      },
      "execution_count": 44,
      "outputs": [
        {
          "output_type": "execute_result",
          "data": {
            "text/plain": [
              "75"
            ]
          },
          "metadata": {},
          "execution_count": 44
        }
      ]
    },
    {
      "cell_type": "code",
      "source": [
        "!nvidia-smi"
      ],
      "metadata": {
        "id": "MzOPlry1GSV0",
        "outputId": "2fd0811e-9cb9-458a-f22f-2b1338e4ef42",
        "colab": {
          "base_uri": "https://localhost:8080/"
        }
      },
      "execution_count": 45,
      "outputs": [
        {
          "output_type": "stream",
          "name": "stdout",
          "text": [
            "Thu Apr  6 06:19:31 2023       \n",
            "+-----------------------------------------------------------------------------+\n",
            "| NVIDIA-SMI 525.85.12    Driver Version: 525.85.12    CUDA Version: 12.0     |\n",
            "|-------------------------------+----------------------+----------------------+\n",
            "| GPU  Name        Persistence-M| Bus-Id        Disp.A | Volatile Uncorr. ECC |\n",
            "| Fan  Temp  Perf  Pwr:Usage/Cap|         Memory-Usage | GPU-Util  Compute M. |\n",
            "|                               |                      |               MIG M. |\n",
            "|===============================+======================+======================|\n",
            "|   0  Tesla T4            Off  | 00000000:00:04.0 Off |                    0 |\n",
            "| N/A   52C    P0    26W /  70W |    847MiB / 15360MiB |      1%      Default |\n",
            "|                               |                      |                  N/A |\n",
            "+-------------------------------+----------------------+----------------------+\n",
            "                                                                               \n",
            "+-----------------------------------------------------------------------------+\n",
            "| Processes:                                                                  |\n",
            "|  GPU   GI   CI        PID   Type   Process name                  GPU Memory |\n",
            "|        ID   ID                                                   Usage      |\n",
            "|=============================================================================|\n",
            "+-----------------------------------------------------------------------------+\n"
          ]
        }
      ]
    },
    {
      "cell_type": "code",
      "source": [
        "len(valid_loader.dataset)"
      ],
      "metadata": {
        "id": "Ie1b2s-tF44D",
        "outputId": "5e00ba88-9065-44b0-ae8e-7974dd820aec",
        "colab": {
          "base_uri": "https://localhost:8080/"
        }
      },
      "execution_count": 46,
      "outputs": [
        {
          "output_type": "execute_result",
          "data": {
            "text/plain": [
              "192587"
            ]
          },
          "metadata": {},
          "execution_count": 46
        }
      ]
    },
    {
      "cell_type": "code",
      "source": [
        "import matplotlib.pyplot as plt\n",
        "\n",
        "plt.plot(loss_record)\n",
        "# plt.plot(loss_record_wo_relu)"
      ],
      "metadata": {
        "id": "QVvPc7ezP-bk",
        "outputId": "db4348e1-d825-481c-f792-ade40f64fd5c",
        "colab": {
          "base_uri": "https://localhost:8080/",
          "height": 453
        }
      },
      "execution_count": 48,
      "outputs": [
        {
          "output_type": "execute_result",
          "data": {
            "text/plain": [
              "[<matplotlib.lines.Line2D at 0x7f0bda0645e0>]"
            ]
          },
          "metadata": {},
          "execution_count": 48
        },
        {
          "output_type": "display_data",
          "data": {
            "text/plain": [
              "<Figure size 640x480 with 1 Axes>"
            ],
            "image/png": "[encoded data removed]"
          },
          "metadata": {}
        }
      ]
    },
    {
      "cell_type": "code",
      "source": [
        "len(input_tensors)"
      ],
      "metadata": {
        "id": "dp-JysamQMT4"
      },
      "execution_count": null,
      "outputs": []
    },
    {
      "cell_type": "code",
      "source": [
        "torch.log(torch.tensor([1e-100]))"
      ],
      "metadata": {
        "id": "6jAYcwifLJDf"
      },
      "execution_count": null,
      "outputs": []
    },
    {
      "cell_type": "code",
      "source": [
        "# nan losses go back to your parameters by making nan grad, and nan weight\n",
        "model.layer1.weight.data"
      ],
      "metadata": {
        "id": "vmQ6yEzHOgE1"
      },
      "execution_count": null,
      "outputs": []
    }
  ],
  "metadata": {
    "kernelspec": {
      "display_name": "Python 3 (ipykernel)",
      "language": "python",
      "name": "python3"
    },
    "nbformat": 4,
    "nbformat_minor": 5,
    "colab": {
      "provenance": [],
      "include_colab_link": true
    },
    "accelerator": "GPU",
    "gpuClass": "standard",
    "widgets": {
      "application/vnd.jupyter.widget-state+json": {
        "0a646073f39b4aeeb85e646ce0fc8a8c": {
          "model_module": "@jupyter-widgets/controls",
          "model_name": "HBoxModel",
          "model_module_version": "1.5.0",
          "state": {
            "_dom_classes": [],
            "_model_module": "@jupyter-widgets/controls",
            "_model_module_version": "1.5.0",
            "_model_name": "HBoxModel",
            "_view_count": null,
            "_view_module": "@jupyter-widgets/controls",
            "_view_module_version": "1.5.0",
            "_view_name": "HBoxView",
            "box_style": "",
            "children": [
              "IPY_MODEL_eb8659ce4e2e4f7ea336bd57e714330a",
              "IPY_MODEL_920d0fdedae2403a8910a7ae0cf50a6e",
              "IPY_MODEL_d4ee957d42dd4a0aa9d0166959afa91f"
            ],
            "layout": "IPY_MODEL_9fd6d58ecd8d4d09af6c59e649b5c2a9"
          }
        },
        "eb8659ce4e2e4f7ea336bd57e714330a": {
          "model_module": "@jupyter-widgets/controls",
          "model_name": "HTMLModel",
          "model_module_version": "1.5.0",
          "state": {
            "_dom_classes": [],
            "_model_module": "@jupyter-widgets/controls",
            "_model_module_version": "1.5.0",
            "_model_name": "HTMLModel",
            "_view_count": null,
            "_view_module": "@jupyter-widgets/controls",
            "_view_module_version": "1.5.0",
            "_view_name": "HTMLView",
            "description": "",
            "description_tooltip": null,
            "layout": "IPY_MODEL_afe94416b7a14d79a49e59b7f647b3c4",
            "placeholder": "​",
            "style": "IPY_MODEL_a8e1b6bddedb41c0a18f879b40130779",
            "value": "100%"
          }
        },
        "920d0fdedae2403a8910a7ae0cf50a6e": {
          "model_module": "@jupyter-widgets/controls",
          "model_name": "FloatProgressModel",
          "model_module_version": "1.5.0",
          "state": {
            "_dom_classes": [],
            "_model_module": "@jupyter-widgets/controls",
            "_model_module_version": "1.5.0",
            "_model_name": "FloatProgressModel",
            "_view_count": null,
            "_view_module": "@jupyter-widgets/controls",
            "_view_module_version": "1.5.0",
            "_view_name": "ProgressView",
            "bar_style": "success",
            "description": "",
            "description_tooltip": null,
            "layout": "IPY_MODEL_67b71cdfab1b4141a47cd42d9d873ef1",
            "max": 5,
            "min": 0,
            "orientation": "horizontal",
            "style": "IPY_MODEL_8ed5e18843ba4479b3f5d75b8ac723d2",
            "value": 5
          }
        },
        "d4ee957d42dd4a0aa9d0166959afa91f": {
          "model_module": "@jupyter-widgets/controls",
          "model_name": "HTMLModel",
          "model_module_version": "1.5.0",
          "state": {
            "_dom_classes": [],
            "_model_module": "@jupyter-widgets/controls",
            "_model_module_version": "1.5.0",
            "_model_name": "HTMLModel",
            "_view_count": null,
            "_view_module": "@jupyter-widgets/controls",
            "_view_module_version": "1.5.0",
            "_view_name": "HTMLView",
            "description": "",
            "description_tooltip": null,
            "layout": "IPY_MODEL_264187bad6f047feb21cba073956d7d3",
            "placeholder": "​",
            "style": "IPY_MODEL_92e8565e639a4c20b895f0a4b548509e",
            "value": " 5/5 [00:50&lt;00:00,  9.72s/it]"
          }
        },
        "9fd6d58ecd8d4d09af6c59e649b5c2a9": {
          "model_module": "@jupyter-widgets/base",
          "model_name": "LayoutModel",
          "model_module_version": "1.2.0",
          "state": {
            "_model_module": "@jupyter-widgets/base",
            "_model_module_version": "1.2.0",
            "_model_name": "LayoutModel",
            "_view_count": null,
            "_view_module": "@jupyter-widgets/base",
            "_view_module_version": "1.2.0",
            "_view_name": "LayoutView",
            "align_content": null,
            "align_items": null,
            "align_self": null,
            "border": null,
            "bottom": null,
            "display": null,
            "flex": null,
            "flex_flow": null,
            "grid_area": null,
            "grid_auto_columns": null,
            "grid_auto_flow": null,
            "grid_auto_rows": null,
            "grid_column": null,
            "grid_gap": null,
            "grid_row": null,
            "grid_template_areas": null,
            "grid_template_columns": null,
            "grid_template_rows": null,
            "height": null,
            "justify_content": null,
            "justify_items": null,
            "left": null,
            "margin": null,
            "max_height": null,
            "max_width": null,
            "min_height": null,
            "min_width": null,
            "object_fit": null,
            "object_position": null,
            "order": null,
            "overflow": null,
            "overflow_x": null,
            "overflow_y": null,
            "padding": null,
            "right": null,
            "top": null,
            "visibility": null,
            "width": null
          }
        },
        "afe94416b7a14d79a49e59b7f647b3c4": {
          "model_module": "@jupyter-widgets/base",
          "model_name": "LayoutModel",
          "model_module_version": "1.2.0",
          "state": {
            "_model_module": "@jupyter-widgets/base",
            "_model_module_version": "1.2.0",
            "_model_name": "LayoutModel",
            "_view_count": null,
            "_view_module": "@jupyter-widgets/base",
            "_view_module_version": "1.2.0",
            "_view_name": "LayoutView",
            "align_content": null,
            "align_items": null,
            "align_self": null,
            "border": null,
            "bottom": null,
            "display": null,
            "flex": null,
            "flex_flow": null,
            "grid_area": null,
            "grid_auto_columns": null,
            "grid_auto_flow": null,
            "grid_auto_rows": null,
            "grid_column": null,
            "grid_gap": null,
            "grid_row": null,
            "grid_template_areas": null,
            "grid_template_columns": null,
            "grid_template_rows": null,
            "height": null,
            "justify_content": null,
            "justify_items": null,
            "left": null,
            "margin": null,
            "max_height": null,
            "max_width": null,
            "min_height": null,
            "min_width": null,
            "object_fit": null,
            "object_position": null,
            "order": null,
            "overflow": null,
            "overflow_x": null,
            "overflow_y": null,
            "padding": null,
            "right": null,
            "top": null,
            "visibility": null,
            "width": null
          }
        },
        "a8e1b6bddedb41c0a18f879b40130779": {
          "model_module": "@jupyter-widgets/controls",
          "model_name": "DescriptionStyleModel",
          "model_module_version": "1.5.0",
          "state": {
            "_model_module": "@jupyter-widgets/controls",
            "_model_module_version": "1.5.0",
            "_model_name": "DescriptionStyleModel",
            "_view_count": null,
            "_view_module": "@jupyter-widgets/base",
            "_view_module_version": "1.2.0",
            "_view_name": "StyleView",
            "description_width": ""
          }
        },
        "67b71cdfab1b4141a47cd42d9d873ef1": {
          "model_module": "@jupyter-widgets/base",
          "model_name": "LayoutModel",
          "model_module_version": "1.2.0",
          "state": {
            "_model_module": "@jupyter-widgets/base",
            "_model_module_version": "1.2.0",
            "_model_name": "LayoutModel",
            "_view_count": null,
            "_view_module": "@jupyter-widgets/base",
            "_view_module_version": "1.2.0",
            "_view_name": "LayoutView",
            "align_content": null,
            "align_items": null,
            "align_self": null,
            "border": null,
            "bottom": null,
            "display": null,
            "flex": null,
            "flex_flow": null,
            "grid_area": null,
            "grid_auto_columns": null,
            "grid_auto_flow": null,
            "grid_auto_rows": null,
            "grid_column": null,
            "grid_gap": null,
            "grid_row": null,
            "grid_template_areas": null,
            "grid_template_columns": null,
            "grid_template_rows": null,
            "height": null,
            "justify_content": null,
            "justify_items": null,
            "left": null,
            "margin": null,
            "max_height": null,
            "max_width": null,
            "min_height": null,
            "min_width": null,
            "object_fit": null,
            "object_position": null,
            "order": null,
            "overflow": null,
            "overflow_x": null,
            "overflow_y": null,
            "padding": null,
            "right": null,
            "top": null,
            "visibility": null,
            "width": null
          }
        },
        "8ed5e18843ba4479b3f5d75b8ac723d2": {
          "model_module": "@jupyter-widgets/controls",
          "model_name": "ProgressStyleModel",
          "model_module_version": "1.5.0",
          "state": {
            "_model_module": "@jupyter-widgets/controls",
            "_model_module_version": "1.5.0",
            "_model_name": "ProgressStyleModel",
            "_view_count": null,
            "_view_module": "@jupyter-widgets/base",
            "_view_module_version": "1.2.0",
            "_view_name": "StyleView",
            "bar_color": null,
            "description_width": ""
          }
        },
        "264187bad6f047feb21cba073956d7d3": {
          "model_module": "@jupyter-widgets/base",
          "model_name": "LayoutModel",
          "model_module_version": "1.2.0",
          "state": {
            "_model_module": "@jupyter-widgets/base",
            "_model_module_version": "1.2.0",
            "_model_name": "LayoutModel",
            "_view_count": null,
            "_view_module": "@jupyter-widgets/base",
            "_view_module_version": "1.2.0",
            "_view_name": "LayoutView",
            "align_content": null,
            "align_items": null,
            "align_self": null,
            "border": null,
            "bottom": null,
            "display": null,
            "flex": null,
            "flex_flow": null,
            "grid_area": null,
            "grid_auto_columns": null,
            "grid_auto_flow": null,
            "grid_auto_rows": null,
            "grid_column": null,
            "grid_gap": null,
            "grid_row": null,
            "grid_template_areas": null,
            "grid_template_columns": null,
            "grid_template_rows": null,
            "height": null,
            "justify_content": null,
            "justify_items": null,
            "left": null,
            "margin": null,
            "max_height": null,
            "max_width": null,
            "min_height": null,
            "min_width": null,
            "object_fit": null,
            "object_position": null,
            "order": null,
            "overflow": null,
            "overflow_x": null,
            "overflow_y": null,
            "padding": null,
            "right": null,
            "top": null,
            "visibility": null,
            "width": null
          }
        },
        "92e8565e639a4c20b895f0a4b548509e": {
          "model_module": "@jupyter-widgets/controls",
          "model_name": "DescriptionStyleModel",
          "model_module_version": "1.5.0",
          "state": {
            "_model_module": "@jupyter-widgets/controls",
            "_model_module_version": "1.5.0",
            "_model_name": "DescriptionStyleModel",
            "_view_count": null,
            "_view_module": "@jupyter-widgets/base",
            "_view_module_version": "1.2.0",
            "_view_name": "StyleView",
            "description_width": ""
          }
        },
        "1c3b31fe096343628179ef9792ba0f40": {
          "model_module": "@jupyter-widgets/controls",
          "model_name": "HBoxModel",
          "model_module_version": "1.5.0",
          "state": {
            "_dom_classes": [],
            "_model_module": "@jupyter-widgets/controls",
            "_model_module_version": "1.5.0",
            "_model_name": "HBoxModel",
            "_view_count": null,
            "_view_module": "@jupyter-widgets/controls",
            "_view_module_version": "1.5.0",
            "_view_name": "HBoxView",
            "box_style": "",
            "children": [
              "IPY_MODEL_f7233cd0ede64bb8a3d1d44d1e9cb440",
              "IPY_MODEL_74e394b7d3e54e61a7f5b4d4f1115801",
              "IPY_MODEL_6367dca124e9452b97d2a16a015b1f5e"
            ],
            "layout": "IPY_MODEL_83f03cf6cd464537a707b4eea56253c4"
          }
        },
        "f7233cd0ede64bb8a3d1d44d1e9cb440": {
          "model_module": "@jupyter-widgets/controls",
          "model_name": "HTMLModel",
          "model_module_version": "1.5.0",
          "state": {
            "_dom_classes": [],
            "_model_module": "@jupyter-widgets/controls",
            "_model_module_version": "1.5.0",
            "_model_name": "HTMLModel",
            "_view_count": null,
            "_view_module": "@jupyter-widgets/controls",
            "_view_module_version": "1.5.0",
            "_view_name": "HTMLView",
            "description": "",
            "description_tooltip": null,
            "layout": "IPY_MODEL_59c549d905e240c4adb456b548d7c4d2",
            "placeholder": "​",
            "style": "IPY_MODEL_0029bc9206494d6f80f1ae27442396a5",
            "value": " 99%"
          }
        },
        "74e394b7d3e54e61a7f5b4d4f1115801": {
          "model_module": "@jupyter-widgets/controls",
          "model_name": "FloatProgressModel",
          "model_module_version": "1.5.0",
          "state": {
            "_dom_classes": [],
            "_model_module": "@jupyter-widgets/controls",
            "_model_module_version": "1.5.0",
            "_model_name": "FloatProgressModel",
            "_view_count": null,
            "_view_module": "@jupyter-widgets/controls",
            "_view_module_version": "1.5.0",
            "_view_name": "ProgressView",
            "bar_style": "",
            "description": "",
            "description_tooltip": null,
            "layout": "IPY_MODEL_5440f0b09a2346fa81fb8dd5d0461a96",
            "max": 1504,
            "min": 0,
            "orientation": "horizontal",
            "style": "IPY_MODEL_d2e8e60284814026a586f0b3ad2c0b90",
            "value": 1504
          }
        },
        "6367dca124e9452b97d2a16a015b1f5e": {
          "model_module": "@jupyter-widgets/controls",
          "model_name": "HTMLModel",
          "model_module_version": "1.5.0",
          "state": {
            "_dom_classes": [],
            "_model_module": "@jupyter-widgets/controls",
            "_model_module_version": "1.5.0",
            "_model_name": "HTMLModel",
            "_view_count": null,
            "_view_module": "@jupyter-widgets/controls",
            "_view_module_version": "1.5.0",
            "_view_name": "HTMLView",
            "description": "",
            "description_tooltip": null,
            "layout": "IPY_MODEL_9984aae00bc44cdeb0ae53e8f4d85462",
            "placeholder": "​",
            "style": "IPY_MODEL_c806411a837548aeb3512ca908dc64b5",
            "value": " 1490/1504 [00:11&lt;00:00, 164.04it/s]"
          }
        },
        "83f03cf6cd464537a707b4eea56253c4": {
          "model_module": "@jupyter-widgets/base",
          "model_name": "LayoutModel",
          "model_module_version": "1.2.0",
          "state": {
            "_model_module": "@jupyter-widgets/base",
            "_model_module_version": "1.2.0",
            "_model_name": "LayoutModel",
            "_view_count": null,
            "_view_module": "@jupyter-widgets/base",
            "_view_module_version": "1.2.0",
            "_view_name": "LayoutView",
            "align_content": null,
            "align_items": null,
            "align_self": null,
            "border": null,
            "bottom": null,
            "display": null,
            "flex": null,
            "flex_flow": null,
            "grid_area": null,
            "grid_auto_columns": null,
            "grid_auto_flow": null,
            "grid_auto_rows": null,
            "grid_column": null,
            "grid_gap": null,
            "grid_row": null,
            "grid_template_areas": null,
            "grid_template_columns": null,
            "grid_template_rows": null,
            "height": null,
            "justify_content": null,
            "justify_items": null,
            "left": null,
            "margin": null,
            "max_height": null,
            "max_width": null,
            "min_height": null,
            "min_width": null,
            "object_fit": null,
            "object_position": null,
            "order": null,
            "overflow": null,
            "overflow_x": null,
            "overflow_y": null,
            "padding": null,
            "right": null,
            "top": null,
            "visibility": "hidden",
            "width": null
          }
        },
        "59c549d905e240c4adb456b548d7c4d2": {
          "model_module": "@jupyter-widgets/base",
          "model_name": "LayoutModel",
          "model_module_version": "1.2.0",
          "state": {
            "_model_module": "@jupyter-widgets/base",
            "_model_module_version": "1.2.0",
            "_model_name": "LayoutModel",
            "_view_count": null,
            "_view_module": "@jupyter-widgets/base",
            "_view_module_version": "1.2.0",
            "_view_name": "LayoutView",
            "align_content": null,
            "align_items": null,
            "align_self": null,
            "border": null,
            "bottom": null,
            "display": null,
            "flex": null,
            "flex_flow": null,
            "grid_area": null,
            "grid_auto_columns": null,
            "grid_auto_flow": null,
            "grid_auto_rows": null,
            "grid_column": null,
            "grid_gap": null,
            "grid_row": null,
            "grid_template_areas": null,
            "grid_template_columns": null,
            "grid_template_rows": null,
            "height": null,
            "justify_content": null,
            "justify_items": null,
            "left": null,
            "margin": null,
            "max_height": null,
            "max_width": null,
            "min_height": null,
            "min_width": null,
            "object_fit": null,
            "object_position": null,
            "order": null,
            "overflow": null,
            "overflow_x": null,
            "overflow_y": null,
            "padding": null,
            "right": null,
            "top": null,
            "visibility": null,
            "width": null
          }
        },
        "0029bc9206494d6f80f1ae27442396a5": {
          "model_module": "@jupyter-widgets/controls",
          "model_name": "DescriptionStyleModel",
          "model_module_version": "1.5.0",
          "state": {
            "_model_module": "@jupyter-widgets/controls",
            "_model_module_version": "1.5.0",
            "_model_name": "DescriptionStyleModel",
            "_view_count": null,
            "_view_module": "@jupyter-widgets/base",
            "_view_module_version": "1.2.0",
            "_view_name": "StyleView",
            "description_width": ""
          }
        },
        "5440f0b09a2346fa81fb8dd5d0461a96": {
          "model_module": "@jupyter-widgets/base",
          "model_name": "LayoutModel",
          "model_module_version": "1.2.0",
          "state": {
            "_model_module": "@jupyter-widgets/base",
            "_model_module_version": "1.2.0",
            "_model_name": "LayoutModel",
            "_view_count": null,
            "_view_module": "@jupyter-widgets/base",
            "_view_module_version": "1.2.0",
            "_view_name": "LayoutView",
            "align_content": null,
            "align_items": null,
            "align_self": null,
            "border": null,
            "bottom": null,
            "display": null,
            "flex": null,
            "flex_flow": null,
            "grid_area": null,
            "grid_auto_columns": null,
            "grid_auto_flow": null,
            "grid_auto_rows": null,
            "grid_column": null,
            "grid_gap": null,
            "grid_row": null,
            "grid_template_areas": null,
            "grid_template_columns": null,
            "grid_template_rows": null,
            "height": null,
            "justify_content": null,
            "justify_items": null,
            "left": null,
            "margin": null,
            "max_height": null,
            "max_width": null,
            "min_height": null,
            "min_width": null,
            "object_fit": null,
            "object_position": null,
            "order": null,
            "overflow": null,
            "overflow_x": null,
            "overflow_y": null,
            "padding": null,
            "right": null,
            "top": null,
            "visibility": null,
            "width": null
          }
        },
        "d2e8e60284814026a586f0b3ad2c0b90": {
          "model_module": "@jupyter-widgets/controls",
          "model_name": "ProgressStyleModel",
          "model_module_version": "1.5.0",
          "state": {
            "_model_module": "@jupyter-widgets/controls",
            "_model_module_version": "1.5.0",
            "_model_name": "ProgressStyleModel",
            "_view_count": null,
            "_view_module": "@jupyter-widgets/base",
            "_view_module_version": "1.2.0",
            "_view_name": "StyleView",
            "bar_color": null,
            "description_width": ""
          }
        },
        "9984aae00bc44cdeb0ae53e8f4d85462": {
          "model_module": "@jupyter-widgets/base",
          "model_name": "LayoutModel",
          "model_module_version": "1.2.0",
          "state": {
            "_model_module": "@jupyter-widgets/base",
            "_model_module_version": "1.2.0",
            "_model_name": "LayoutModel",
            "_view_count": null,
            "_view_module": "@jupyter-widgets/base",
            "_view_module_version": "1.2.0",
            "_view_name": "LayoutView",
            "align_content": null,
            "align_items": null,
            "align_self": null,
            "border": null,
            "bottom": null,
            "display": null,
            "flex": null,
            "flex_flow": null,
            "grid_area": null,
            "grid_auto_columns": null,
            "grid_auto_flow": null,
            "grid_auto_rows": null,
            "grid_column": null,
            "grid_gap": null,
            "grid_row": null,
            "grid_template_areas": null,
            "grid_template_columns": null,
            "grid_template_rows": null,
            "height": null,
            "justify_content": null,
            "justify_items": null,
            "left": null,
            "margin": null,
            "max_height": null,
            "max_width": null,
            "min_height": null,
            "min_width": null,
            "object_fit": null,
            "object_position": null,
            "order": null,
            "overflow": null,
            "overflow_x": null,
            "overflow_y": null,
            "padding": null,
            "right": null,
            "top": null,
            "visibility": null,
            "width": null
          }
        },
        "c806411a837548aeb3512ca908dc64b5": {
          "model_module": "@jupyter-widgets/controls",
          "model_name": "DescriptionStyleModel",
          "model_module_version": "1.5.0",
          "state": {
            "_model_module": "@jupyter-widgets/controls",
            "_model_module_version": "1.5.0",
            "_model_name": "DescriptionStyleModel",
            "_view_count": null,
            "_view_module": "@jupyter-widgets/base",
            "_view_module_version": "1.2.0",
            "_view_name": "StyleView",
            "description_width": ""
          }
        },
        "31b0cb9703a541a6bdc0126d0bc55f30": {
          "model_module": "@jupyter-widgets/controls",
          "model_name": "HBoxModel",
          "model_module_version": "1.5.0",
          "state": {
            "_dom_classes": [],
            "_model_module": "@jupyter-widgets/controls",
            "_model_module_version": "1.5.0",
            "_model_name": "HBoxModel",
            "_view_count": null,
            "_view_module": "@jupyter-widgets/controls",
            "_view_module_version": "1.5.0",
            "_view_name": "HBoxView",
            "box_style": "",
            "children": [
              "IPY_MODEL_1a0276df8f984a37a6cb2d80a8a570a1",
              "IPY_MODEL_e010226aec78470cb1d7f369a99efded",
              "IPY_MODEL_e469de56aa9d43c5ab4b6ab3d0f73809"
            ],
            "layout": "IPY_MODEL_544355f265a2487c832ae6673041d50f"
          }
        },
        "1a0276df8f984a37a6cb2d80a8a570a1": {
          "model_module": "@jupyter-widgets/controls",
          "model_name": "HTMLModel",
          "model_module_version": "1.5.0",
          "state": {
            "_dom_classes": [],
            "_model_module": "@jupyter-widgets/controls",
            "_model_module_version": "1.5.0",
            "_model_name": "HTMLModel",
            "_view_count": null,
            "_view_module": "@jupyter-widgets/controls",
            "_view_module_version": "1.5.0",
            "_view_name": "HTMLView",
            "description": "",
            "description_tooltip": null,
            "layout": "IPY_MODEL_1fcab204c3ea43deb5d5cdd8a71ff356",
            "placeholder": "​",
            "style": "IPY_MODEL_e035f9f5184d442c94aae78b54b7f995",
            "value": " 99%"
          }
        },
        "e010226aec78470cb1d7f369a99efded": {
          "model_module": "@jupyter-widgets/controls",
          "model_name": "FloatProgressModel",
          "model_module_version": "1.5.0",
          "state": {
            "_dom_classes": [],
            "_model_module": "@jupyter-widgets/controls",
            "_model_module_version": "1.5.0",
            "_model_name": "FloatProgressModel",
            "_view_count": null,
            "_view_module": "@jupyter-widgets/controls",
            "_view_module_version": "1.5.0",
            "_view_name": "ProgressView",
            "bar_style": "",
            "description": "",
            "description_tooltip": null,
            "layout": "IPY_MODEL_6dbeea310723415a8f8b6fc9273f4af1",
            "max": 1504,
            "min": 0,
            "orientation": "horizontal",
            "style": "IPY_MODEL_26a17c51b5684eddb3bed1e925275c9f",
            "value": 1504
          }
        },
        "e469de56aa9d43c5ab4b6ab3d0f73809": {
          "model_module": "@jupyter-widgets/controls",
          "model_name": "HTMLModel",
          "model_module_version": "1.5.0",
          "state": {
            "_dom_classes": [],
            "_model_module": "@jupyter-widgets/controls",
            "_model_module_version": "1.5.0",
            "_model_name": "HTMLModel",
            "_view_count": null,
            "_view_module": "@jupyter-widgets/controls",
            "_view_module_version": "1.5.0",
            "_view_name": "HTMLView",
            "description": "",
            "description_tooltip": null,
            "layout": "IPY_MODEL_ff443cd3af04495c9ffda8b8b75d2739",
            "placeholder": "​",
            "style": "IPY_MODEL_0c9cf2c63a6a4d6a96343e508c83198d",
            "value": " 1493/1504 [00:09&lt;00:00, 172.97it/s]"
          }
        },
        "544355f265a2487c832ae6673041d50f": {
          "model_module": "@jupyter-widgets/base",
          "model_name": "LayoutModel",
          "model_module_version": "1.2.0",
          "state": {
            "_model_module": "@jupyter-widgets/base",
            "_model_module_version": "1.2.0",
            "_model_name": "LayoutModel",
            "_view_count": null,
            "_view_module": "@jupyter-widgets/base",
            "_view_module_version": "1.2.0",
            "_view_name": "LayoutView",
            "align_content": null,
            "align_items": null,
            "align_self": null,
            "border": null,
            "bottom": null,
            "display": null,
            "flex": null,
            "flex_flow": null,
            "grid_area": null,
            "grid_auto_columns": null,
            "grid_auto_flow": null,
            "grid_auto_rows": null,
            "grid_column": null,
            "grid_gap": null,
            "grid_row": null,
            "grid_template_areas": null,
            "grid_template_columns": null,
            "grid_template_rows": null,
            "height": null,
            "justify_content": null,
            "justify_items": null,
            "left": null,
            "margin": null,
            "max_height": null,
            "max_width": null,
            "min_height": null,
            "min_width": null,
            "object_fit": null,
            "object_position": null,
            "order": null,
            "overflow": null,
            "overflow_x": null,
            "overflow_y": null,
            "padding": null,
            "right": null,
            "top": null,
            "visibility": "hidden",
            "width": null
          }
        },
        "1fcab204c3ea43deb5d5cdd8a71ff356": {
          "model_module": "@jupyter-widgets/base",
          "model_name": "LayoutModel",
          "model_module_version": "1.2.0",
          "state": {
            "_model_module": "@jupyter-widgets/base",
            "_model_module_version": "1.2.0",
            "_model_name": "LayoutModel",
            "_view_count": null,
            "_view_module": "@jupyter-widgets/base",
            "_view_module_version": "1.2.0",
            "_view_name": "LayoutView",
            "align_content": null,
            "align_items": null,
            "align_self": null,
            "border": null,
            "bottom": null,
            "display": null,
            "flex": null,
            "flex_flow": null,
            "grid_area": null,
            "grid_auto_columns": null,
            "grid_auto_flow": null,
            "grid_auto_rows": null,
            "grid_column": null,
            "grid_gap": null,
            "grid_row": null,
            "grid_template_areas": null,
            "grid_template_columns": null,
            "grid_template_rows": null,
            "height": null,
            "justify_content": null,
            "justify_items": null,
            "left": null,
            "margin": null,
            "max_height": null,
            "max_width": null,
            "min_height": null,
            "min_width": null,
            "object_fit": null,
            "object_position": null,
            "order": null,
            "overflow": null,
            "overflow_x": null,
            "overflow_y": null,
            "padding": null,
            "right": null,
            "top": null,
            "visibility": null,
            "width": null
          }
        },
        "e035f9f5184d442c94aae78b54b7f995": {
          "model_module": "@jupyter-widgets/controls",
          "model_name": "DescriptionStyleModel",
          "model_module_version": "1.5.0",
          "state": {
            "_model_module": "@jupyter-widgets/controls",
            "_model_module_version": "1.5.0",
            "_model_name": "DescriptionStyleModel",
            "_view_count": null,
            "_view_module": "@jupyter-widgets/base",
            "_view_module_version": "1.2.0",
            "_view_name": "StyleView",
            "description_width": ""
          }
        },
        "6dbeea310723415a8f8b6fc9273f4af1": {
          "model_module": "@jupyter-widgets/base",
          "model_name": "LayoutModel",
          "model_module_version": "1.2.0",
          "state": {
            "_model_module": "@jupyter-widgets/base",
            "_model_module_version": "1.2.0",
            "_model_name": "LayoutModel",
            "_view_count": null,
            "_view_module": "@jupyter-widgets/base",
            "_view_module_version": "1.2.0",
            "_view_name": "LayoutView",
            "align_content": null,
            "align_items": null,
            "align_self": null,
            "border": null,
            "bottom": null,
            "display": null,
            "flex": null,
            "flex_flow": null,
            "grid_area": null,
            "grid_auto_columns": null,
            "grid_auto_flow": null,
            "grid_auto_rows": null,
            "grid_column": null,
            "grid_gap": null,
            "grid_row": null,
            "grid_template_areas": null,
            "grid_template_columns": null,
            "grid_template_rows": null,
            "height": null,
            "justify_content": null,
            "justify_items": null,
            "left": null,
            "margin": null,
            "max_height": null,
            "max_width": null,
            "min_height": null,
            "min_width": null,
            "object_fit": null,
            "object_position": null,
            "order": null,
            "overflow": null,
            "overflow_x": null,
            "overflow_y": null,
            "padding": null,
            "right": null,
            "top": null,
            "visibility": null,
            "width": null
          }
        },
        "26a17c51b5684eddb3bed1e925275c9f": {
          "model_module": "@jupyter-widgets/controls",
          "model_name": "ProgressStyleModel",
          "model_module_version": "1.5.0",
          "state": {
            "_model_module": "@jupyter-widgets/controls",
            "_model_module_version": "1.5.0",
            "_model_name": "ProgressStyleModel",
            "_view_count": null,
            "_view_module": "@jupyter-widgets/base",
            "_view_module_version": "1.2.0",
            "_view_name": "StyleView",
            "bar_color": null,
            "description_width": ""
          }
        },
        "ff443cd3af04495c9ffda8b8b75d2739": {
          "model_module": "@jupyter-widgets/base",
          "model_name": "LayoutModel",
          "model_module_version": "1.2.0",
          "state": {
            "_model_module": "@jupyter-widgets/base",
            "_model_module_version": "1.2.0",
            "_model_name": "LayoutModel",
            "_view_count": null,
            "_view_module": "@jupyter-widgets/base",
            "_view_module_version": "1.2.0",
            "_view_name": "LayoutView",
            "align_content": null,
            "align_items": null,
            "align_self": null,
            "border": null,
            "bottom": null,
            "display": null,
            "flex": null,
            "flex_flow": null,
            "grid_area": null,
            "grid_auto_columns": null,
            "grid_auto_flow": null,
            "grid_auto_rows": null,
            "grid_column": null,
            "grid_gap": null,
            "grid_row": null,
            "grid_template_areas": null,
            "grid_template_columns": null,
            "grid_template_rows": null,
            "height": null,
            "justify_content": null,
            "justify_items": null,
            "left": null,
            "margin": null,
            "max_height": null,
            "max_width": null,
            "min_height": null,
            "min_width": null,
            "object_fit": null,
            "object_position": null,
            "order": null,
            "overflow": null,
            "overflow_x": null,
            "overflow_y": null,
            "padding": null,
            "right": null,
            "top": null,
            "visibility": null,
            "width": null
          }
        },
        "0c9cf2c63a6a4d6a96343e508c83198d": {
          "model_module": "@jupyter-widgets/controls",
          "model_name": "DescriptionStyleModel",
          "model_module_version": "1.5.0",
          "state": {
            "_model_module": "@jupyter-widgets/controls",
            "_model_module_version": "1.5.0",
            "_model_name": "DescriptionStyleModel",
            "_view_count": null,
            "_view_module": "@jupyter-widgets/base",
            "_view_module_version": "1.2.0",
            "_view_name": "StyleView",
            "description_width": ""
          }
        },
        "9d42bd2d3d6a4e0b824c7e17a2528dc8": {
          "model_module": "@jupyter-widgets/controls",
          "model_name": "HBoxModel",
          "model_module_version": "1.5.0",
          "state": {
            "_dom_classes": [],
            "_model_module": "@jupyter-widgets/controls",
            "_model_module_version": "1.5.0",
            "_model_name": "HBoxModel",
            "_view_count": null,
            "_view_module": "@jupyter-widgets/controls",
            "_view_module_version": "1.5.0",
            "_view_name": "HBoxView",
            "box_style": "",
            "children": [
              "IPY_MODEL_01c2e8e6638f476cbe58ebc1ae1e26ac",
              "IPY_MODEL_3bf5241322864e5eb861715d886670d6",
              "IPY_MODEL_02bf41c934d0450298446c45abb64e62"
            ],
            "layout": "IPY_MODEL_1eb227a93e524f54918a08469ce542bb"
          }
        },
        "01c2e8e6638f476cbe58ebc1ae1e26ac": {
          "model_module": "@jupyter-widgets/controls",
          "model_name": "HTMLModel",
          "model_module_version": "1.5.0",
          "state": {
            "_dom_classes": [],
            "_model_module": "@jupyter-widgets/controls",
            "_model_module_version": "1.5.0",
            "_model_name": "HTMLModel",
            "_view_count": null,
            "_view_module": "@jupyter-widgets/controls",
            "_view_module_version": "1.5.0",
            "_view_name": "HTMLView",
            "description": "",
            "description_tooltip": null,
            "layout": "IPY_MODEL_836302d06b124cfc9fcfa792a66d5a1b",
            "placeholder": "​",
            "style": "IPY_MODEL_d1140b8ce6a546fba1b8213adac7a455",
            "value": "100%"
          }
        },
        "3bf5241322864e5eb861715d886670d6": {
          "model_module": "@jupyter-widgets/controls",
          "model_name": "FloatProgressModel",
          "model_module_version": "1.5.0",
          "state": {
            "_dom_classes": [],
            "_model_module": "@jupyter-widgets/controls",
            "_model_module_version": "1.5.0",
            "_model_name": "FloatProgressModel",
            "_view_count": null,
            "_view_module": "@jupyter-widgets/controls",
            "_view_module_version": "1.5.0",
            "_view_name": "ProgressView",
            "bar_style": "",
            "description": "",
            "description_tooltip": null,
            "layout": "IPY_MODEL_17e85e42f175428797bc6ac3d93470d9",
            "max": 1504,
            "min": 0,
            "orientation": "horizontal",
            "style": "IPY_MODEL_9739620aa9634493a045e9978d792262",
            "value": 1504
          }
        },
        "02bf41c934d0450298446c45abb64e62": {
          "model_module": "@jupyter-widgets/controls",
          "model_name": "HTMLModel",
          "model_module_version": "1.5.0",
          "state": {
            "_dom_classes": [],
            "_model_module": "@jupyter-widgets/controls",
            "_model_module_version": "1.5.0",
            "_model_name": "HTMLModel",
            "_view_count": null,
            "_view_module": "@jupyter-widgets/controls",
            "_view_module_version": "1.5.0",
            "_view_name": "HTMLView",
            "description": "",
            "description_tooltip": null,
            "layout": "IPY_MODEL_afc1beaccf5d4491972ca0dda84df2ab",
            "placeholder": "​",
            "style": "IPY_MODEL_a6994a389df24096a3f360179356434a",
            "value": " 1499/1504 [00:09&lt;00:00, 166.55it/s]"
          }
        },
        "1eb227a93e524f54918a08469ce542bb": {
          "model_module": "@jupyter-widgets/base",
          "model_name": "LayoutModel",
          "model_module_version": "1.2.0",
          "state": {
            "_model_module": "@jupyter-widgets/base",
            "_model_module_version": "1.2.0",
            "_model_name": "LayoutModel",
            "_view_count": null,
            "_view_module": "@jupyter-widgets/base",
            "_view_module_version": "1.2.0",
            "_view_name": "LayoutView",
            "align_content": null,
            "align_items": null,
            "align_self": null,
            "border": null,
            "bottom": null,
            "display": null,
            "flex": null,
            "flex_flow": null,
            "grid_area": null,
            "grid_auto_columns": null,
            "grid_auto_flow": null,
            "grid_auto_rows": null,
            "grid_column": null,
            "grid_gap": null,
            "grid_row": null,
            "grid_template_areas": null,
            "grid_template_columns": null,
            "grid_template_rows": null,
            "height": null,
            "justify_content": null,
            "justify_items": null,
            "left": null,
            "margin": null,
            "max_height": null,
            "max_width": null,
            "min_height": null,
            "min_width": null,
            "object_fit": null,
            "object_position": null,
            "order": null,
            "overflow": null,
            "overflow_x": null,
            "overflow_y": null,
            "padding": null,
            "right": null,
            "top": null,
            "visibility": "hidden",
            "width": null
          }
        },
        "836302d06b124cfc9fcfa792a66d5a1b": {
          "model_module": "@jupyter-widgets/base",
          "model_name": "LayoutModel",
          "model_module_version": "1.2.0",
          "state": {
            "_model_module": "@jupyter-widgets/base",
            "_model_module_version": "1.2.0",
            "_model_name": "LayoutModel",
            "_view_count": null,
            "_view_module": "@jupyter-widgets/base",
            "_view_module_version": "1.2.0",
            "_view_name": "LayoutView",
            "align_content": null,
            "align_items": null,
            "align_self": null,
            "border": null,
            "bottom": null,
            "display": null,
            "flex": null,
            "flex_flow": null,
            "grid_area": null,
            "grid_auto_columns": null,
            "grid_auto_flow": null,
            "grid_auto_rows": null,
            "grid_column": null,
            "grid_gap": null,
            "grid_row": null,
            "grid_template_areas": null,
            "grid_template_columns": null,
            "grid_template_rows": null,
            "height": null,
            "justify_content": null,
            "justify_items": null,
            "left": null,
            "margin": null,
            "max_height": null,
            "max_width": null,
            "min_height": null,
            "min_width": null,
            "object_fit": null,
            "object_position": null,
            "order": null,
            "overflow": null,
            "overflow_x": null,
            "overflow_y": null,
            "padding": null,
            "right": null,
            "top": null,
            "visibility": null,
            "width": null
          }
        },
        "d1140b8ce6a546fba1b8213adac7a455": {
          "model_module": "@jupyter-widgets/controls",
          "model_name": "DescriptionStyleModel",
          "model_module_version": "1.5.0",
          "state": {
            "_model_module": "@jupyter-widgets/controls",
            "_model_module_version": "1.5.0",
            "_model_name": "DescriptionStyleModel",
            "_view_count": null,
            "_view_module": "@jupyter-widgets/base",
            "_view_module_version": "1.2.0",
            "_view_name": "StyleView",
            "description_width": ""
          }
        },
        "17e85e42f175428797bc6ac3d93470d9": {
          "model_module": "@jupyter-widgets/base",
          "model_name": "LayoutModel",
          "model_module_version": "1.2.0",
          "state": {
            "_model_module": "@jupyter-widgets/base",
            "_model_module_version": "1.2.0",
            "_model_name": "LayoutModel",
            "_view_count": null,
            "_view_module": "@jupyter-widgets/base",
            "_view_module_version": "1.2.0",
            "_view_name": "LayoutView",
            "align_content": null,
            "align_items": null,
            "align_self": null,
            "border": null,
            "bottom": null,
            "display": null,
            "flex": null,
            "flex_flow": null,
            "grid_area": null,
            "grid_auto_columns": null,
            "grid_auto_flow": null,
            "grid_auto_rows": null,
            "grid_column": null,
            "grid_gap": null,
            "grid_row": null,
            "grid_template_areas": null,
            "grid_template_columns": null,
            "grid_template_rows": null,
            "height": null,
            "justify_content": null,
            "justify_items": null,
            "left": null,
            "margin": null,
            "max_height": null,
            "max_width": null,
            "min_height": null,
            "min_width": null,
            "object_fit": null,
            "object_position": null,
            "order": null,
            "overflow": null,
            "overflow_x": null,
            "overflow_y": null,
            "padding": null,
            "right": null,
            "top": null,
            "visibility": null,
            "width": null
          }
        },
        "9739620aa9634493a045e9978d792262": {
          "model_module": "@jupyter-widgets/controls",
          "model_name": "ProgressStyleModel",
          "model_module_version": "1.5.0",
          "state": {
            "_model_module": "@jupyter-widgets/controls",
            "_model_module_version": "1.5.0",
            "_model_name": "ProgressStyleModel",
            "_view_count": null,
            "_view_module": "@jupyter-widgets/base",
            "_view_module_version": "1.2.0",
            "_view_name": "StyleView",
            "bar_color": null,
            "description_width": ""
          }
        },
        "afc1beaccf5d4491972ca0dda84df2ab": {
          "model_module": "@jupyter-widgets/base",
          "model_name": "LayoutModel",
          "model_module_version": "1.2.0",
          "state": {
            "_model_module": "@jupyter-widgets/base",
            "_model_module_version": "1.2.0",
            "_model_name": "LayoutModel",
            "_view_count": null,
            "_view_module": "@jupyter-widgets/base",
            "_view_module_version": "1.2.0",
            "_view_name": "LayoutView",
            "align_content": null,
            "align_items": null,
            "align_self": null,
            "border": null,
            "bottom": null,
            "display": null,
            "flex": null,
            "flex_flow": null,
            "grid_area": null,
            "grid_auto_columns": null,
            "grid_auto_flow": null,
            "grid_auto_rows": null,
            "grid_column": null,
            "grid_gap": null,
            "grid_row": null,
            "grid_template_areas": null,
            "grid_template_columns": null,
            "grid_template_rows": null,
            "height": null,
            "justify_content": null,
            "justify_items": null,
            "left": null,
            "margin": null,
            "max_height": null,
            "max_width": null,
            "min_height": null,
            "min_width": null,
            "object_fit": null,
            "object_position": null,
            "order": null,
            "overflow": null,
            "overflow_x": null,
            "overflow_y": null,
            "padding": null,
            "right": null,
            "top": null,
            "visibility": null,
            "width": null
          }
        },
        "a6994a389df24096a3f360179356434a": {
          "model_module": "@jupyter-widgets/controls",
          "model_name": "DescriptionStyleModel",
          "model_module_version": "1.5.0",
          "state": {
            "_model_module": "@jupyter-widgets/controls",
            "_model_module_version": "1.5.0",
            "_model_name": "DescriptionStyleModel",
            "_view_count": null,
            "_view_module": "@jupyter-widgets/base",
            "_view_module_version": "1.2.0",
            "_view_name": "StyleView",
            "description_width": ""
          }
        },
        "9915c81af62649cfa6d7d75a00ced28b": {
          "model_module": "@jupyter-widgets/controls",
          "model_name": "HBoxModel",
          "model_module_version": "1.5.0",
          "state": {
            "_dom_classes": [],
            "_model_module": "@jupyter-widgets/controls",
            "_model_module_version": "1.5.0",
            "_model_name": "HBoxModel",
            "_view_count": null,
            "_view_module": "@jupyter-widgets/controls",
            "_view_module_version": "1.5.0",
            "_view_name": "HBoxView",
            "box_style": "",
            "children": [
              "IPY_MODEL_fc39930d337f45a3a1c6a87d87daf648",
              "IPY_MODEL_7edbc3ed333f470d87faeb9758359931",
              "IPY_MODEL_521e22fbd79e4249bd42b22d51746e13"
            ],
            "layout": "IPY_MODEL_ffc7d853f4ac4fb69db4ce925e3cd5ca"
          }
        },
        "fc39930d337f45a3a1c6a87d87daf648": {
          "model_module": "@jupyter-widgets/controls",
          "model_name": "HTMLModel",
          "model_module_version": "1.5.0",
          "state": {
            "_dom_classes": [],
            "_model_module": "@jupyter-widgets/controls",
            "_model_module_version": "1.5.0",
            "_model_name": "HTMLModel",
            "_view_count": null,
            "_view_module": "@jupyter-widgets/controls",
            "_view_module_version": "1.5.0",
            "_view_name": "HTMLView",
            "description": "",
            "description_tooltip": null,
            "layout": "IPY_MODEL_18d9e1aeec0c45afbc6af79bee3e590a",
            "placeholder": "​",
            "style": "IPY_MODEL_338148526ae94e4bb054783d4c93974c",
            "value": "100%"
          }
        },
        "7edbc3ed333f470d87faeb9758359931": {
          "model_module": "@jupyter-widgets/controls",
          "model_name": "FloatProgressModel",
          "model_module_version": "1.5.0",
          "state": {
            "_dom_classes": [],
            "_model_module": "@jupyter-widgets/controls",
            "_model_module_version": "1.5.0",
            "_model_name": "FloatProgressModel",
            "_view_count": null,
            "_view_module": "@jupyter-widgets/controls",
            "_view_module_version": "1.5.0",
            "_view_name": "ProgressView",
            "bar_style": "",
            "description": "",
            "description_tooltip": null,
            "layout": "IPY_MODEL_65f17598313141a78666748e82238fd2",
            "max": 1504,
            "min": 0,
            "orientation": "horizontal",
            "style": "IPY_MODEL_ba826c0c7c064614a805797455682539",
            "value": 1504
          }
        },
        "521e22fbd79e4249bd42b22d51746e13": {
          "model_module": "@jupyter-widgets/controls",
          "model_name": "HTMLModel",
          "model_module_version": "1.5.0",
          "state": {
            "_dom_classes": [],
            "_model_module": "@jupyter-widgets/controls",
            "_model_module_version": "1.5.0",
            "_model_name": "HTMLModel",
            "_view_count": null,
            "_view_module": "@jupyter-widgets/controls",
            "_view_module_version": "1.5.0",
            "_view_name": "HTMLView",
            "description": "",
            "description_tooltip": null,
            "layout": "IPY_MODEL_faf79e40444e44949c1579bcb198d273",
            "placeholder": "​",
            "style": "IPY_MODEL_a95e8dac6a8c49f3bcb21c3dc63493b6",
            "value": " 1504/1504 [00:10&lt;00:00, 111.21it/s]"
          }
        },
        "ffc7d853f4ac4fb69db4ce925e3cd5ca": {
          "model_module": "@jupyter-widgets/base",
          "model_name": "LayoutModel",
          "model_module_version": "1.2.0",
          "state": {
            "_model_module": "@jupyter-widgets/base",
            "_model_module_version": "1.2.0",
            "_model_name": "LayoutModel",
            "_view_count": null,
            "_view_module": "@jupyter-widgets/base",
            "_view_module_version": "1.2.0",
            "_view_name": "LayoutView",
            "align_content": null,
            "align_items": null,
            "align_self": null,
            "border": null,
            "bottom": null,
            "display": null,
            "flex": null,
            "flex_flow": null,
            "grid_area": null,
            "grid_auto_columns": null,
            "grid_auto_flow": null,
            "grid_auto_rows": null,
            "grid_column": null,
            "grid_gap": null,
            "grid_row": null,
            "grid_template_areas": null,
            "grid_template_columns": null,
            "grid_template_rows": null,
            "height": null,
            "justify_content": null,
            "justify_items": null,
            "left": null,
            "margin": null,
            "max_height": null,
            "max_width": null,
            "min_height": null,
            "min_width": null,
            "object_fit": null,
            "object_position": null,
            "order": null,
            "overflow": null,
            "overflow_x": null,
            "overflow_y": null,
            "padding": null,
            "right": null,
            "top": null,
            "visibility": "hidden",
            "width": null
          }
        },
        "18d9e1aeec0c45afbc6af79bee3e590a": {
          "model_module": "@jupyter-widgets/base",
          "model_name": "LayoutModel",
          "model_module_version": "1.2.0",
          "state": {
            "_model_module": "@jupyter-widgets/base",
            "_model_module_version": "1.2.0",
            "_model_name": "LayoutModel",
            "_view_count": null,
            "_view_module": "@jupyter-widgets/base",
            "_view_module_version": "1.2.0",
            "_view_name": "LayoutView",
            "align_content": null,
            "align_items": null,
            "align_self": null,
            "border": null,
            "bottom": null,
            "display": null,
            "flex": null,
            "flex_flow": null,
            "grid_area": null,
            "grid_auto_columns": null,
            "grid_auto_flow": null,
            "grid_auto_rows": null,
            "grid_column": null,
            "grid_gap": null,
            "grid_row": null,
            "grid_template_areas": null,
            "grid_template_columns": null,
            "grid_template_rows": null,
            "height": null,
            "justify_content": null,
            "justify_items": null,
            "left": null,
            "margin": null,
            "max_height": null,
            "max_width": null,
            "min_height": null,
            "min_width": null,
            "object_fit": null,
            "object_position": null,
            "order": null,
            "overflow": null,
            "overflow_x": null,
            "overflow_y": null,
            "padding": null,
            "right": null,
            "top": null,
            "visibility": null,
            "width": null
          }
        },
        "338148526ae94e4bb054783d4c93974c": {
          "model_module": "@jupyter-widgets/controls",
          "model_name": "DescriptionStyleModel",
          "model_module_version": "1.5.0",
          "state": {
            "_model_module": "@jupyter-widgets/controls",
            "_model_module_version": "1.5.0",
            "_model_name": "DescriptionStyleModel",
            "_view_count": null,
            "_view_module": "@jupyter-widgets/base",
            "_view_module_version": "1.2.0",
            "_view_name": "StyleView",
            "description_width": ""
          }
        },
        "65f17598313141a78666748e82238fd2": {
          "model_module": "@jupyter-widgets/base",
          "model_name": "LayoutModel",
          "model_module_version": "1.2.0",
          "state": {
            "_model_module": "@jupyter-widgets/base",
            "_model_module_version": "1.2.0",
            "_model_name": "LayoutModel",
            "_view_count": null,
            "_view_module": "@jupyter-widgets/base",
            "_view_module_version": "1.2.0",
            "_view_name": "LayoutView",
            "align_content": null,
            "align_items": null,
            "align_self": null,
            "border": null,
            "bottom": null,
            "display": null,
            "flex": null,
            "flex_flow": null,
            "grid_area": null,
            "grid_auto_columns": null,
            "grid_auto_flow": null,
            "grid_auto_rows": null,
            "grid_column": null,
            "grid_gap": null,
            "grid_row": null,
            "grid_template_areas": null,
            "grid_template_columns": null,
            "grid_template_rows": null,
            "height": null,
            "justify_content": null,
            "justify_items": null,
            "left": null,
            "margin": null,
            "max_height": null,
            "max_width": null,
            "min_height": null,
            "min_width": null,
            "object_fit": null,
            "object_position": null,
            "order": null,
            "overflow": null,
            "overflow_x": null,
            "overflow_y": null,
            "padding": null,
            "right": null,
            "top": null,
            "visibility": null,
            "width": null
          }
        },
        "ba826c0c7c064614a805797455682539": {
          "model_module": "@jupyter-widgets/controls",
          "model_name": "ProgressStyleModel",
          "model_module_version": "1.5.0",
          "state": {
            "_model_module": "@jupyter-widgets/controls",
            "_model_module_version": "1.5.0",
            "_model_name": "ProgressStyleModel",
            "_view_count": null,
            "_view_module": "@jupyter-widgets/base",
            "_view_module_version": "1.2.0",
            "_view_name": "StyleView",
            "bar_color": null,
            "description_width": ""
          }
        },
        "faf79e40444e44949c1579bcb198d273": {
          "model_module": "@jupyter-widgets/base",
          "model_name": "LayoutModel",
          "model_module_version": "1.2.0",
          "state": {
            "_model_module": "@jupyter-widgets/base",
            "_model_module_version": "1.2.0",
            "_model_name": "LayoutModel",
            "_view_count": null,
            "_view_module": "@jupyter-widgets/base",
            "_view_module_version": "1.2.0",
            "_view_name": "LayoutView",
            "align_content": null,
            "align_items": null,
            "align_self": null,
            "border": null,
            "bottom": null,
            "display": null,
            "flex": null,
            "flex_flow": null,
            "grid_area": null,
            "grid_auto_columns": null,
            "grid_auto_flow": null,
            "grid_auto_rows": null,
            "grid_column": null,
            "grid_gap": null,
            "grid_row": null,
            "grid_template_areas": null,
            "grid_template_columns": null,
            "grid_template_rows": null,
            "height": null,
            "justify_content": null,
            "justify_items": null,
            "left": null,
            "margin": null,
            "max_height": null,
            "max_width": null,
            "min_height": null,
            "min_width": null,
            "object_fit": null,
            "object_position": null,
            "order": null,
            "overflow": null,
            "overflow_x": null,
            "overflow_y": null,
            "padding": null,
            "right": null,
            "top": null,
            "visibility": null,
            "width": null
          }
        },
        "a95e8dac6a8c49f3bcb21c3dc63493b6": {
          "model_module": "@jupyter-widgets/controls",
          "model_name": "DescriptionStyleModel",
          "model_module_version": "1.5.0",
          "state": {
            "_model_module": "@jupyter-widgets/controls",
            "_model_module_version": "1.5.0",
            "_model_name": "DescriptionStyleModel",
            "_view_count": null,
            "_view_module": "@jupyter-widgets/base",
            "_view_module_version": "1.2.0",
            "_view_name": "StyleView",
            "description_width": ""
          }
        },
        "269e6389e262484eb12d03b24477d62d": {
          "model_module": "@jupyter-widgets/controls",
          "model_name": "HBoxModel",
          "model_module_version": "1.5.0",
          "state": {
            "_dom_classes": [],
            "_model_module": "@jupyter-widgets/controls",
            "_model_module_version": "1.5.0",
            "_model_name": "HBoxModel",
            "_view_count": null,
            "_view_module": "@jupyter-widgets/controls",
            "_view_module_version": "1.5.0",
            "_view_name": "HBoxView",
            "box_style": "",
            "children": [
              "IPY_MODEL_f68f167aceeb4a319e2d598c5162ee49",
              "IPY_MODEL_b8ba59fb7dc347428f2fe603f97c72f2",
              "IPY_MODEL_34a7690f51af4db380a2fca5f5a7c043"
            ],
            "layout": "IPY_MODEL_b758bef739dd4126a9742aa0f59d1a32"
          }
        },
        "f68f167aceeb4a319e2d598c5162ee49": {
          "model_module": "@jupyter-widgets/controls",
          "model_name": "HTMLModel",
          "model_module_version": "1.5.0",
          "state": {
            "_dom_classes": [],
            "_model_module": "@jupyter-widgets/controls",
            "_model_module_version": "1.5.0",
            "_model_name": "HTMLModel",
            "_view_count": null,
            "_view_module": "@jupyter-widgets/controls",
            "_view_module_version": "1.5.0",
            "_view_name": "HTMLView",
            "description": "",
            "description_tooltip": null,
            "layout": "IPY_MODEL_b9403c1dce3d42a1980adf6b5412b3ea",
            "placeholder": "​",
            "style": "IPY_MODEL_c1f3ffd5e6054604b20ab2c92ad968b4",
            "value": "100%"
          }
        },
        "b8ba59fb7dc347428f2fe603f97c72f2": {
          "model_module": "@jupyter-widgets/controls",
          "model_name": "FloatProgressModel",
          "model_module_version": "1.5.0",
          "state": {
            "_dom_classes": [],
            "_model_module": "@jupyter-widgets/controls",
            "_model_module_version": "1.5.0",
            "_model_name": "FloatProgressModel",
            "_view_count": null,
            "_view_module": "@jupyter-widgets/controls",
            "_view_module_version": "1.5.0",
            "_view_name": "ProgressView",
            "bar_style": "",
            "description": "",
            "description_tooltip": null,
            "layout": "IPY_MODEL_423cbe49ae334b63bf221cf357e3d2d2",
            "max": 1504,
            "min": 0,
            "orientation": "horizontal",
            "style": "IPY_MODEL_4f9c0c9add594459a5ad7cebed6a3204",
            "value": 1504
          }
        },
        "34a7690f51af4db380a2fca5f5a7c043": {
          "model_module": "@jupyter-widgets/controls",
          "model_name": "HTMLModel",
          "model_module_version": "1.5.0",
          "state": {
            "_dom_classes": [],
            "_model_module": "@jupyter-widgets/controls",
            "_model_module_version": "1.5.0",
            "_model_name": "HTMLModel",
            "_view_count": null,
            "_view_module": "@jupyter-widgets/controls",
            "_view_module_version": "1.5.0",
            "_view_name": "HTMLView",
            "description": "",
            "description_tooltip": null,
            "layout": "IPY_MODEL_5f67a1e9d2c4476e9c5c7ac2ebf0feed",
            "placeholder": "​",
            "style": "IPY_MODEL_365dd4e52e92462792edb263a1b6569b",
            "value": " 1502/1504 [00:08&lt;00:00, 164.27it/s]"
          }
        },
        "b758bef739dd4126a9742aa0f59d1a32": {
          "model_module": "@jupyter-widgets/base",
          "model_name": "LayoutModel",
          "model_module_version": "1.2.0",
          "state": {
            "_model_module": "@jupyter-widgets/base",
            "_model_module_version": "1.2.0",
            "_model_name": "LayoutModel",
            "_view_count": null,
            "_view_module": "@jupyter-widgets/base",
            "_view_module_version": "1.2.0",
            "_view_name": "LayoutView",
            "align_content": null,
            "align_items": null,
            "align_self": null,
            "border": null,
            "bottom": null,
            "display": null,
            "flex": null,
            "flex_flow": null,
            "grid_area": null,
            "grid_auto_columns": null,
            "grid_auto_flow": null,
            "grid_auto_rows": null,
            "grid_column": null,
            "grid_gap": null,
            "grid_row": null,
            "grid_template_areas": null,
            "grid_template_columns": null,
            "grid_template_rows": null,
            "height": null,
            "justify_content": null,
            "justify_items": null,
            "left": null,
            "margin": null,
            "max_height": null,
            "max_width": null,
            "min_height": null,
            "min_width": null,
            "object_fit": null,
            "object_position": null,
            "order": null,
            "overflow": null,
            "overflow_x": null,
            "overflow_y": null,
            "padding": null,
            "right": null,
            "top": null,
            "visibility": "hidden",
            "width": null
          }
        },
        "b9403c1dce3d42a1980adf6b5412b3ea": {
          "model_module": "@jupyter-widgets/base",
          "model_name": "LayoutModel",
          "model_module_version": "1.2.0",
          "state": {
            "_model_module": "@jupyter-widgets/base",
            "_model_module_version": "1.2.0",
            "_model_name": "LayoutModel",
            "_view_count": null,
            "_view_module": "@jupyter-widgets/base",
            "_view_module_version": "1.2.0",
            "_view_name": "LayoutView",
            "align_content": null,
            "align_items": null,
            "align_self": null,
            "border": null,
            "bottom": null,
            "display": null,
            "flex": null,
            "flex_flow": null,
            "grid_area": null,
            "grid_auto_columns": null,
            "grid_auto_flow": null,
            "grid_auto_rows": null,
            "grid_column": null,
            "grid_gap": null,
            "grid_row": null,
            "grid_template_areas": null,
            "grid_template_columns": null,
            "grid_template_rows": null,
            "height": null,
            "justify_content": null,
            "justify_items": null,
            "left": null,
            "margin": null,
            "max_height": null,
            "max_width": null,
            "min_height": null,
            "min_width": null,
            "object_fit": null,
            "object_position": null,
            "order": null,
            "overflow": null,
            "overflow_x": null,
            "overflow_y": null,
            "padding": null,
            "right": null,
            "top": null,
            "visibility": null,
            "width": null
          }
        },
        "c1f3ffd5e6054604b20ab2c92ad968b4": {
          "model_module": "@jupyter-widgets/controls",
          "model_name": "DescriptionStyleModel",
          "model_module_version": "1.5.0",
          "state": {
            "_model_module": "@jupyter-widgets/controls",
            "_model_module_version": "1.5.0",
            "_model_name": "DescriptionStyleModel",
            "_view_count": null,
            "_view_module": "@jupyter-widgets/base",
            "_view_module_version": "1.2.0",
            "_view_name": "StyleView",
            "description_width": ""
          }
        },
        "423cbe49ae334b63bf221cf357e3d2d2": {
          "model_module": "@jupyter-widgets/base",
          "model_name": "LayoutModel",
          "model_module_version": "1.2.0",
          "state": {
            "_model_module": "@jupyter-widgets/base",
            "_model_module_version": "1.2.0",
            "_model_name": "LayoutModel",
            "_view_count": null,
            "_view_module": "@jupyter-widgets/base",
            "_view_module_version": "1.2.0",
            "_view_name": "LayoutView",
            "align_content": null,
            "align_items": null,
            "align_self": null,
            "border": null,
            "bottom": null,
            "display": null,
            "flex": null,
            "flex_flow": null,
            "grid_area": null,
            "grid_auto_columns": null,
            "grid_auto_flow": null,
            "grid_auto_rows": null,
            "grid_column": null,
            "grid_gap": null,
            "grid_row": null,
            "grid_template_areas": null,
            "grid_template_columns": null,
            "grid_template_rows": null,
            "height": null,
            "justify_content": null,
            "justify_items": null,
            "left": null,
            "margin": null,
            "max_height": null,
            "max_width": null,
            "min_height": null,
            "min_width": null,
            "object_fit": null,
            "object_position": null,
            "order": null,
            "overflow": null,
            "overflow_x": null,
            "overflow_y": null,
            "padding": null,
            "right": null,
            "top": null,
            "visibility": null,
            "width": null
          }
        },
        "4f9c0c9add594459a5ad7cebed6a3204": {
          "model_module": "@jupyter-widgets/controls",
          "model_name": "ProgressStyleModel",
          "model_module_version": "1.5.0",
          "state": {
            "_model_module": "@jupyter-widgets/controls",
            "_model_module_version": "1.5.0",
            "_model_name": "ProgressStyleModel",
            "_view_count": null,
            "_view_module": "@jupyter-widgets/base",
            "_view_module_version": "1.2.0",
            "_view_name": "StyleView",
            "bar_color": null,
            "description_width": ""
          }
        },
        "5f67a1e9d2c4476e9c5c7ac2ebf0feed": {
          "model_module": "@jupyter-widgets/base",
          "model_name": "LayoutModel",
          "model_module_version": "1.2.0",
          "state": {
            "_model_module": "@jupyter-widgets/base",
            "_model_module_version": "1.2.0",
            "_model_name": "LayoutModel",
            "_view_count": null,
            "_view_module": "@jupyter-widgets/base",
            "_view_module_version": "1.2.0",
            "_view_name": "LayoutView",
            "align_content": null,
            "align_items": null,
            "align_self": null,
            "border": null,
            "bottom": null,
            "display": null,
            "flex": null,
            "flex_flow": null,
            "grid_area": null,
            "grid_auto_columns": null,
            "grid_auto_flow": null,
            "grid_auto_rows": null,
            "grid_column": null,
            "grid_gap": null,
            "grid_row": null,
            "grid_template_areas": null,
            "grid_template_columns": null,
            "grid_template_rows": null,
            "height": null,
            "justify_content": null,
            "justify_items": null,
            "left": null,
            "margin": null,
            "max_height": null,
            "max_width": null,
            "min_height": null,
            "min_width": null,
            "object_fit": null,
            "object_position": null,
            "order": null,
            "overflow": null,
            "overflow_x": null,
            "overflow_y": null,
            "padding": null,
            "right": null,
            "top": null,
            "visibility": null,
            "width": null
          }
        },
        "365dd4e52e92462792edb263a1b6569b": {
          "model_module": "@jupyter-widgets/controls",
          "model_name": "DescriptionStyleModel",
          "model_module_version": "1.5.0",
          "state": {
            "_model_module": "@jupyter-widgets/controls",
            "_model_module_version": "1.5.0",
            "_model_name": "DescriptionStyleModel",
            "_view_count": null,
            "_view_module": "@jupyter-widgets/base",
            "_view_module_version": "1.2.0",
            "_view_name": "StyleView",
            "description_width": ""
          }
        },
        "0aa5715dacc144088a6cba4887fc3997": {
          "model_module": "@jupyter-widgets/controls",
          "model_name": "HBoxModel",
          "model_module_version": "1.5.0",
          "state": {
            "_dom_classes": [],
            "_model_module": "@jupyter-widgets/controls",
            "_model_module_version": "1.5.0",
            "_model_name": "HBoxModel",
            "_view_count": null,
            "_view_module": "@jupyter-widgets/controls",
            "_view_module_version": "1.5.0",
            "_view_name": "HBoxView",
            "box_style": "",
            "children": [
              "IPY_MODEL_0b0dbfacfc6e41c2a31e5448c26c73e1",
              "IPY_MODEL_682cb317d21b4aedac8424421a112820",
              "IPY_MODEL_461f3acd52e1496f8d6e85410fb6ec68"
            ],
            "layout": "IPY_MODEL_b765a3666268462a8d12f0baaa9276de"
          }
        },
        "0b0dbfacfc6e41c2a31e5448c26c73e1": {
          "model_module": "@jupyter-widgets/controls",
          "model_name": "HTMLModel",
          "model_module_version": "1.5.0",
          "state": {
            "_dom_classes": [],
            "_model_module": "@jupyter-widgets/controls",
            "_model_module_version": "1.5.0",
            "_model_name": "HTMLModel",
            "_view_count": null,
            "_view_module": "@jupyter-widgets/controls",
            "_view_module_version": "1.5.0",
            "_view_name": "HTMLView",
            "description": "",
            "description_tooltip": null,
            "layout": "IPY_MODEL_60c46e172aac4205b00ad47dcbc08a21",
            "placeholder": "​",
            "style": "IPY_MODEL_7d5805522d7b423d8bb941c3a6fc3d77",
            "value": " 98%"
          }
        },
        "682cb317d21b4aedac8424421a112820": {
          "model_module": "@jupyter-widgets/controls",
          "model_name": "FloatProgressModel",
          "model_module_version": "1.5.0",
          "state": {
            "_dom_classes": [],
            "_model_module": "@jupyter-widgets/controls",
            "_model_module_version": "1.5.0",
            "_model_name": "FloatProgressModel",
            "_view_count": null,
            "_view_module": "@jupyter-widgets/controls",
            "_view_module_version": "1.5.0",
            "_view_name": "ProgressView",
            "bar_style": "",
            "description": "",
            "description_tooltip": null,
            "layout": "IPY_MODEL_dc74ca79d9034d6faaf2cb9d1bd9d053",
            "max": 95,
            "min": 0,
            "orientation": "horizontal",
            "style": "IPY_MODEL_0a89cde2cf8f4244adbd98d8ce4b1170",
            "value": 95
          }
        },
        "461f3acd52e1496f8d6e85410fb6ec68": {
          "model_module": "@jupyter-widgets/controls",
          "model_name": "HTMLModel",
          "model_module_version": "1.5.0",
          "state": {
            "_dom_classes": [],
            "_model_module": "@jupyter-widgets/controls",
            "_model_module_version": "1.5.0",
            "_model_name": "HTMLModel",
            "_view_count": null,
            "_view_module": "@jupyter-widgets/controls",
            "_view_module_version": "1.5.0",
            "_view_name": "HTMLView",
            "description": "",
            "description_tooltip": null,
            "layout": "IPY_MODEL_61b98eb813d5476e977c77d8661e5083",
            "placeholder": "​",
            "style": "IPY_MODEL_aa48ac2d1a7346d8bb89b06de551956f",
            "value": " 93/95 [00:06&lt;00:00, 16.94it/s]"
          }
        },
        "b765a3666268462a8d12f0baaa9276de": {
          "model_module": "@jupyter-widgets/base",
          "model_name": "LayoutModel",
          "model_module_version": "1.2.0",
          "state": {
            "_model_module": "@jupyter-widgets/base",
            "_model_module_version": "1.2.0",
            "_model_name": "LayoutModel",
            "_view_count": null,
            "_view_module": "@jupyter-widgets/base",
            "_view_module_version": "1.2.0",
            "_view_name": "LayoutView",
            "align_content": null,
            "align_items": null,
            "align_self": null,
            "border": null,
            "bottom": null,
            "display": null,
            "flex": null,
            "flex_flow": null,
            "grid_area": null,
            "grid_auto_columns": null,
            "grid_auto_flow": null,
            "grid_auto_rows": null,
            "grid_column": null,
            "grid_gap": null,
            "grid_row": null,
            "grid_template_areas": null,
            "grid_template_columns": null,
            "grid_template_rows": null,
            "height": null,
            "justify_content": null,
            "justify_items": null,
            "left": null,
            "margin": null,
            "max_height": null,
            "max_width": null,
            "min_height": null,
            "min_width": null,
            "object_fit": null,
            "object_position": null,
            "order": null,
            "overflow": null,
            "overflow_x": null,
            "overflow_y": null,
            "padding": null,
            "right": null,
            "top": null,
            "visibility": "hidden",
            "width": null
          }
        },
        "60c46e172aac4205b00ad47dcbc08a21": {
          "model_module": "@jupyter-widgets/base",
          "model_name": "LayoutModel",
          "model_module_version": "1.2.0",
          "state": {
            "_model_module": "@jupyter-widgets/base",
            "_model_module_version": "1.2.0",
            "_model_name": "LayoutModel",
            "_view_count": null,
            "_view_module": "@jupyter-widgets/base",
            "_view_module_version": "1.2.0",
            "_view_name": "LayoutView",
            "align_content": null,
            "align_items": null,
            "align_self": null,
            "border": null,
            "bottom": null,
            "display": null,
            "flex": null,
            "flex_flow": null,
            "grid_area": null,
            "grid_auto_columns": null,
            "grid_auto_flow": null,
            "grid_auto_rows": null,
            "grid_column": null,
            "grid_gap": null,
            "grid_row": null,
            "grid_template_areas": null,
            "grid_template_columns": null,
            "grid_template_rows": null,
            "height": null,
            "justify_content": null,
            "justify_items": null,
            "left": null,
            "margin": null,
            "max_height": null,
            "max_width": null,
            "min_height": null,
            "min_width": null,
            "object_fit": null,
            "object_position": null,
            "order": null,
            "overflow": null,
            "overflow_x": null,
            "overflow_y": null,
            "padding": null,
            "right": null,
            "top": null,
            "visibility": null,
            "width": null
          }
        },
        "7d5805522d7b423d8bb941c3a6fc3d77": {
          "model_module": "@jupyter-widgets/controls",
          "model_name": "DescriptionStyleModel",
          "model_module_version": "1.5.0",
          "state": {
            "_model_module": "@jupyter-widgets/controls",
            "_model_module_version": "1.5.0",
            "_model_name": "DescriptionStyleModel",
            "_view_count": null,
            "_view_module": "@jupyter-widgets/base",
            "_view_module_version": "1.2.0",
            "_view_name": "StyleView",
            "description_width": ""
          }
        },
        "dc74ca79d9034d6faaf2cb9d1bd9d053": {
          "model_module": "@jupyter-widgets/base",
          "model_name": "LayoutModel",
          "model_module_version": "1.2.0",
          "state": {
            "_model_module": "@jupyter-widgets/base",
            "_model_module_version": "1.2.0",
            "_model_name": "LayoutModel",
            "_view_count": null,
            "_view_module": "@jupyter-widgets/base",
            "_view_module_version": "1.2.0",
            "_view_name": "LayoutView",
            "align_content": null,
            "align_items": null,
            "align_self": null,
            "border": null,
            "bottom": null,
            "display": null,
            "flex": null,
            "flex_flow": null,
            "grid_area": null,
            "grid_auto_columns": null,
            "grid_auto_flow": null,
            "grid_auto_rows": null,
            "grid_column": null,
            "grid_gap": null,
            "grid_row": null,
            "grid_template_areas": null,
            "grid_template_columns": null,
            "grid_template_rows": null,
            "height": null,
            "justify_content": null,
            "justify_items": null,
            "left": null,
            "margin": null,
            "max_height": null,
            "max_width": null,
            "min_height": null,
            "min_width": null,
            "object_fit": null,
            "object_position": null,
            "order": null,
            "overflow": null,
            "overflow_x": null,
            "overflow_y": null,
            "padding": null,
            "right": null,
            "top": null,
            "visibility": null,
            "width": null
          }
        },
        "0a89cde2cf8f4244adbd98d8ce4b1170": {
          "model_module": "@jupyter-widgets/controls",
          "model_name": "ProgressStyleModel",
          "model_module_version": "1.5.0",
          "state": {
            "_model_module": "@jupyter-widgets/controls",
            "_model_module_version": "1.5.0",
            "_model_name": "ProgressStyleModel",
            "_view_count": null,
            "_view_module": "@jupyter-widgets/base",
            "_view_module_version": "1.2.0",
            "_view_name": "StyleView",
            "bar_color": null,
            "description_width": ""
          }
        },
        "61b98eb813d5476e977c77d8661e5083": {
          "model_module": "@jupyter-widgets/base",
          "model_name": "LayoutModel",
          "model_module_version": "1.2.0",
          "state": {
            "_model_module": "@jupyter-widgets/base",
            "_model_module_version": "1.2.0",
            "_model_name": "LayoutModel",
            "_view_count": null,
            "_view_module": "@jupyter-widgets/base",
            "_view_module_version": "1.2.0",
            "_view_name": "LayoutView",
            "align_content": null,
            "align_items": null,
            "align_self": null,
            "border": null,
            "bottom": null,
            "display": null,
            "flex": null,
            "flex_flow": null,
            "grid_area": null,
            "grid_auto_columns": null,
            "grid_auto_flow": null,
            "grid_auto_rows": null,
            "grid_column": null,
            "grid_gap": null,
            "grid_row": null,
            "grid_template_areas": null,
            "grid_template_columns": null,
            "grid_template_rows": null,
            "height": null,
            "justify_content": null,
            "justify_items": null,
            "left": null,
            "margin": null,
            "max_height": null,
            "max_width": null,
            "min_height": null,
            "min_width": null,
            "object_fit": null,
            "object_position": null,
            "order": null,
            "overflow": null,
            "overflow_x": null,
            "overflow_y": null,
            "padding": null,
            "right": null,
            "top": null,
            "visibility": null,
            "width": null
          }
        },
        "aa48ac2d1a7346d8bb89b06de551956f": {
          "model_module": "@jupyter-widgets/controls",
          "model_name": "DescriptionStyleModel",
          "model_module_version": "1.5.0",
          "state": {
            "_model_module": "@jupyter-widgets/controls",
            "_model_module_version": "1.5.0",
            "_model_name": "DescriptionStyleModel",
            "_view_count": null,
            "_view_module": "@jupyter-widgets/base",
            "_view_module_version": "1.2.0",
            "_view_name": "StyleView",
            "description_width": ""
          }
        }
      }
    }
  },
  "nbformat": 4,
  "nbformat_minor": 0
}