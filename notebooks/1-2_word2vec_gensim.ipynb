{
 "cells": [
  {
   "attachments": {},
   "cell_type": "markdown",
   "metadata": {},
   "source": [
    "# Word2Vec Using Gensim\n",
    "- "
   ]
  },
  {
   "cell_type": "code",
   "execution_count": 1,
   "metadata": {},
   "outputs": [],
   "source": [
    "import string\n",
    "# import gensim\n",
    "from gensim.models import Word2Vec"
   ]
  },
  {
   "cell_type": "code",
   "execution_count": null,
   "metadata": {},
   "outputs": [],
   "source": [
    "!wget \"https://raw.githubusercontent.com/amephraim/nlp/master/texts/J.%20K.%20Rowling%20-%20Harry%20Potter%201%20-%20Sorcerer's%20Stone.txt\""
   ]
  },
  {
   "cell_type": "code",
   "execution_count": 2,
   "metadata": {},
   "outputs": [],
   "source": [
    "def remove_punctuation(x):\n",
    "  return x.translate(''.maketrans('', '', string.punctuation))\n",
    "\n",
    "def make_tokenized_corpus(corpus):\n",
    "  out= [ [y.lower() for y in remove_punctuation(sentence).split(' ') if y] for sentence in corpus]\n",
    "  return [x for x in out if x!=[]]\n",
    "\n",
    "\n",
    "with open(\"J. K. Rowling - Harry Potter 1 - Sorcerer's Stone.txt\", 'r') as f:\n",
    "  strings = f.readlines()\n",
    "sample_text = \"\".join(strings).replace('\\n', ' ').replace('Mr.', 'mr').replace('Mrs.', 'mrs').split('. ')\n",
    "corpus = make_tokenized_corpus(sample_text)\n"
   ]
  },
  {
   "cell_type": "code",
   "execution_count": 4,
   "metadata": {},
   "outputs": [
    {
     "data": {
      "text/plain": [
       "([['they',\n",
       "   'were',\n",
       "   'the',\n",
       "   'last',\n",
       "   'people',\n",
       "   'youd',\n",
       "   'expect',\n",
       "   'to',\n",
       "   'be',\n",
       "   'involved',\n",
       "   'in',\n",
       "   'anything',\n",
       "   'strange',\n",
       "   'or',\n",
       "   'mysterious',\n",
       "   'because',\n",
       "   'they',\n",
       "   'just',\n",
       "   'didnt',\n",
       "   'hold',\n",
       "   'with',\n",
       "   'such',\n",
       "   'nonsense'],\n",
       "  ['mr',\n",
       "   'dursley',\n",
       "   'was',\n",
       "   'the',\n",
       "   'director',\n",
       "   'of',\n",
       "   'a',\n",
       "   'firm',\n",
       "   'called',\n",
       "   'grunnings',\n",
       "   'which',\n",
       "   'made',\n",
       "   'drills'],\n",
       "  ['he',\n",
       "   'was',\n",
       "   'a',\n",
       "   'big',\n",
       "   'beefy',\n",
       "   'man',\n",
       "   'with',\n",
       "   'hardly',\n",
       "   'any',\n",
       "   'neck',\n",
       "   'although',\n",
       "   'he',\n",
       "   'did',\n",
       "   'have',\n",
       "   'a',\n",
       "   'very',\n",
       "   'large',\n",
       "   'mustache']],\n",
       " ['they',\n",
       "  'were',\n",
       "  'the',\n",
       "  'last',\n",
       "  'people',\n",
       "  'youd',\n",
       "  'expect',\n",
       "  'to',\n",
       "  'be',\n",
       "  'involved',\n",
       "  'in',\n",
       "  'anything',\n",
       "  'strange',\n",
       "  'or',\n",
       "  'mysterious',\n",
       "  'because',\n",
       "  'they',\n",
       "  'just',\n",
       "  'didnt',\n",
       "  'hold',\n",
       "  'with',\n",
       "  'such',\n",
       "  'nonsense'])"
      ]
     },
     "execution_count": 4,
     "metadata": {},
     "output_type": "execute_result"
    }
   ],
   "source": [
    "# To train a Word2Vec Model with gensim\n",
    "# we have to prepare a list of list of tokens (string)\n",
    "corpus[1:4], corpus[1]"
   ]
  },
  {
   "attachments": {},
   "cell_type": "markdown",
   "metadata": {},
   "source": [
    "## Word2Vec\n",
    "- [Official Gensim Tutorial](https://radimrehurek.com/gensim/auto_examples/tutorials/run_word2vec.html#)\n",
    "- [Word2Vec Documentation](https://radimrehurek.com/gensim/auto_examples/tutorials/run_word2vec.html#)"
   ]
  },
  {
   "cell_type": "code",
   "execution_count": 6,
   "metadata": {},
   "outputs": [],
   "source": [
    "from gensim.models import Word2Vec\n",
    "model = Word2Vec(sentences=corpus, vector_size=300, window=5, min_count=2, workers=4)"
   ]
  },
  {
   "cell_type": "code",
   "execution_count": 11,
   "metadata": {},
   "outputs": [
    {
     "data": {
      "text/plain": [
       "array([-0.11175118,  0.38084248,  0.2309713 ,  0.13699512,  0.0173031 ,\n",
       "       -0.4080946 ,  0.36763433,  0.73046917, -0.1336829 , -0.2589135 ,\n",
       "        0.3186602 , -0.4449905 , -0.0047572 ,  0.22067733, -0.26225093,\n",
       "       -0.36990026,  0.3042005 ,  0.05438385, -0.02382492, -0.11395051,\n",
       "       -0.08660161, -0.00817139,  0.1496931 ,  0.3350905 ,  0.1972837 ,\n",
       "       -0.09885366, -0.5156898 ,  0.5404417 , -0.18419611, -0.5519415 ,\n",
       "        0.03298729, -0.14756323,  0.24919361, -0.03679225, -0.02455198,\n",
       "        0.13120778,  0.31917244, -0.2705877 , -0.24654122,  0.0197273 ,\n",
       "       -0.3074011 , -0.00222992, -0.13860424, -0.15228681,  0.04527771,\n",
       "        0.14999881,  0.1803387 ,  0.08058421, -0.0785533 ,  0.26696742,\n",
       "        0.16902436,  0.13523383, -0.14318717,  0.07008291, -0.07884473,\n",
       "        0.12996408, -0.18436168,  0.04311198,  0.1797081 ,  0.05335096,\n",
       "       -0.09504565, -0.06009219,  0.05410175,  0.10963089, -0.05384047,\n",
       "        0.15150067,  0.08607435, -0.07152518, -0.0859345 ,  0.03213836,\n",
       "       -0.05485258,  0.19290024,  0.42390138, -0.4486926 ,  0.13868783,\n",
       "        0.28277197, -0.2658413 , -0.22007447, -0.11795191,  0.5588199 ,\n",
       "       -0.34330347, -0.21701953,  0.00650252,  0.7104799 , -0.03185025,\n",
       "        0.04138377, -0.34992644, -0.03736372,  0.31151733,  0.34343806,\n",
       "        0.3852839 , -0.14506757,  0.28386092,  0.06004136,  0.46316826,\n",
       "        0.48905194,  0.21354131, -0.02776502, -0.26403925,  0.09624558,\n",
       "        0.04129931,  0.08189054,  0.17217584,  0.11288764, -0.02645167,\n",
       "       -0.22394916, -0.20970364,  0.15779097, -0.5690854 ,  0.14185159,\n",
       "       -0.35371947,  0.09320358,  0.13161595,  0.21028297,  0.07934939,\n",
       "        0.35080004,  0.18870671,  0.17114572,  0.51148236, -0.3764177 ,\n",
       "        0.08285641,  0.16726303,  0.21995726, -0.217315  , -0.15136951,\n",
       "        0.09694798,  0.06419908, -0.22892694,  0.02963772,  0.34112328,\n",
       "        0.1376533 ,  0.4251878 ,  0.27222794, -0.45744023,  0.0644953 ,\n",
       "        0.16530378,  0.00114672, -0.1196399 , -0.40641576, -0.23548593,\n",
       "        0.20562659, -0.47167683, -0.39331132,  0.33846676,  0.1893902 ,\n",
       "       -0.25000423, -0.7024138 , -0.08838315,  0.16314684, -0.19548294,\n",
       "       -0.01500439, -0.5960768 , -0.20021082, -0.18344809,  0.06095126,\n",
       "        0.3108069 , -0.44265664, -0.24838658, -0.06289607,  0.63076705,\n",
       "        0.00309705,  0.28518313, -0.5517044 ,  0.50072503, -0.12711728,\n",
       "        0.23725042,  0.14243789,  0.08653808,  0.23148745,  0.6503022 ,\n",
       "       -0.28007635, -0.03558297,  0.18249173,  0.08935307, -0.05874577,\n",
       "        0.18752503, -0.09124365, -0.2318005 ,  0.03379951, -0.17175539,\n",
       "       -0.17846924,  0.26051673, -0.18366185,  0.00681649, -0.27677727,\n",
       "        0.12167671,  0.5401165 ,  0.4518082 ,  0.25321448, -0.18635324,\n",
       "        0.39098275,  0.05863217, -0.523767  ,  0.100861  ,  0.1321183 ,\n",
       "       -0.3099892 ,  0.13770862, -0.35295743,  0.0633023 , -0.05281403,\n",
       "       -0.2958476 ,  0.08174114, -0.05760949, -0.24859226,  0.13390526,\n",
       "       -0.34956062, -0.2208231 ,  0.23042658,  0.03803961, -0.36824396,\n",
       "        0.05366878, -0.30094764, -0.16882053, -0.1883313 ,  0.17899144,\n",
       "       -0.2716878 ,  0.05200584, -0.6492793 , -0.54764926, -0.56124884,\n",
       "        0.06030532,  0.16769677, -0.24940388, -0.27157322, -0.12608717,\n",
       "       -0.07708516, -0.11135741, -0.10772556, -0.26230145,  0.22238404,\n",
       "        0.08432809, -0.12666425, -0.16385354,  0.1364483 , -0.39509195,\n",
       "        0.35845175, -0.21716076,  0.05074997, -0.01614957, -0.33570707,\n",
       "        0.01055571,  0.00571865, -0.2132548 , -0.00725861, -0.005382  ,\n",
       "       -0.48306665,  0.01218868,  0.25275418,  0.09669331,  0.1785044 ,\n",
       "        0.04983651,  0.07513509,  0.15823768,  0.16546819, -0.37847212,\n",
       "       -0.26280323,  0.2873896 ,  0.32133284, -0.7891549 , -0.16284609,\n",
       "        0.23099212,  0.02137272,  0.10240304, -0.4493439 , -0.4443285 ,\n",
       "       -0.0899753 ,  0.4565128 ,  0.32939622, -0.5991586 ,  0.27447432,\n",
       "       -0.21218055, -0.07743493,  0.18244156, -0.23816793,  0.32144728,\n",
       "        0.06674255,  0.60274416,  0.24593358, -0.24551095, -0.17619714,\n",
       "        0.1344889 , -0.09493185, -0.14535965,  0.32763478, -0.12293977,\n",
       "       -0.02294686, -0.42996004,  0.3431367 ,  0.10800884,  0.3776143 ,\n",
       "        0.1752942 ,  0.46937594,  0.32376096,  0.20014335,  0.25071838,\n",
       "        0.48771137,  0.10387085, -0.02213378,  0.12354779, -0.21584585],\n",
       "      dtype=float32)"
      ]
     },
     "execution_count": 11,
     "metadata": {},
     "output_type": "execute_result"
    }
   ],
   "source": [
    "model.wv['harry']"
   ]
  },
  {
   "cell_type": "code",
   "execution_count": 15,
   "metadata": {},
   "outputs": [
    {
     "data": {
      "text/plain": [
       "[('hagrid', 0.9998672604560852),\n",
       " ('she', 0.9998652935028076),\n",
       " ('then', 0.9998337626457214),\n",
       " ('suddenly', 0.9998319745063782),\n",
       " ('up', 0.9998273849487305),\n",
       " ('him', 0.9998252391815186),\n",
       " ('neville', 0.9998252391815186),\n",
       " ('next', 0.9998238682746887),\n",
       " ('harrys', 0.9998229742050171),\n",
       " ('around', 0.9998199939727783)]"
      ]
     },
     "execution_count": 15,
     "metadata": {},
     "output_type": "execute_result"
    }
   ],
   "source": [
    "model.wv.most_similar(['harry', 'ron', 'hermione'], negative=['malfoy'])"
   ]
  },
  {
   "cell_type": "code",
   "execution_count": null,
   "metadata": {},
   "outputs": [],
   "source": [
    "model.wv."
   ]
  }
 ],
 "metadata": {
  "kernelspec": {
   "display_name": "aat3020-2023-E1AG9i7b",
   "language": "python",
   "name": "python3"
  },
  "language_info": {
   "codemirror_mode": {
    "name": "ipython",
    "version": 3
   },
   "file_extension": ".py",
   "mimetype": "text/x-python",
   "name": "python",
   "nbconvert_exporter": "python",
   "pygments_lexer": "ipython3",
   "version": "3.8.13"
  },
  "orig_nbformat": 4
 },
 "nbformat": 4,
 "nbformat_minor": 2
}
