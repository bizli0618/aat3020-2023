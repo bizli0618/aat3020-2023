{
 "cells": [
  {
   "attachments": {},
   "cell_type": "markdown",
   "metadata": {},
   "source": [
    "# Word2Vec Using Gensim\n",
    "- "
   ]
  },
  {
   "cell_type": "code",
   "execution_count": 3,
   "metadata": {},
   "outputs": [],
   "source": [
    "import string\n",
    "# import gensim\n",
    "from gensim.models import Word2Vec"
   ]
  },
  {
   "cell_type": "code",
   "execution_count": 2,
   "metadata": {},
   "outputs": [],
   "source": [
    "def remove_punctuation(x):\n",
    "  return x.translate(''.maketrans('', '', string.punctuation))\n",
    "\n",
    "def make_tokenized_corpus(corpus):\n",
    "  out= [ [y.lower() for y in remove_punctuation(sentence).split(' ') if y] for sentence in corpus]\n",
    "  return [x for x in out if x!=[]]\n",
    "\n",
    "\n",
    "with open(\"J. K. Rowling - Harry Potter 1 - Sorcerer's Stone.txt\", 'r') as f:\n",
    "  strings = f.readlines()\n",
    "sample_text = \"\".join(strings).replace('\\n', ' ').replace('Mr.', 'mr').replace('Mrs.', 'mrs').split('. ')\n",
    "corpus = make_tokenized_corpus(sample_text)\n"
   ]
  },
  {
   "cell_type": "code",
   "execution_count": 18,
   "metadata": {},
   "outputs": [
    {
     "data": {
      "text/plain": [
       "4686"
      ]
     },
     "execution_count": 18,
     "metadata": {},
     "output_type": "execute_result"
    }
   ],
   "source": [
    "len(sample_text)"
   ]
  },
  {
   "attachments": {},
   "cell_type": "markdown",
   "metadata": {},
   "source": [
    "## Word2Vec\n",
    "- [Official Gensim Tutorial](https://radimrehurek.com/gensim/auto_examples/tutorials/run_word2vec.html#)\n",
    "- [Word2Vec Documentation](https://radimrehurek.com/gensim/auto_examples/tutorials/run_word2vec.html#)"
   ]
  },
  {
   "cell_type": "code",
   "execution_count": 19,
   "metadata": {},
   "outputs": [],
   "source": [
    "model = Word2Vec(sentences=corpus, vector_size=100, window=5, min_count=2, workers=4)"
   ]
  },
  {
   "cell_type": "code",
   "execution_count": 21,
   "metadata": {},
   "outputs": [
    {
     "data": {
      "text/plain": [
       "[('she', 0.9997474551200867),\n",
       " ('hermione', 0.9997076392173767),\n",
       " ('again', 0.9996591806411743),\n",
       " ('one', 0.9996578097343445),\n",
       " ('harrys', 0.9996405839920044),\n",
       " ('hagrid', 0.9996398091316223),\n",
       " ('for', 0.9996278285980225),\n",
       " ('him', 0.999620258808136),\n",
       " ('ron', 0.9996175169944763),\n",
       " ('he', 0.9996083974838257)]"
      ]
     },
     "execution_count": 21,
     "metadata": {},
     "output_type": "execute_result"
    }
   ],
   "source": [
    "model.wv.most_similar('harry')"
   ]
  }
 ],
 "metadata": {
  "kernelspec": {
   "display_name": "aat3020-2023-E1AG9i7b",
   "language": "python",
   "name": "python3"
  },
  "language_info": {
   "codemirror_mode": {
    "name": "ipython",
    "version": 3
   },
   "file_extension": ".py",
   "mimetype": "text/x-python",
   "name": "python",
   "nbconvert_exporter": "python",
   "pygments_lexer": "ipython3",
   "version": "3.8.13"
  },
  "orig_nbformat": 4
 },
 "nbformat": 4,
 "nbformat_minor": 2
}
