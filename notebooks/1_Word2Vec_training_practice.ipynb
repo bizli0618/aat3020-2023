{
  "cells": [
    {
      "cell_type": "markdown",
      "id": "8e603bcb",
      "metadata": {
        "colab_type": "text",
        "id": "view-in-github"
      },
      "source": [
        "<a href=\"https://colab.research.google.com/github/jdasam/aat3020-2023/blob/main/notebooks/1_Word2Vec_training_practice.ipynb\" target=\"_parent\"><img src=\"https://colab.research.google.com/assets/colab-badge.svg\" alt=\"Open In Colab\"/></a>"
      ]
    },
    {
      "cell_type": "code",
      "execution_count": 1,
      "id": "12b8d45b",
      "metadata": {
        "id": "12b8d45b"
      },
      "outputs": [],
      "source": [
        "import torch\n",
        "import torch.nn as nn\n",
        "import string"
      ]
    },
    {
      "cell_type": "code",
      "execution_count": null,
      "id": "ebd23b43",
      "metadata": {
        "id": "ebd23b43",
        "outputId": "e2034f27-0f8d-48e0-dbd8-a88f7a919fe9",
        "scrolled": true
      },
      "outputs": [
        {
          "name": "stdout",
          "output_type": "stream",
          "text": [
            "--2023-03-14 14:37:18--  https://raw.githubusercontent.com/amephraim/nlp/master/texts/J.%20K.%20Rowling%20-%20Harry%20Potter%201%20-%20Sorcerer's%20Stone.txt\n",
            "Resolving raw.githubusercontent.com (raw.githubusercontent.com)... 185.199.108.133, 185.199.109.133, 185.199.111.133, ...\n",
            "Connecting to raw.githubusercontent.com (raw.githubusercontent.com)|185.199.108.133|:443... connected.\n",
            "HTTP request sent, awaiting response... 200 OK\n",
            "Length: 439742 (429K) [text/plain]\n",
            "Saving to: ‘J. K. Rowling - Harry Potter 1 - Sorcerer's Stone.txt.3’\n",
            "\n",
            "J. K. Rowling - Har 100%[===================>] 429.44K  --.-KB/s    in 0.05s   \n",
            "\n",
            "2023-03-14 14:37:18 (8.10 MB/s) - ‘J. K. Rowling - Harry Potter 1 - Sorcerer's Stone.txt.3’ saved [439742/439742]\n",
            "\n"
          ]
        }
      ],
      "source": [
        "!wget \"https://raw.githubusercontent.com/amephraim/nlp/master/texts/J.%20K.%20Rowling%20-%20Harry%20Potter%201%20-%20Sorcerer's%20Stone.txt\""
      ]
    },
    {
      "cell_type": "code",
      "execution_count": 2,
      "id": "867a7ee6",
      "metadata": {
        "id": "867a7ee6"
      },
      "outputs": [],
      "source": [
        "def remove_punctuation(x):\n",
        "  return x.translate(''.maketrans('', '', string.punctuation))\n",
        "\n",
        "def make_tokenized_corpus(corpus):\n",
        "  out= [ [y.lower() for y in remove_punctuation(sentence).split(' ') if y] for sentence in corpus]\n",
        "  return [x for x in out if x!=[]]"
      ]
    },
    {
      "cell_type": "code",
      "execution_count": 3,
      "id": "8b55ee99",
      "metadata": {
        "id": "8b55ee99"
      },
      "outputs": [],
      "source": [
        "with open(\"J. K. Rowling - Harry Potter 1 - Sorcerer's Stone.txt\", 'r') as f:\n",
        "  strings = f.readlines()\n",
        "sample_text = \"\".join(strings).replace('\\n', ' ').replace('Mr.', 'mr').replace('Mrs.', 'mrs').split('. ')\n"
      ]
    },
    {
      "cell_type": "code",
      "execution_count": 4,
      "id": "f6d40916",
      "metadata": {
        "id": "f6d40916",
        "outputId": "6954038f-5fcb-4bd4-a97a-e20e78839f3a"
      },
      "outputs": [
        {
          "data": {
            "text/plain": [
              "['they',\n",
              " 'were',\n",
              " 'the',\n",
              " 'last',\n",
              " 'people',\n",
              " 'youd',\n",
              " 'expect',\n",
              " 'to',\n",
              " 'be',\n",
              " 'involved',\n",
              " 'in',\n",
              " 'anything',\n",
              " 'strange',\n",
              " 'or',\n",
              " 'mysterious',\n",
              " 'because',\n",
              " 'they',\n",
              " 'just',\n",
              " 'didnt',\n",
              " 'hold',\n",
              " 'with',\n",
              " 'such',\n",
              " 'nonsense']"
            ]
          },
          "execution_count": 4,
          "metadata": {},
          "output_type": "execute_result"
        }
      ],
      "source": [
        "corpus = make_tokenized_corpus(sample_text)\n",
        "corpus[1]"
      ]
    },
    {
      "cell_type": "code",
      "execution_count": 5,
      "id": "3f6a08e1",
      "metadata": {
        "id": "3f6a08e1",
        "outputId": "0c43b2f9-e933-4b46-9f5c-ddc37a4ae8d3"
      },
      "outputs": [
        {
          "name": "stdout",
          "output_type": "stream",
          "text": [
            "Num entire unique words: 6038\n",
            "Num entire unique words after filtering: 3450\n"
          ]
        }
      ],
      "source": [
        "from collections import Counter\n",
        "\n",
        "def get_entire_words(corpus):\n",
        "  return sorted(list(set([y for x in corpus for y in x])))\n",
        "\n",
        "def word_to_idx(unique_word_list):\n",
        "  return {x:i for i, x in enumerate(unique_word_list)}\n",
        "\n",
        "entire_words = get_entire_words(corpus)\n",
        "print(f\"Num entire unique words: {len(entire_words)}\")\n",
        "# filter by min count\n",
        "word_counter = Counter([y for x in corpus for y in x])\n",
        "min_count = 2\n",
        "entire_words = [x for x in entire_words if word_counter[x] >= min_count]\n",
        "print(f\"Num entire unique words after filtering: {len(entire_words)}\")\n",
        "word_to_idx_dict = word_to_idx(entire_words)"
      ]
    },
    {
      "cell_type": "code",
      "execution_count": 87,
      "id": "d37905d5",
      "metadata": {
        "id": "d37905d5"
      },
      "outputs": [
        {
          "name": "stdout",
          "output_type": "stream",
          "text": [
            "383314\n"
          ]
        }
      ],
      "source": [
        "def make_word_pair(corpus, window_size=3):\n",
        "  pair_list = []\n",
        "  for sentence in corpus:\n",
        "    for i, word in enumerate(sentence):\n",
        "      if word not in word_to_idx_dict:\n",
        "          continue\n",
        "      for j in range(max(i-window_size, 0), min(i+window_size+1, len(sentence))):\n",
        "        if j==i:\n",
        "          continue\n",
        "        context_word = sentence[j]\n",
        "        if context_word not in word_to_idx_dict:\n",
        "          continue\n",
        "        pair_list.append((word, context_word))\n",
        "  return pair_list\n",
        "pair_list = make_word_pair(corpus)\n",
        "print(len(pair_list))"
      ]
    },
    {
      "cell_type": "code",
      "execution_count": 8,
      "id": "819966f6",
      "metadata": {},
      "outputs": [
        {
          "data": {
            "text/plain": [
              "('number', 'privet')"
            ]
          },
          "execution_count": 8,
          "metadata": {},
          "output_type": "execute_result"
        }
      ],
      "source": [
        "pair_list[100]"
      ]
    },
    {
      "cell_type": "code",
      "execution_count": 10,
      "id": "c7adb08c",
      "metadata": {
        "id": "c7adb08c"
      },
      "outputs": [
        {
          "data": {
            "text/plain": [
              "('who', ['one', 'the', 'boy', 'lived', 'mr', 'and'])"
            ]
          },
          "execution_count": 10,
          "metadata": {},
          "output_type": "execute_result"
        }
      ],
      "source": [
        "def make_word_pair_for_cbow(corpus, window_size=3):\n",
        "  pair_list = []\n",
        "  for sentence in corpus:\n",
        "    for i, word in enumerate(sentence):\n",
        "      context_words_for_wrd = []\n",
        "      for j in range(max(i-window_size, 0), min(i+window_size+1, len(sentence))):\n",
        "        if j==i:\n",
        "          continue\n",
        "        context_word = sentence[j]\n",
        "        context_words_for_wrd.append(context_word)\n",
        "      pair_list.append((word, context_words_for_wrd))\n",
        "  return pair_list\n",
        "# pair_list = make_word_pair_for_cbow(corpus)\n",
        "# pair_list[10]"
      ]
    },
    {
      "cell_type": "code",
      "execution_count": null,
      "id": "e7defa46",
      "metadata": {
        "id": "e7defa46",
        "outputId": "f193fdd8-8e7b-49aa-e2da-cdfc7bc19b40"
      },
      "outputs": [
        {
          "data": {
            "text/plain": [
              "[('harry', 'potter'),\n",
              " ('harry', 'and'),\n",
              " ('harry', 'the'),\n",
              " ('potter', 'harry'),\n",
              " ('potter', 'and'),\n",
              " ('potter', 'the'),\n",
              " ('potter', 'sorcerers'),\n",
              " ('and', 'harry'),\n",
              " ('and', 'potter'),\n",
              " ('and', 'the'),\n",
              " ('and', 'sorcerers'),\n",
              " ('and', 'stone'),\n",
              " ('the', 'harry'),\n",
              " ('the', 'potter'),\n",
              " ('the', 'and'),\n",
              " ('the', 'sorcerers'),\n",
              " ('the', 'stone'),\n",
              " ('the', 'chapter'),\n",
              " ('sorcerers', 'potter'),\n",
              " ('sorcerers', 'and')]"
            ]
          },
          "execution_count": 12,
          "metadata": {},
          "output_type": "execute_result"
        }
      ],
      "source": [
        "pair_list[:20]"
      ]
    },
    {
      "cell_type": "code",
      "execution_count": null,
      "id": "1b51aae4",
      "metadata": {
        "id": "1b51aae4",
        "outputId": "d4dc78f2-8319-443b-b442-cbbbb9f5501f"
      },
      "outputs": [
        {
          "data": {
            "text/plain": [
              "409784"
            ]
          },
          "execution_count": 13,
          "metadata": {},
          "output_type": "execute_result"
        }
      ],
      "source": [
        "len(pair_list)"
      ]
    },
    {
      "cell_type": "code",
      "execution_count": 102,
      "id": "806de36b",
      "metadata": {
        "id": "806de36b"
      },
      "outputs": [],
      "source": [
        "num_vocab = len(word_to_idx_dict)\n",
        "dim_emb = 6\n",
        "\n",
        "word_u_mat = torch.randn(num_vocab, dim_emb, requires_grad=True)\n",
        "word_v_mat = torch.randn(num_vocab, dim_emb, requires_grad=True)\n"
      ]
    },
    {
      "cell_type": "code",
      "execution_count": 20,
      "id": "2522821a",
      "metadata": {},
      "outputs": [
        {
          "data": {
            "text/plain": [
              "'zooming'"
            ]
          },
          "execution_count": 20,
          "metadata": {},
          "output_type": "execute_result"
        }
      ],
      "source": [
        "entire_words[-1]"
      ]
    },
    {
      "cell_type": "code",
      "execution_count": 23,
      "id": "5000223a",
      "metadata": {},
      "outputs": [
        {
          "data": {
            "text/plain": [
              "tensor([[     1.6696,      0.6810,     -0.2639,     -0.9322,     -0.8922,\n",
              "              1.1779],\n",
              "        [    -1.1988,      1.0616,      0.8675,     -1.3824,      1.5451,\n",
              "              1.6551],\n",
              "        [    -0.5214,     -2.4303,      1.1586,      0.3917,      1.2780,\n",
              "              0.8494],\n",
              "        ...,\n",
              "        [    -0.5584,     -0.3446,     -2.2134,     -0.3034,     -0.1180,\n",
              "             -0.5064],\n",
              "        [    -0.9883,      0.1926,     -0.3121,     -0.0298,      0.3613,\n",
              "              0.0003],\n",
              "        [     0.1171,     -0.7308,      1.2259,     -0.4610,     -0.5555,\n",
              "             -0.4505]], requires_grad=True)"
            ]
          },
          "execution_count": 23,
          "metadata": {},
          "output_type": "execute_result"
        }
      ],
      "source": [
        "# torch.set_printoptions(sci_mode=False)\n",
        "word_v_mat"
      ]
    },
    {
      "cell_type": "code",
      "execution_count": 46,
      "id": "720609ec",
      "metadata": {
        "id": "720609ec",
        "outputId": "01a7ebe8-26a8-422e-fd10-f0d00c0c6f04"
      },
      "outputs": [
        {
          "name": "stdout",
          "output_type": "stream",
          "text": [
            "('harry', 'potter')\n",
            "1328 2199\n"
          ]
        },
        {
          "data": {
            "text/plain": [
              "5.936393336014589e-06"
            ]
          },
          "execution_count": 46,
          "metadata": {},
          "output_type": "execute_result"
        }
      ],
      "source": [
        "pair = pair_list[0]\n",
        "print(pair)\n",
        "\n",
        "center_word = word_to_idx_dict[pair[0]]\n",
        "window_word = word_to_idx_dict[pair[1]]\n",
        "print(center_word, window_word)\n",
        "\n",
        "center_vec = word_v_mat[center_word]\n",
        "window_vec = word_u_mat[window_word]\n",
        "\n",
        "dot_product = (center_vec * window_vec).sum()\n",
        "\n",
        "on_entire_vocab = torch.mm(word_u_mat, center_vec.unsqueeze(1)) # torch.mm gets two tensors, both in 2Dim\n",
        "# on_entire_vocab.shape\n",
        "prob = torch.exp(dot_product) / torch.exp(on_entire_vocab).sum()\n",
        "prob.item()"
      ]
    },
    {
      "cell_type": "code",
      "execution_count": 98,
      "id": "231a6c91",
      "metadata": {},
      "outputs": [
        {
          "data": {
            "text/plain": [
              "tensor(10.6892, grad_fn=<DivBackward0>)"
            ]
          },
          "execution_count": 98,
          "metadata": {},
          "output_type": "execute_result"
        }
      ],
      "source": [
        "def get_prob_from_pair(pair):\n",
        "  center_word = word_to_idx_dict[pair[0]]\n",
        "  window_word = word_to_idx_dict[pair[1]]\n",
        "\n",
        "  center_vec = word_v_mat[center_word]\n",
        "  window_vec = word_u_mat[window_word]\n",
        "\n",
        "  dot_product = (center_vec * window_vec).sum()\n",
        "\n",
        "  on_entire_vocab = torch.mm(word_u_mat, center_vec.unsqueeze(1)) # torch.mm gets two tensors, both in 2Dim\n",
        "  prob = torch.exp(dot_product) / torch.exp(on_entire_vocab).sum()\n",
        "\n",
        "  return -(prob + 1e-7).log()\n",
        "\n",
        "# total_prob = 1\n",
        "total_log_prob = 0\n",
        "for pair in pair_list[:100]:\n",
        "  prob = get_prob_from_pair(pair)\n",
        "  # print(prob.item())\n",
        "  # total_prob *= prob\n",
        "  total_log_prob += prob\n",
        "# total_log_prob.item()\n",
        "total_log_prob /= 100\n",
        "total_log_prob\n",
        "\n",
        "# Now we want to minimize Negative Log-likelihood\n",
        "total_log_prob.backward()\n",
        "lr = 0.01\n",
        "word_u_mat.data = word_u_mat.data - word_u_mat.grad * lr \n",
        "word_u_mat.grad = None\n",
        "total_log_prob"
      ]
    },
    {
      "cell_type": "code",
      "execution_count": 94,
      "id": "84610449",
      "metadata": {},
      "outputs": [
        {
          "data": {
            "text/plain": [
              "tensor(-inf)"
            ]
          },
          "execution_count": 94,
          "metadata": {},
          "output_type": "execute_result"
        }
      ],
      "source": [
        "torch.log(torch.tensor(1e-10))"
      ]
    },
    {
      "cell_type": "code",
      "execution_count": 107,
      "id": "a16872b7",
      "metadata": {},
      "outputs": [
        {
          "data": {
            "application/vnd.jupyter.widget-view+json": {
              "model_id": "34ad44ad2f904fa68f8eb5218e9f9712",
              "version_major": 2,
              "version_minor": 0
            },
            "text/plain": [
              "  0%|          | 0/10000 [00:00<?, ?it/s]"
            ]
          },
          "metadata": {},
          "output_type": "display_data"
        },
        {
          "data": {
            "application/vnd.jupyter.widget-view+json": {
              "model_id": "290bec270632458ab4b20624eada31aa",
              "version_major": 2,
              "version_minor": 0
            },
            "text/plain": [
              "  0%|          | 0/10000 [00:00<?, ?it/s]"
            ]
          },
          "metadata": {},
          "output_type": "display_data"
        },
        {
          "data": {
            "application/vnd.jupyter.widget-view+json": {
              "model_id": "7a3dd4ceaf1044688697108ba1c64310",
              "version_major": 2,
              "version_minor": 0
            },
            "text/plain": [
              "  0%|          | 0/10000 [00:00<?, ?it/s]"
            ]
          },
          "metadata": {},
          "output_type": "display_data"
        },
        {
          "data": {
            "application/vnd.jupyter.widget-view+json": {
              "model_id": "e0308f6e689e4955bcc26c9390024c5a",
              "version_major": 2,
              "version_minor": 0
            },
            "text/plain": [
              "  0%|          | 0/10000 [00:00<?, ?it/s]"
            ]
          },
          "metadata": {},
          "output_type": "display_data"
        },
        {
          "data": {
            "application/vnd.jupyter.widget-view+json": {
              "model_id": "6934d17d51714c6a8eb4b8bdadbdd5e6",
              "version_major": 2,
              "version_minor": 0
            },
            "text/plain": [
              "  0%|          | 0/10000 [00:00<?, ?it/s]"
            ]
          },
          "metadata": {},
          "output_type": "display_data"
        }
      ],
      "source": [
        "from tqdm.auto import tqdm\n",
        "num_iter = 5\n",
        "loss_records = []\n",
        "lr = 0.001\n",
        "\n",
        "for i in range(num_iter):\n",
        "  total_log_prob = 0\n",
        "  for pair in tqdm(pair_list[:10000]):\n",
        "    prob = get_prob_from_pair(pair)\n",
        "    prob.backward()\n",
        "    word_u_mat.data = word_u_mat.data - word_u_mat.grad * lr \n",
        "    word_v_mat.data = word_v_mat.data - word_v_mat.grad * lr\n",
        "    word_u_mat.grad = None\n",
        "    word_v_mat.grad = None\n",
        "    loss_records.append(prob.item())\n"
      ]
    },
    {
      "cell_type": "code",
      "execution_count": null,
      "id": "39b8226b",
      "metadata": {},
      "outputs": [],
      "source": []
    },
    {
      "cell_type": "code",
      "execution_count": 108,
      "id": "5b5755d4",
      "metadata": {},
      "outputs": [
        {
          "data": {
            "text/plain": [
              "[<matplotlib.lines.Line2D at 0x7f47c4a632b0>]"
            ]
          },
          "execution_count": 108,
          "metadata": {},
          "output_type": "execute_result"
        },
        {
          "data": {
            "image/png": "[encoded data removed]",
            "text/plain": [
              "<Figure size 432x288 with 1 Axes>"
            ]
          },
          "metadata": {
            "needs_background": "light"
          },
          "output_type": "display_data"
        }
      ],
      "source": [
        "import matplotlib.pyplot as plt\n",
        "\n",
        "plt.plot(loss_records)"
      ]
    },
    {
      "cell_type": "code",
      "execution_count": 109,
      "id": "9e2e41e3",
      "metadata": {},
      "outputs": [
        {
          "data": {
            "text/plain": [
              "8.998295881476402"
            ]
          },
          "execution_count": 109,
          "metadata": {},
          "output_type": "execute_result"
        }
      ],
      "source": [
        "sum(loss_records) / len(loss_records)"
      ]
    },
    {
      "cell_type": "code",
      "execution_count": 60,
      "id": "17584242",
      "metadata": {},
      "outputs": [],
      "source": [
        "total_log_prob.backward()"
      ]
    },
    {
      "cell_type": "code",
      "execution_count": 64,
      "id": "30927162",
      "metadata": {},
      "outputs": [],
      "source": [
        "lr = 1e-3 # 0.001\n",
        "word_u_mat.data = word_u_mat.data - word_u_mat.grad * lr \n",
        "word_u_mat.grad = None"
      ]
    },
    {
      "cell_type": "code",
      "execution_count": 47,
      "id": "cc8ab67b",
      "metadata": {},
      "outputs": [
        {
          "data": {
            "text/plain": [
              "0.0002898550724637681"
            ]
          },
          "execution_count": 47,
          "metadata": {},
          "output_type": "execute_result"
        }
      ],
      "source": [
        "1 / len(entire_words)"
      ]
    },
    {
      "cell_type": "code",
      "execution_count": 42,
      "id": "37b83491",
      "metadata": {},
      "outputs": [
        {
          "data": {
            "text/plain": [
              "tensor([[    0.0135],\n",
              "        [    0.0001],\n",
              "        [    0.0034],\n",
              "        [    0.0019],\n",
              "        [    0.0347],\n",
              "        [    0.0554],\n",
              "        [    0.8496],\n",
              "        [    0.0062],\n",
              "        [    0.0337],\n",
              "        [    0.0014]], grad_fn=<DivBackward0>)"
            ]
          },
          "execution_count": 42,
          "metadata": {},
          "output_type": "execute_result"
        }
      ],
      "source": [
        "example  =on_entire_vocab[:10]\n",
        "example\n",
        "exp_val = example.exp()\n",
        "sum_exp_val = exp_val.sum()\n",
        "softmax_val = exp_val / sum_exp_val\n",
        "softmax_val "
      ]
    },
    {
      "cell_type": "code",
      "execution_count": 28,
      "id": "51f3e5ea",
      "metadata": {},
      "outputs": [
        {
          "data": {
            "text/plain": [
              "(torch.Size([3450, 6]), torch.Size([6]))"
            ]
          },
          "execution_count": 28,
          "metadata": {},
          "output_type": "execute_result"
        }
      ],
      "source": [
        "word_u_mat.shape, center_vec.shape"
      ]
    },
    {
      "cell_type": "code",
      "execution_count": null,
      "id": "e6485c8f",
      "metadata": {
        "id": "e6485c8f",
        "outputId": "ba807d7a-8180-4ce6-ca0e-80bd94aefbe4"
      },
      "outputs": [
        {
          "name": "stderr",
          "output_type": "stream",
          "text": [
            "0it [00:00, ?it/s]\n"
          ]
        }
      ],
      "source": [
        "from tqdm import tqdm\n",
        "total_log_prob = 0\n",
        "for i, pair in tqdm(enumerate(pair_list)):\n",
        "  center_word = word_to_idx_dict[pair[0]]\n",
        "  window_word = word_to_idx_dict[pair[1]]\n",
        "\n",
        "  center_vec = word_v_mat[center_word]\n",
        "  window_vec = word_u_mat[window_word]\n",
        "\n",
        "  dot_product = (center_vec * window_vec).sum()\n",
        "\n",
        "  on_entire_vocab = torch.matmul(center_vec, word_u_mat.T)\n",
        "  prob = torch.exp(dot_product) / torch.exp(on_entire_vocab).sum(0)\n",
        "  log_prob = -torch.log(prob+1e-8)\n",
        "  total_log_prob += log_prob.item()\n",
        "  break\n",
        "total_log_prob /= len(pair_list)"
      ]
    }
  ],
  "metadata": {
    "colab": {
      "include_colab_link": true,
      "provenance": []
    },
    "kernelspec": {
      "display_name": "Python 3 (ipykernel)",
      "language": "python",
      "name": "python3"
    },
    "language_info": {
      "codemirror_mode": {
        "name": "ipython",
        "version": 3
      },
      "file_extension": ".py",
      "mimetype": "text/x-python",
      "name": "python",
      "nbconvert_exporter": "python",
      "pygments_lexer": "ipython3",
      "version": "3.8.10"
    }
  },
  "nbformat": 4,
  "nbformat_minor": 5
}
